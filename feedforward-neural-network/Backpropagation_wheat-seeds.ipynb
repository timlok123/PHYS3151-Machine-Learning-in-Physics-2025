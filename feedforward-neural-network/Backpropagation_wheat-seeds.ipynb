{
  "cells": [
    {
      "cell_type": "markdown",
      "metadata": {
        "id": "view-in-github",
        "colab_type": "text"
      },
      "source": [
        "<a href=\"https://colab.research.google.com/github/DavidGoing/PHYS3151-Machine-Learning-in-Physics-2024/blob/main/feedforward-neural-network/Backpropagation_wheat-seeds.ipynb\" target=\"_parent\"><img src=\"https://colab.research.google.com/assets/colab-badge.svg\" alt=\"Open In Colab\"/></a>"
      ]
    },
    {
      "cell_type": "code",
      "execution_count": 1,
      "metadata": {
        "id": "t0ZmERAxlH30"
      },
      "outputs": [],
      "source": [
        "# https://machinelearningmastery.com/implement-backpropagation-algorithm-scratch-python/\n",
        "# Initialize a network\n",
        "# n_inputs: the number of inputs\n",
        "# n_hidden: the number of neurons in hidden layer, each neuron has n_inputs+1 weights\n",
        "# n_outputs: the number of outputs, each neuron has n_hidden+1 weights\n",
        "def initialize_network(n_inputs, n_hidden, n_outputs):\n",
        "    network = list()\n",
        "    hidden_layer = [{'weights':[random() for i in range(n_inputs +1)]} for i in range(n_hidden)]\n",
        "    network.append(hidden_layer)\n",
        "    output_layer = [{'weights':[random() for i in range(n_hidden +1)]} for i in range(n_outputs)]\n",
        "    network.append(output_layer)\n",
        "    return network"
      ]
    },
    {
      "cell_type": "code",
      "execution_count": 2,
      "metadata": {
        "id": "Lbd99X-ElH32",
        "outputId": "d0f4bc25-2da1-4720-86a4-eaa4621d4a90",
        "colab": {
          "base_uri": "https://localhost:8080/"
        }
      },
      "outputs": [
        {
          "output_type": "stream",
          "name": "stdout",
          "text": [
            "[{'weights': [0.13436424411240122, 0.8474337369372327, 0.763774618976614]}]\n",
            "[{'weights': [0.2550690257394217, 0.49543508709194095]}, {'weights': [0.4494910647887381, 0.651592972722763]}]\n"
          ]
        }
      ],
      "source": [
        "from random import seed\n",
        "from random import random\n",
        "\n",
        "seed (1)\n",
        "network = initialize_network(2,1,2)\n",
        "for layer in network:\n",
        "    print(layer)"
      ]
    },
    {
      "cell_type": "code",
      "execution_count": 3,
      "metadata": {
        "id": "9dteNGOVlH34",
        "outputId": "e622a30a-2440-4841-978d-4cb887e102c8",
        "colab": {
          "base_uri": "https://localhost:8080/"
        }
      },
      "outputs": [
        {
          "output_type": "stream",
          "name": "stdout",
          "text": [
            "[0.6629970129852887, 0.7253160725279748]\n"
          ]
        }
      ],
      "source": [
        "from math import exp\n",
        "# Calculate neuron activation for an input\n",
        "def activate(weights, inputs):\n",
        "# Bias is the last weight in the list of weights\n",
        "    activation = weights[-1]\n",
        "    for i in range(len(weights)-1):\n",
        "        activation += weights[i] * inputs[i]\n",
        "    return activation\n",
        "\n",
        "# Transfer neuron activation\n",
        "def transfer(activation):\n",
        "    return 1.0 / (1.0 + exp(-activation))\n",
        "\n",
        "# Forward propagate input to a network output\n",
        "def forward_propagate(network, row):\n",
        "    inputs = row\n",
        "    for layer in network:\n",
        "        new_inputs = []\n",
        "        for neuron in layer:\n",
        "            activation = activate(neuron['weights'], inputs)\n",
        "            neuron['output'] = transfer(activation)\n",
        "            new_inputs.append(neuron['output'])\n",
        "        inputs = new_inputs\n",
        "    return inputs\n",
        "\n",
        "# test forward propagation\n",
        "network\n",
        "row = [1,0]\n",
        "output = forward_propagate(network, row)\n",
        "print(output)"
      ]
    },
    {
      "cell_type": "code",
      "execution_count": 4,
      "metadata": {
        "id": "_Ri1yYZhlH35",
        "outputId": "f6e9f561-3b45-47bf-eae2-5e7923d0cac7",
        "colab": {
          "base_uri": "https://localhost:8080/"
        }
      },
      "outputs": [
        {
          "output_type": "stream",
          "name": "stdout",
          "text": [
            "[{'output': 0.7105668883115941, 'weights': [0.13436424411240122, 0.8474337369372327, 0.763774618976614], 'delta': 0.002711797799238243}]\n",
            "[{'output': 0.6629970129852887, 'weights': [0.2550690257394217, 0.49543508709194095], 'delta': 0.14813473120687762}, {'output': 0.7253160725279748, 'weights': [0.4494910647887381, 0.651592972722763], 'delta': -0.05472601157879688}]\n"
          ]
        }
      ],
      "source": [
        "# Calculate the derivative of an neuron output\n",
        "def transfer_derivative(output):\n",
        "    return output * (1.0 - output)\n",
        "\n",
        "# Backpropagate error and store in neurons\n",
        "def backward_propagate_error(network, expected):\n",
        "    for i in reversed(range(len(network))):\n",
        "        layer = network[i]\n",
        "        errors = list()\n",
        "        if i != len(network)-1:\n",
        "            for j in range(len(layer)):\n",
        "                error = 0.0\n",
        "                for neuron in network[i + 1]:\n",
        "                    error += (neuron['weights'][j] * neuron['delta'])\n",
        "                errors.append(error)\n",
        "        else:\n",
        "            for j in range(len(layer)):\n",
        "                neuron = layer[j]\n",
        "                errors.append(neuron['output'] - expected[j])\n",
        "        for j in range(len(layer)):\n",
        "            neuron = layer[j]\n",
        "            neuron['delta'] = errors[j] * transfer_derivative(neuron['output'])\n",
        "\n",
        "# test backpropagation of error\n",
        "network = [[{'output': 0.7105668883115941, 'weights': [0.13436424411240122, 0.8474337369372327, 0.763774618976614]}],\n",
        "           [{'output': 0.6629970129852887, 'weights': [0.2550690257394217, 0.49543508709194095]}, {'output': 0.7253160725279748, 'weights': [0.4494910647887381, 0.651592972722763]}]\n",
        "          ]\n",
        "expected = [0, 1]\n",
        "backward_propagate_error(network, expected)\n",
        "for layer in network:\n",
        "    print(layer)\n",
        ""
      ]
    },
    {
      "cell_type": "markdown",
      "source": [
        "**Please try to varify the delta values on your own! It's easy.**"
      ],
      "metadata": {
        "id": "FP4GGPusVp-Q"
      }
    },
    {
      "cell_type": "code",
      "execution_count": 5,
      "metadata": {
        "id": "ETmafkA9lH36"
      },
      "outputs": [],
      "source": [
        "# Update network weights with error\n",
        "def update_weights(network, row, l_rate):\n",
        "    for i in range(len(network)):\n",
        "        inputs = row[:-1]\n",
        "        if i != 0:\n",
        "            inputs = [neuron['output'] for neuron in network[i-1]]\n",
        "        for neuron in network[i]:\n",
        "            for j in range(len(inputs)):\n",
        "                neuron['weights'][j] -= l_rate * neuron['delta'] * inputs[j]\n",
        "            neuron['weights'][-1] -= l_rate * neuron['delta']"
      ]
    },
    {
      "cell_type": "code",
      "execution_count": 6,
      "metadata": {
        "id": "QJ3W9RnxlH36"
      },
      "outputs": [],
      "source": [
        "# Train a network for a fixed number of epochs\n",
        "# Updates are made for each training pattern, this type of learning is called online learning.\n",
        "# If errors were accumulated across an epoch before updating the weights, this is called batch learning.\n",
        "def train_network(network, train, l_rate, n_epoch, n_outputs):\n",
        "    for epoch in range(n_epoch):\n",
        "        sum_error = 0\n",
        "        for row in train:\n",
        "            outputs = forward_propagate(network, row)\n",
        "            expected = [0 for i in range(n_outputs)]\n",
        "            expected[row[-1]] = 1\n",
        "            sum_error += sum([(expected[i]-outputs[i])**2 for i in range(len(expected))])\n",
        "            backward_propagate_error(network, expected)\n",
        "            update_weights(network, row, l_rate)\n",
        "        print('>epoch=%d, lrate=%.3f, error=%.3f' % (epoch, l_rate, sum_error))"
      ]
    },
    {
      "cell_type": "code",
      "execution_count": 7,
      "metadata": {
        "id": "hDb91LqflH37",
        "outputId": "c646d1f5-1fc2-42c1-d09f-d2e3ac6910aa",
        "colab": {
          "base_uri": "https://localhost:8080/"
        }
      },
      "outputs": [
        {
          "output_type": "stream",
          "name": "stdout",
          "text": [
            "2\n",
            "2\n",
            ">epoch=0, lrate=0.500, error=6.350\n",
            ">epoch=1, lrate=0.500, error=5.531\n",
            ">epoch=2, lrate=0.500, error=5.221\n",
            ">epoch=3, lrate=0.500, error=4.951\n",
            ">epoch=4, lrate=0.500, error=4.519\n",
            ">epoch=5, lrate=0.500, error=4.173\n",
            ">epoch=6, lrate=0.500, error=3.835\n",
            ">epoch=7, lrate=0.500, error=3.506\n",
            ">epoch=8, lrate=0.500, error=3.192\n",
            ">epoch=9, lrate=0.500, error=2.898\n",
            ">epoch=10, lrate=0.500, error=2.626\n",
            ">epoch=11, lrate=0.500, error=2.377\n",
            ">epoch=12, lrate=0.500, error=2.153\n",
            ">epoch=13, lrate=0.500, error=1.953\n",
            ">epoch=14, lrate=0.500, error=1.774\n",
            ">epoch=15, lrate=0.500, error=1.614\n",
            ">epoch=16, lrate=0.500, error=1.472\n",
            ">epoch=17, lrate=0.500, error=1.346\n",
            ">epoch=18, lrate=0.500, error=1.233\n",
            ">epoch=19, lrate=0.500, error=1.132\n",
            "[{'weights': [-1.4688375095432327, 1.850887325439514, 1.0858178629550297], 'output': 0.029980305604426185, 'delta': 0.0059546604162323625}, {'weights': [0.37711098142462157, -0.0625909894552989, 0.2765123702642716], 'output': 0.9456229000211323, 'delta': -0.0026279652850863837}]\n",
            "[{'weights': [2.515394649397849, -0.3391927502445985, -0.9671565426390275], 'output': 0.23648794202357587, 'delta': 0.04270059278364587}, {'weights': [-2.5584149848484263, 1.0036422106209202, 0.42383086467582715], 'output': 0.7790535202438367, 'delta': -0.03803132596437354}]\n"
          ]
        }
      ],
      "source": [
        "# Test training backprop algorithm\n",
        "seed(1)\n",
        "dataset = [[2.7810836,2.550537003,0],\n",
        "           [1.465489372,2.362125076,0],\n",
        "           [3.396561688,4.400293529,0],\n",
        "           [1.38807019,1.850220317,0],\n",
        "           [3.06407232,3.005305973,0],\n",
        "           [7.627531214,2.759262235,1],\n",
        "           [5.332441248,2.088626775,1],\n",
        "           [6.922596716,1.77106367,1],\n",
        "           [8.675418651,-0.242068655,1],\n",
        "           [7.673756466,3.508563011,1]]\n",
        "n_inputs = len(dataset[0]) - 1\n",
        "n_outputs = len(set([row[-1] for row in dataset]))\n",
        "network = initialize_network(n_inputs, 2, n_outputs)\n",
        "print(n_inputs)\n",
        "print(n_outputs)\n",
        "train_network(network, dataset, 0.5, 20, n_outputs)\n",
        "for layer in network:\n",
        "    print(layer)"
      ]
    },
    {
      "cell_type": "code",
      "execution_count": 8,
      "metadata": {
        "id": "lt_jL1JylH37",
        "outputId": "295a6413-7e72-4860-fd90-c417a1c984bb",
        "colab": {
          "base_uri": "https://localhost:8080/"
        }
      },
      "outputs": [
        {
          "output_type": "stream",
          "name": "stdout",
          "text": [
            "Expected=0, Got=0\n",
            "Expected=0, Got=0\n",
            "Expected=0, Got=0\n",
            "Expected=0, Got=0\n",
            "Expected=0, Got=0\n",
            "Expected=1, Got=1\n",
            "Expected=1, Got=1\n",
            "Expected=1, Got=1\n",
            "Expected=1, Got=1\n",
            "Expected=1, Got=1\n"
          ]
        }
      ],
      "source": [
        "# Make a prediction with a network\n",
        "def predict(network, row):\n",
        "    outputs = forward_propagate(network, row)\n",
        "    return outputs.index(max(outputs))\n",
        "\n",
        "network = [[{'weights': [-1.4688375095432327, 1.850887325439514, 1.0858178629550297]}, {'weights': [0.37711098142462157, -0.0625909894552989, 0.2765123702642716]}],\n",
        "[{'weights': [2.515394649397849, -0.3391927502445985, -0.9671565426390275]}, {'weights': [-2.5584149848484263, 1.0036422106209202, 0.42383086467582715]}]]\n",
        "for row in dataset:\n",
        "    prediction = predict(network, row)\n",
        "    print('Expected=%d, Got=%d' % (row[-1], prediction))"
      ]
    },
    {
      "cell_type": "code",
      "execution_count": 9,
      "metadata": {
        "id": "6S0i1O69lH39"
      },
      "outputs": [],
      "source": [
        "# Finally, we can apply the Backpropagation to the wheat seeds dataset.\n",
        "\n",
        "from csv import reader\n",
        "from random import randrange\n",
        "\n",
        "# Load a CSV file\n",
        "def load_csv(filename):\n",
        "    dataset = list()\n",
        "    with open(filename, 'r') as file:\n",
        "        csv_reader = reader(file)\n",
        "        for row in csv_reader:\n",
        "            if not row:\n",
        "                continue\n",
        "            dataset.append(row)\n",
        "    return dataset\n",
        "\n",
        "# Convert string column to float\n",
        "def str_column_to_float(dataset, column):\n",
        "    for row in dataset:\n",
        "        row[column] = float(row[column].strip())\n",
        "\n",
        "# Convert string column to integer\n",
        "def str_column_to_int(dataset, column):\n",
        "    class_values = [row[column] for row in dataset]\n",
        "    unique = set(class_values)\n",
        "    lookup = dict()\n",
        "    for i, value in enumerate(unique):\n",
        "        lookup[value] = i\n",
        "    for row in dataset:\n",
        "        row[column] = lookup[row[column]]\n",
        "    return lookup\n",
        "\n",
        "# Start the feature scaling\n",
        "# Find the min and max values for each column\n",
        "def dataset_minmax(dataset):\n",
        "    minmax = list()\n",
        "    stats = [[min(column),max(column)] for column in zip(*dataset)]\n",
        "    return stats\n",
        "\n",
        "# Rescale dataset columns to the range 0-1\n",
        "def normalize_dataset(dataset, minmax):\n",
        "    for row in dataset:\n",
        "        for i in range(len(row)-1):\n",
        "            row[i] = (row[i] - minmax[i][0]) / (minmax[i][1] - minmax[i][0])\n",
        "\n",
        "# Split a dataset into k folds\n",
        "# k-fold cross-validation with 5 folds. 201/5=40.2 or 40 records in each fold.\n",
        "def cross_validation_split(dataset, n_folds):\n",
        "    dataset_split = list()\n",
        "    dataset_copy = list(dataset)\n",
        "    fold_size = int(len(dataset) / n_folds)\n",
        "    for i in range(n_folds):\n",
        "        fold = list()\n",
        "        while len(fold) < fold_size:\n",
        "            index = randrange(len(dataset_copy))\n",
        "            fold.append(dataset_copy.pop(index))\n",
        "        dataset_split.append(fold)\n",
        "    return dataset_split\n",
        "\n",
        "\n",
        "# Calculate accuracy percentage\n",
        "def accuracy_metric(actual, predicted):\n",
        "    correct = 0\n",
        "    for i in range(len(actual)):\n",
        "        if actual[i] == predicted[i]:\n",
        "            correct += 1\n",
        "    return correct/float(len(actual)) * 100.0\n",
        "\n",
        "# Evaluate an algorithm using a cross validation split\n",
        "def evaluate_algorithm(dataset, algorithm, n_folds, *args):\n",
        "    folds = cross_validation_split(dataset, n_folds)\n",
        "    scores = list()\n",
        "    for fold in folds:\n",
        "        train_set = list(folds)\n",
        "        train_set.remove(fold)\n",
        "        train_set = sum(train_set, [])\n",
        "        test_set = list()\n",
        "        for row in fold:\n",
        "            row_copy = list(row)\n",
        "            test_set.append(row_copy)\n",
        "            row_copy[-1] = None\n",
        "        predicted = algorithm(train_set, test_set, *args)\n",
        "        actual = [row[-1] for row in fold]\n",
        "        accuracy = accuracy_metric(actual, predicted)\n",
        "        scores.append(accuracy)\n",
        "    return scores"
      ]
    },
    {
      "cell_type": "code",
      "source": [
        "!git clone https://github.com/DavidGoing/PHYS3151-Machine-Learning-in-Physics-2024"
      ],
      "metadata": {
        "id": "98l9wyk8rMnx",
        "outputId": "2ebdd07b-2f78-4e69-8d2e-1ccdefb0c0c8",
        "colab": {
          "base_uri": "https://localhost:8080/"
        }
      },
      "execution_count": 10,
      "outputs": [
        {
          "output_type": "stream",
          "name": "stdout",
          "text": [
            "Cloning into 'PHYS3151-Machine-Learning-in-Physics-2024'...\n",
            "remote: Enumerating objects: 769, done.\u001b[K\n",
            "remote: Counting objects: 100% (352/352), done.\u001b[K\n",
            "remote: Compressing objects: 100% (217/217), done.\u001b[K\n",
            "remote: Total 769 (delta 196), reused 234 (delta 135), pack-reused 417\u001b[K\n",
            "Receiving objects: 100% (769/769), 36.91 MiB | 19.24 MiB/s, done.\n",
            "Resolving deltas: 100% (413/413), done.\n"
          ]
        }
      ]
    },
    {
      "cell_type": "code",
      "execution_count": 11,
      "metadata": {
        "id": "ZRYj2EIjlH39",
        "outputId": "ad3ab136-558f-4e78-e8f4-a6e272df76b3",
        "colab": {
          "base_uri": "https://localhost:8080/"
        }
      },
      "outputs": [
        {
          "output_type": "stream",
          "name": "stdout",
          "text": [
            ">epoch=0, lrate=0.300, error=129.898\n",
            ">epoch=1, lrate=0.300, error=107.123\n",
            ">epoch=2, lrate=0.300, error=97.406\n",
            ">epoch=3, lrate=0.300, error=86.025\n",
            ">epoch=4, lrate=0.300, error=76.640\n",
            ">epoch=5, lrate=0.300, error=70.130\n",
            ">epoch=6, lrate=0.300, error=65.591\n",
            ">epoch=7, lrate=0.300, error=62.087\n",
            ">epoch=8, lrate=0.300, error=58.997\n",
            ">epoch=9, lrate=0.300, error=55.957\n",
            "7\n",
            "3\n",
            ">epoch=0, lrate=0.300, error=143.835\n",
            ">epoch=1, lrate=0.300, error=113.274\n",
            ">epoch=2, lrate=0.300, error=108.395\n",
            ">epoch=3, lrate=0.300, error=99.731\n",
            ">epoch=4, lrate=0.300, error=87.680\n",
            ">epoch=5, lrate=0.300, error=76.107\n",
            ">epoch=6, lrate=0.300, error=67.270\n",
            ">epoch=7, lrate=0.300, error=60.431\n",
            ">epoch=8, lrate=0.300, error=54.570\n",
            ">epoch=9, lrate=0.300, error=49.269\n",
            "7\n",
            "3\n",
            ">epoch=0, lrate=0.300, error=133.279\n",
            ">epoch=1, lrate=0.300, error=112.897\n",
            ">epoch=2, lrate=0.300, error=109.522\n",
            ">epoch=3, lrate=0.300, error=103.533\n",
            ">epoch=4, lrate=0.300, error=93.704\n",
            ">epoch=5, lrate=0.300, error=82.109\n",
            ">epoch=6, lrate=0.300, error=72.437\n",
            ">epoch=7, lrate=0.300, error=65.345\n",
            ">epoch=8, lrate=0.300, error=59.744\n",
            ">epoch=9, lrate=0.300, error=54.778\n",
            "7\n",
            "3\n",
            ">epoch=0, lrate=0.300, error=138.112\n",
            ">epoch=1, lrate=0.300, error=109.599\n",
            ">epoch=2, lrate=0.300, error=101.837\n",
            ">epoch=3, lrate=0.300, error=91.127\n",
            ">epoch=4, lrate=0.300, error=80.840\n",
            ">epoch=5, lrate=0.300, error=73.214\n",
            ">epoch=6, lrate=0.300, error=67.856\n",
            ">epoch=7, lrate=0.300, error=63.779\n",
            ">epoch=8, lrate=0.300, error=60.261\n",
            ">epoch=9, lrate=0.300, error=56.864\n",
            "7\n",
            "3\n",
            ">epoch=0, lrate=0.300, error=160.537\n",
            ">epoch=1, lrate=0.300, error=115.683\n",
            ">epoch=2, lrate=0.300, error=112.411\n",
            ">epoch=3, lrate=0.300, error=106.601\n",
            ">epoch=4, lrate=0.300, error=96.904\n",
            ">epoch=5, lrate=0.300, error=85.276\n",
            ">epoch=6, lrate=0.300, error=75.664\n",
            ">epoch=7, lrate=0.300, error=68.794\n",
            ">epoch=8, lrate=0.300, error=63.449\n",
            ">epoch=9, lrate=0.300, error=58.672\n",
            "7\n",
            "3\n",
            "Scores: [78.57142857142857, 90.47619047619048, 88.09523809523809, 76.19047619047619, 90.47619047619048]\n",
            "Mean Accuracy: 84.762%\n"
          ]
        }
      ],
      "source": [
        "# Backpropagation Algorithm With Stochastic Gradient Descent\n",
        "def back_propagation(train, test, l_rate, n_epoch, n_hidden):\n",
        "    n_inputs = len(train[0]) - 1\n",
        "    n_outputs = len(set([row[-1] for row in train]))\n",
        "    network = initialize_network(n_inputs, n_hidden, n_outputs)\n",
        "    train_network(network, train, l_rate, n_epoch, n_outputs)\n",
        "    predictions = list()\n",
        "    for row in test:\n",
        "        prediction = predict(network, row)\n",
        "        predictions.append(prediction)\n",
        "    print(n_inputs)\n",
        "    print(n_outputs)\n",
        "    return(predictions)\n",
        "\n",
        "# Test Backprop on Seeds dataset\n",
        "seed(1)\n",
        "# load and prepare data\n",
        "filename = '/content/PHYS3151-Machine-Learning-in-Physics-2024/feedforward-neural-network/wheat-seeds.csv'\n",
        "dataset = load_csv(filename)\n",
        "for i in range(len(dataset[0])-1):\n",
        "    str_column_to_float(dataset, i)\n",
        "# convert class column to integers\n",
        "str_column_to_int(dataset, len(dataset[0])-1)\n",
        "# normalize input variables\n",
        "minmax = dataset_minmax(dataset)\n",
        "normalize_dataset(dataset, minmax)\n",
        "# evaluate algorithm\n",
        "n_folds = 5\n",
        "l_rate = 0.3\n",
        "n_epoch = 10\n",
        "n_hidden = 5\n",
        "scores = evaluate_algorithm(dataset, back_propagation, n_folds, l_rate, n_epoch, n_hidden)\n",
        "print('Scores: %s' % scores)\n",
        "print('Mean Accuracy: %.3f%%' % (sum(scores)/float(len(scores))))"
      ]
    },
    {
      "cell_type": "code",
      "source": [],
      "metadata": {
        "id": "Uh6JpShdpTuL"
      },
      "execution_count": 11,
      "outputs": []
    }
  ],
  "metadata": {
    "kernelspec": {
      "display_name": "Python 3",
      "language": "python",
      "name": "python3"
    },
    "language_info": {
      "codemirror_mode": {
        "name": "ipython",
        "version": 3
      },
      "file_extension": ".py",
      "mimetype": "text/x-python",
      "name": "python",
      "nbconvert_exporter": "python",
      "pygments_lexer": "ipython3",
      "version": "3.8.3"
    },
    "colab": {
      "name": "Backpropagation_wheat-seeds.ipynb",
      "provenance": [],
      "include_colab_link": true
    }
  },
  "nbformat": 4,
  "nbformat_minor": 0
}