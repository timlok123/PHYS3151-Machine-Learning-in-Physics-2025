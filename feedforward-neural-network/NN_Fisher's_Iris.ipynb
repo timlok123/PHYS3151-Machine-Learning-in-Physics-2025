{
  "cells": [
    {
      "cell_type": "markdown",
      "metadata": {
        "id": "view-in-github",
        "colab_type": "text"
      },
      "source": [
        "<a href=\"https://colab.research.google.com/github/DavidGoing/PHYS3151-Machine-Learning-in-Physics-2024/blob/main/feedforward-neural-network/NN_Fisher's_Iris.ipynb\" target=\"_parent\"><img src=\"https://colab.research.google.com/assets/colab-badge.svg\" alt=\"Open In Colab\"/></a>"
      ]
    },
    {
      "cell_type": "markdown",
      "source": [
        " <img title=\"NeuralNetwork\" src=\"https://github.com/LeoisWTT/PHYS3151-Machine-Learning-in-Physics-2023/blob/main/feedforward-neural-network/Colored_neural_network.svg.png?raw=1\" width=\"400\" /> <br>"
      ],
      "metadata": {
        "id": "yg_wWBjJisFv"
      }
    },
    {
      "cell_type": "code",
      "execution_count": 1,
      "metadata": {
        "id": "9G7MK2It2u5X"
      },
      "outputs": [],
      "source": [
        "import numpy as np\n",
        "import pandas as pd\n",
        "import matplotlib.pyplot as plt\n",
        "import random as rd"
      ]
    },
    {
      "cell_type": "code",
      "execution_count": 2,
      "metadata": {
        "colab": {
          "base_uri": "https://localhost:8080/"
        },
        "id": "MHYPADUt2yt0",
        "outputId": "c283cd1d-3bb0-48cb-d180-49793d294915"
      },
      "outputs": [
        {
          "output_type": "stream",
          "name": "stdout",
          "text": [
            "Cloning into 'PHYS3151-Machine-Learning-in-Physics-2024'...\n",
            "remote: Enumerating objects: 765, done.\u001b[K\n",
            "remote: Counting objects: 100% (348/348), done.\u001b[K\n",
            "remote: Compressing objects: 100% (214/214), done.\u001b[K\n",
            "remote: Total 765 (delta 196), reused 233 (delta 134), pack-reused 417\u001b[K\n",
            "Receiving objects: 100% (765/765), 36.85 MiB | 17.69 MiB/s, done.\n",
            "Resolving deltas: 100% (413/413), done.\n"
          ]
        }
      ],
      "source": [
        "!git clone https://github.com/DavidGoing/PHYS3151-Machine-Learning-in-Physics-2024"
      ]
    },
    {
      "cell_type": "code",
      "execution_count": 3,
      "metadata": {
        "id": "utwwSgb22u5Y"
      },
      "outputs": [],
      "source": [
        "df = pd.read_csv('/content/PHYS3151-Machine-Learning-in-Physics-2024/logistic-regression/iris-data.csv')"
      ]
    },
    {
      "cell_type": "code",
      "execution_count": 4,
      "metadata": {
        "id": "wQjJbPqyFGzW"
      },
      "outputs": [],
      "source": [
        "def sigmoid(x):\n",
        "    return 1 / (1 + np.exp(-x))"
      ]
    },
    {
      "cell_type": "markdown",
      "metadata": {
        "id": "hiLynV5V_UUT"
      },
      "source": [
        "# One Hidden Layer"
      ]
    },
    {
      "cell_type": "code",
      "source": [
        "X = df.iloc[:, :4]        #features\n",
        "m=X.shape[0]\n",
        "p=X.shape[1]\n",
        "X = np.c_[np.ones((m, 1)), X]    #we need x_0\n",
        "X=np.array(X)\n",
        "iris_type= df.iloc[:, 4]         #outcome\n",
        "Y=[[1, 0, 0] if iris_type[i]=='Iris-setosa' else [0, 1, 0] if iris_type[i]=='Iris-versicolor' else [0, 0, 1] for i in range(m)]\n",
        "Y=np.array(Y)\n",
        "o=Y.shape[1]"
      ],
      "metadata": {
        "id": "Q7dI3hUFpwOq"
      },
      "execution_count": 5,
      "outputs": []
    },
    {
      "cell_type": "code",
      "source": [
        "stack=list(range(m))\n",
        "N_test=20\n",
        "rd.shuffle(stack)\n",
        "stack_test=stack[:N_test]\n",
        "stack_train=stack[N_test:]"
      ],
      "metadata": {
        "id": "HCGO052RVh6u"
      },
      "execution_count": 6,
      "outputs": []
    },
    {
      "cell_type": "code",
      "execution_count": 7,
      "metadata": {
        "id": "TedJHLN2A80c"
      },
      "outputs": [],
      "source": [
        "X_train = X[stack_train,:]\n",
        "m_train=X_train.shape[0]\n",
        "Y_train = Y[stack_train]"
      ]
    },
    {
      "cell_type": "code",
      "source": [
        "X_test = X[stack_test,:]\n",
        "m_test=X_test.shape[0]\n",
        "Y_test = Y[stack_test]"
      ],
      "metadata": {
        "id": "u8ER7ey5YHp4"
      },
      "execution_count": 8,
      "outputs": []
    },
    {
      "cell_type": "code",
      "execution_count": 9,
      "metadata": {
        "id": "q04vu4ZzEtXA"
      },
      "outputs": [],
      "source": [
        "#NN configurations\n",
        "n_nodes=3\n",
        "theta1=np.random.random((n_nodes,p+1))-1/2\n",
        "theta2=np.random.random((o,n_nodes+1))-1/2"
      ]
    },
    {
      "cell_type": "code",
      "source": [
        "def find_accuracy(X_temp,Y_temp):\n",
        "  acc=0\n",
        "  m_temp=X_temp.shape[0]\n",
        "  for i_temp in range(m_temp):\n",
        "    x= X_temp[i_temp,:].reshape(p+1,1)\n",
        "    z2=np.dot(theta1,x)\n",
        "    h2=sigmoid(z2)\n",
        "    h2=np.r_[np.array(1).reshape(1,1), h2]\n",
        "    z3=np.dot(theta2,h2)\n",
        "    h3=sigmoid(z3)\n",
        "    if Y_temp[i_temp,np.argmax(h3)]:\n",
        "      acc+=1\n",
        "  acc=acc/m_temp*100\n",
        "  return acc"
      ],
      "metadata": {
        "id": "dkfNHsVMFtBc"
      },
      "execution_count": 10,
      "outputs": []
    },
    {
      "cell_type": "code",
      "execution_count": 11,
      "metadata": {
        "colab": {
          "base_uri": "https://localhost:8080/"
        },
        "id": "YIVh9yItFV85",
        "outputId": "2ace66c4-5084-4b85-f3fe-d55934c6b8fc"
      },
      "outputs": [
        {
          "output_type": "stream",
          "name": "stdout",
          "text": [
            "Complete: 1\n",
            "The cost of train sample is 0.240315\n",
            "The accuracy of train sample is 94.62%\n",
            "The accuracy of test sample is 100.00%\n",
            "Complete: 2\n",
            "The cost of train sample is 0.169083\n",
            "The accuracy of train sample is 97.69%\n",
            "The accuracy of test sample is 100.00%\n",
            "Complete: 3\n",
            "The cost of train sample is 0.137668\n",
            "The accuracy of train sample is 98.46%\n",
            "The accuracy of test sample is 100.00%\n",
            "Complete: 4\n",
            "The cost of train sample is 0.121266\n",
            "The accuracy of train sample is 98.46%\n",
            "The accuracy of test sample is 100.00%\n",
            "Complete: 5\n",
            "The cost of train sample is 0.112647\n",
            "The accuracy of train sample is 97.69%\n",
            "The accuracy of test sample is 100.00%\n",
            "Complete: 6\n",
            "The cost of train sample is 0.107346\n",
            "The accuracy of train sample is 97.69%\n",
            "The accuracy of test sample is 100.00%\n",
            "Complete: 7\n",
            "The cost of train sample is 0.103610\n",
            "The accuracy of train sample is 97.69%\n",
            "The accuracy of test sample is 100.00%\n",
            "Complete: 8\n",
            "The cost of train sample is 0.100704\n",
            "The accuracy of train sample is 97.69%\n",
            "The accuracy of test sample is 100.00%\n",
            "Complete: 9\n",
            "The cost of train sample is 0.098326\n",
            "The accuracy of train sample is 97.69%\n",
            "The accuracy of test sample is 100.00%\n",
            "Complete: 10\n",
            "The cost of train sample is 0.096343\n",
            "The accuracy of train sample is 97.69%\n",
            "The accuracy of test sample is 100.00%\n"
          ]
        }
      ],
      "source": [
        "alpha=4\n",
        "n_itr=1000\n",
        "I=int(n_itr/10)\n",
        "cost_history=[]\n",
        "acc_train_history=[]\n",
        "acc_test_history=[]\n",
        "for itr in range(n_itr):\n",
        "  J=0\n",
        "  acc_train=0\n",
        "  for data_index in range(m_train):\n",
        "    #forward propagation\n",
        "    x= X_train[[data_index],:].T\n",
        "    z2=np.dot(theta1,x)\n",
        "    h2=sigmoid(z2)\n",
        "    h2=np.r_[np.ones((1,1)), h2]\n",
        "    z3=np.dot(theta2,h2)\n",
        "    h3=sigmoid(z3)\n",
        "    #back propagation\n",
        "    Ym=h3-Y_train[[data_index],:].T\n",
        "    delta3=2/m_train*(Ym*h3*(1-h3))\n",
        "    delta2=theta2.T@(delta3)*h2*(1-h2)\n",
        "    theta2=theta2-alpha*delta3@h2.T\n",
        "    theta1=theta1-alpha*delta2[1:,:]@x.T\n",
        "    J+=np.linalg.norm(Ym,2)\n",
        "    if Y_train[data_index,np.argmax(h3)]:\n",
        "      acc_train+=1\n",
        "  acc_train*=100/m_train\n",
        "  J/=m_train\n",
        "  cost_history.append(J)\n",
        "  acc_train_history.append(acc_train)\n",
        "  acc_test_history.append(find_accuracy(X_test, Y_test))\n",
        "  if (itr+1) % I==0:\n",
        "    alpha/=1.2\n",
        "    print('Complete:',int((itr+1)/I))\n",
        "    print('The cost of train sample is {:.6f}'.format(J))\n",
        "    print('The accuracy of train sample is {:.2f}%'.format(acc_train))\n",
        "    print('The accuracy of test sample is {:.2f}%'.format(acc_test_history[-1]))"
      ]
    },
    {
      "cell_type": "code",
      "source": [
        "plt.plot(cost_history)"
      ],
      "metadata": {
        "id": "uY-pwVlMxHU-",
        "colab": {
          "base_uri": "https://localhost:8080/",
          "height": 447
        },
        "outputId": "4d87f64b-d114-4a48-df7a-873501177a60"
      },
      "execution_count": 12,
      "outputs": [
        {
          "output_type": "execute_result",
          "data": {
            "text/plain": [
              "[<matplotlib.lines.Line2D at 0x7c50338d6440>]"
            ]
          },
          "metadata": {},
          "execution_count": 12
        },
        {
          "output_type": "display_data",
          "data": {
            "text/plain": [
              "<Figure size 640x480 with 1 Axes>"
            ],
            "image/png": "[encoded data removed]"
          },
          "metadata": {}
        }
      ]
    },
    {
      "cell_type": "code",
      "source": [
        "plt.plot(acc_train_history,label='Train')\n",
        "plt.plot(acc_test_history,label='Test')\n",
        "plt.legend()"
      ],
      "metadata": {
        "colab": {
          "base_uri": "https://localhost:8080/",
          "height": 447
        },
        "id": "Ul6t9HT-1O_-",
        "outputId": "8c0c2c15-676e-4715-ad0f-a84297fab63d"
      },
      "execution_count": 13,
      "outputs": [
        {
          "output_type": "execute_result",
          "data": {
            "text/plain": [
              "<matplotlib.legend.Legend at 0x7c50339c26e0>"
            ]
          },
          "metadata": {},
          "execution_count": 13
        },
        {
          "output_type": "display_data",
          "data": {
            "text/plain": [
              "<Figure size 640x480 with 1 Axes>"
            ],
            "image/png": "[encoded data removed]"
          },
          "metadata": {}
        }
      ]
    },
    {
      "cell_type": "code",
      "source": [
        "index_temp=54\n",
        "x= X[[index_temp],:].T\n",
        "z2=np.dot(theta1,x)\n",
        "h2=sigmoid(z2)\n",
        "h2=np.r_[np.ones((1,1)), h2]\n",
        "z3=np.dot(theta2,h2)\n",
        "h3=sigmoid(z3)\n",
        "print(h3)\n",
        "print(Y[index_temp])\n",
        "print(Y[index_temp,np.argmax(h3)])"
      ],
      "metadata": {
        "colab": {
          "base_uri": "https://localhost:8080/"
        },
        "id": "Za-7oBe-g0JM",
        "outputId": "d637a963-9528-4ee3-f0f7-c315b53c96f2"
      },
      "execution_count": 14,
      "outputs": [
        {
          "output_type": "stream",
          "name": "stdout",
          "text": [
            "[[0.02038806]\n",
            " [0.96373889]\n",
            " [0.01376489]]\n",
            "[0 1 0]\n",
            "1\n"
          ]
        }
      ]
    },
    {
      "cell_type": "markdown",
      "metadata": {
        "id": "nQxwAGUoQiPw"
      },
      "source": [
        "# Multiple Hidden Layers"
      ]
    },
    {
      "cell_type": "code",
      "source": [
        "X = df.iloc[:, :4]        #features\n",
        "m=X.shape[0]\n",
        "p=X.shape[1]\n",
        "X=np.array(X)\n",
        "iris_type= df.iloc[:, 4]         #outcome\n",
        "Y=[[1, 0, 0] if iris_type[i]=='Iris-setosa' else [0, 1, 0] if iris_type[i]=='Iris-versicolor' else [0, 0, 1] for i in range(m)]\n",
        "Y=np.array(Y)\n",
        "o=Y.shape[1]"
      ],
      "metadata": {
        "id": "zI7H_EylQiP9"
      },
      "execution_count": 15,
      "outputs": []
    },
    {
      "cell_type": "code",
      "source": [
        "stack=list(range(m))\n",
        "N_test=20\n",
        "rd.shuffle(stack)\n",
        "stack_test=stack[:N_test]\n",
        "stack_train=stack[N_test:]"
      ],
      "metadata": {
        "id": "DSpcIXmQQiP-"
      },
      "execution_count": 16,
      "outputs": []
    },
    {
      "cell_type": "code",
      "execution_count": 17,
      "metadata": {
        "id": "gftwdHIfQiP-"
      },
      "outputs": [],
      "source": [
        "X_train = X[stack_train,:]\n",
        "m_train=X_train.shape[0]\n",
        "Y_train = Y[stack_train]"
      ]
    },
    {
      "cell_type": "code",
      "source": [
        "X_test = X[stack_test,:]\n",
        "m_test=X_test.shape[0]\n",
        "Y_test = Y[stack_test]"
      ],
      "metadata": {
        "id": "qlLx7jPaQiP-"
      },
      "execution_count": 18,
      "outputs": []
    },
    {
      "cell_type": "code",
      "execution_count": 19,
      "metadata": {
        "id": "Diio4bBdQiP-"
      },
      "outputs": [],
      "source": [
        "#NN configurations\n",
        "node_list=[p, 2, 4, o]\n",
        "n_layer=len(node_list)\n",
        "theta=[np.random.random((node_list[i+1],node_list[i]+1))-1/2 for i in range(n_layer-1)]"
      ]
    },
    {
      "cell_type": "code",
      "source": [
        "def find_accuracy(X_temp,Y_temp):\n",
        "  acc=0\n",
        "  m_temp=X_temp.shape[0]\n",
        "  for i_temp in range(m_temp):\n",
        "    x= X_temp[i_temp,:].reshape(p,1)\n",
        "    #forward propagation\n",
        "    h=np.r_[np.ones((1,1)), x]\n",
        "    for l in range(n_layer-1):\n",
        "      z_temp=np.dot(theta[l],h)\n",
        "      h=np.r_[np.ones((1,1)),sigmoid(z_temp)]\n",
        "    h_end=h[1:]\n",
        "    if Y_temp[i_temp,np.argmax(h_end)]:\n",
        "      acc+=1\n",
        "  acc=acc/m_temp*100\n",
        "  return acc"
      ],
      "metadata": {
        "id": "M3Bf0JqpQiP9"
      },
      "execution_count": 20,
      "outputs": []
    },
    {
      "cell_type": "code",
      "execution_count": 21,
      "metadata": {
        "colab": {
          "base_uri": "https://localhost:8080/"
        },
        "outputId": "24e4f50f-23a9-4aa4-e01a-f59ec7a92b93",
        "id": "vcftFTLmQiP-"
      },
      "outputs": [
        {
          "output_type": "stream",
          "name": "stdout",
          "text": [
            "Complete: 1\n",
            "The cost of train sample is 0.493882\n",
            "The accuracy of train sample is 76.15%\n",
            "The accuracy of test sample is 60.00%\n",
            "Complete: 2\n",
            "The cost of train sample is 0.474903\n",
            "The accuracy of train sample is 90.77%\n",
            "The accuracy of test sample is 65.00%\n",
            "Complete: 3\n",
            "The cost of train sample is 0.404582\n",
            "The accuracy of train sample is 93.85%\n",
            "The accuracy of test sample is 80.00%\n",
            "Complete: 4\n",
            "The cost of train sample is 0.287430\n",
            "The accuracy of train sample is 96.15%\n",
            "The accuracy of test sample is 85.00%\n",
            "Complete: 5\n",
            "The cost of train sample is 0.216253\n",
            "The accuracy of train sample is 96.15%\n",
            "The accuracy of test sample is 100.00%\n",
            "Complete: 6\n",
            "The cost of train sample is 0.180186\n",
            "The accuracy of train sample is 96.92%\n",
            "The accuracy of test sample is 100.00%\n",
            "Complete: 7\n",
            "The cost of train sample is 0.159196\n",
            "The accuracy of train sample is 97.69%\n",
            "The accuracy of test sample is 100.00%\n",
            "Complete: 8\n",
            "The cost of train sample is 0.145005\n",
            "The accuracy of train sample is 97.69%\n",
            "The accuracy of test sample is 100.00%\n",
            "Complete: 9\n",
            "The cost of train sample is 0.134567\n",
            "The accuracy of train sample is 97.69%\n",
            "The accuracy of test sample is 100.00%\n",
            "Complete: 10\n",
            "The cost of train sample is 0.127200\n",
            "The accuracy of train sample is 97.69%\n",
            "The accuracy of test sample is 100.00%\n"
          ]
        }
      ],
      "source": [
        "alpha=4\n",
        "n_itr=1000\n",
        "I=int(n_itr/10)\n",
        "cost_history=[]\n",
        "acc_train_history=[]\n",
        "acc_test_history=[]\n",
        "for itr in range(n_itr):\n",
        "  J=0\n",
        "  acc_train=0\n",
        "  for data_index in range(m_train):\n",
        "    x_here= X_train[[data_index],:].T\n",
        "    y_here=Y_train[[data_index],:].T\n",
        "    #forward propagation\n",
        "    h=[]\n",
        "    h.append(np.r_[np.ones((1,1)), x_here])\n",
        "    for l in range(n_layer-1):\n",
        "      z_temp=np.dot(theta[l],h[l])\n",
        "      h.append(np.r_[np.ones((1,1)),sigmoid(z_temp)])\n",
        "    #back propagation\n",
        "    h_end=h[-1][1:]\n",
        "    Ym=h_end-y_here\n",
        "    delta=[]\n",
        "    delta.append(2/m_train*(Ym*h_end*(1-h_end)))\n",
        "    delta.append(theta[-1].T@delta[-1]*h[-2]*(1-h[-2]))\n",
        "    theta[-1]-=alpha*delta[-2]@h[-2].T\n",
        "    for l in range(2,n_layer):\n",
        "      delta.append(theta[-l].T@delta[-1][1:]*h[-l-1]*(1-h[-l-1]))\n",
        "      theta[-l]-=alpha*delta[-2][1:]@h[-l-1].T\n",
        "    J+=np.linalg.norm(Ym,2)\n",
        "    if Y_train[data_index,np.argmax(h_end)]:\n",
        "      acc_train+=1\n",
        "  acc_train*=100/m_train\n",
        "  J/=m_train\n",
        "  cost_history.append(J)\n",
        "  acc_train_history.append(acc_train)\n",
        "  acc_test_history.append(find_accuracy(X_test, Y_test))\n",
        "  if (itr+1) % I==0:\n",
        "    alpha/=1.2\n",
        "    print('Complete:',int((itr+1)/I))\n",
        "    print('The cost of train sample is {:.6f}'.format(J))\n",
        "    print('The accuracy of train sample is {:.2f}%'.format(acc_train))\n",
        "    print('The accuracy of test sample is {:.2f}%'.format(acc_test_history[-1]))"
      ]
    },
    {
      "cell_type": "code",
      "source": [
        "plt.plot(cost_history)"
      ],
      "metadata": {
        "id": "aFrw7Hz8QiP-",
        "outputId": "4f7a5e7c-8910-47b0-d111-5737f58a95b5",
        "colab": {
          "base_uri": "https://localhost:8080/",
          "height": 447
        }
      },
      "execution_count": 22,
      "outputs": [
        {
          "output_type": "execute_result",
          "data": {
            "text/plain": [
              "[<matplotlib.lines.Line2D at 0x7c50317196f0>]"
            ]
          },
          "metadata": {},
          "execution_count": 22
        },
        {
          "output_type": "display_data",
          "data": {
            "text/plain": [
              "<Figure size 640x480 with 1 Axes>"
            ],
            "image/png": "[encoded data removed]"
          },
          "metadata": {}
        }
      ]
    },
    {
      "cell_type": "code",
      "source": [
        "plt.plot(acc_train_history,label='Train')\n",
        "plt.plot(acc_test_history,label='Test')\n",
        "plt.legend()"
      ],
      "metadata": {
        "id": "OyShMTKuQiP_",
        "outputId": "6b23e93a-5a17-49d6-8065-08c98241147c",
        "colab": {
          "base_uri": "https://localhost:8080/",
          "height": 447
        }
      },
      "execution_count": 23,
      "outputs": [
        {
          "output_type": "execute_result",
          "data": {
            "text/plain": [
              "<matplotlib.legend.Legend at 0x7c50318b7a90>"
            ]
          },
          "metadata": {},
          "execution_count": 23
        },
        {
          "output_type": "display_data",
          "data": {
            "text/plain": [
              "<Figure size 640x480 with 1 Axes>"
            ],
            "image/png": "[encoded data removed]"
          },
          "metadata": {}
        }
      ]
    },
    {
      "cell_type": "code",
      "source": [
        "index_temp=54\n",
        "x= X[index_temp,:].reshape(p,1)\n",
        "#forward propagation\n",
        "h=np.r_[np.ones((1,1)), x]\n",
        "for l in range(n_layer-1):\n",
        "  z_temp=np.dot(theta[l],h)\n",
        "  h=np.r_[np.ones((1,1)),sigmoid(z_temp)]\n",
        "h_end=h[1:]\n",
        "print(h3)\n",
        "print(Y[index_temp])\n",
        "print(Y[index_temp,np.argmax(h_end)])"
      ],
      "metadata": {
        "id": "0Hhnl2XOQiP_",
        "outputId": "2a50bb63-328f-4ea9-c125-aa975f867d54",
        "colab": {
          "base_uri": "https://localhost:8080/"
        }
      },
      "execution_count": 24,
      "outputs": [
        {
          "output_type": "stream",
          "name": "stdout",
          "text": [
            "[[0.02038806]\n",
            " [0.96373889]\n",
            " [0.01376489]]\n",
            "[0 1 0]\n",
            "1\n"
          ]
        }
      ]
    }
  ],
  "metadata": {
    "colab": {
      "provenance": [],
      "include_colab_link": true
    },
    "kernelspec": {
      "display_name": "Python 3",
      "name": "python3"
    },
    "language_info": {
      "name": "python"
    }
  },
  "nbformat": 4,
  "nbformat_minor": 0
}