{
  "cells": [
    {
      "cell_type": "markdown",
      "metadata": {
        "id": "view-in-github",
        "colab_type": "text"
      },
      "source": [
        "<a href=\"https://colab.research.google.com/github/LeoisWTT/PHYS3151-Machine-Learning-in-Physics-2023/blob/main/feedforward-neural-network/perceptron.ipynb\" target=\"_parent\"><img src=\"https://colab.research.google.com/assets/colab-badge.svg\" alt=\"Open In Colab\"/></a>"
      ]
    },
    {
      "cell_type": "markdown",
      "metadata": {
        "id": "fZoZ0ndmA3Y3"
      },
      "source": [
        "A python Perceptron to perfrom logical gate AND\n",
        "<br>  A   B  |  AND\n",
        "<br>  0   0  |   0\n",
        "<br>  0   1  |   0\n",
        "<br>  1   0  |   0\n",
        "<br>  1   1  |   1\n",
        "<br> Here we use binary activation function: \n",
        "<br> $y=0$ if $\\vec{w}\\cdot\\vec{x}+b \\le 0$\n",
        "<br> $y=1$ if $\\vec{w}\\cdot \\vec{x}+b > 0$"
      ]
    },
    {
      "cell_type": "code",
      "execution_count": null,
      "metadata": {
        "id": "_4VhLth5A3Y4"
      },
      "outputs": [],
      "source": [
        "import numpy as np\n",
        "\n",
        "class Perceptron():\n",
        "    \n",
        "# initialize the weights to 0.\n",
        "    def __init__(self, no_of_inputs, threshold=8, learning_rate=0.1):\n",
        "        self.threshold = threshold\n",
        "        self.learning_rate = learning_rate\n",
        "        self.weights = np.zeros(no_of_inputs + 1)\n",
        "        \n",
        "# for each set of inputs in the training examples, perceptron will predict an output\n",
        "    def predict(self, inputs):\n",
        "        summation = np.dot(inputs, self.weights[1:]) + self.weights[0]\n",
        "        if summation > 0:\n",
        "            activation = 1\n",
        "        else:\n",
        "            activation = 0\n",
        "        return activation\n",
        "    \n",
        "# Compare it to the expected output\n",
        "# Update its weights, if the expected output != the actual output\n",
        "# for error e = y - f(x), there are only three values, given any x\n",
        "#    y  f(x) | y - f(x)\n",
        "#    1    1  |   0\n",
        "#    0    0  |   0\n",
        "#    1    0  |   1\n",
        "#    0    1  |  -1\n",
        "\n",
        "\n",
        "    def train(self, training_inputs, labels):\n",
        "        print(self.weights)\n",
        "        for _ in range(self.threshold):\n",
        "            for inputs, label in zip(training_inputs, labels):\n",
        "                prediction = self.predict(inputs)\n",
        "                self.weights[1:] += self.learning_rate * (label - prediction) * inputs\n",
        "                self.weights[0] += self.learning_rate * (label - prediction)\n",
        "                print(self.weights)\n",
        "                "
      ]
    },
    {
      "cell_type": "code",
      "execution_count": null,
      "metadata": {
        "id": "PsUfeh0wA3Y5",
        "outputId": "4d064a7c-4cd2-4cc2-d769-587c24aef1a3",
        "colab": {
          "base_uri": "https://localhost:8080/"
        }
      },
      "outputs": [
        {
          "output_type": "stream",
          "name": "stdout",
          "text": [
            "[0. 0. 0.]\n",
            "[0.1 0.1 0.1]\n",
            "[0.  0.  0.1]\n",
            "[-0.1  0.   0. ]\n",
            "[-0.1  0.   0. ]\n",
            "[0.  0.1 0.1]\n",
            "[-0.1  0.   0.1]\n",
            "[-0.1  0.   0.1]\n",
            "[-0.1  0.   0.1]\n",
            "[0.  0.1 0.2]\n",
            "[-0.1  0.   0.2]\n",
            "[-0.2  0.   0.1]\n",
            "[-0.2  0.   0.1]\n",
            "[-0.1  0.1  0.2]\n",
            "[-0.1  0.1  0.2]\n",
            "[-0.2  0.1  0.1]\n",
            "[-0.2  0.1  0.1]\n",
            "[-0.1  0.2  0.2]\n",
            "[-0.2  0.1  0.2]\n",
            "[-0.2  0.1  0.2]\n",
            "[-0.2  0.1  0.2]\n",
            "[-0.2  0.1  0.2]\n",
            "[-0.2  0.1  0.2]\n",
            "[-0.2  0.1  0.2]\n",
            "[-0.2  0.1  0.2]\n",
            "[-0.2  0.1  0.2]\n",
            "[-0.2  0.1  0.2]\n",
            "[-0.2  0.1  0.2]\n",
            "[-0.2  0.1  0.2]\n",
            "[-0.2  0.1  0.2]\n",
            "[-0.2  0.1  0.2]\n",
            "[-0.2  0.1  0.2]\n",
            "[-0.2  0.1  0.2]\n",
            "1\n",
            "0\n",
            "1\n",
            "0\n"
          ]
        }
      ],
      "source": [
        "import numpy as np\n",
        "#from perceptron import Perceptron\n",
        "\n",
        "training_inputs = []\n",
        "training_inputs.append(np.array([1,1]))\n",
        "training_inputs.append(np.array([1,0]))\n",
        "training_inputs.append(np.array([0,1]))\n",
        "training_inputs.append(np.array([0,0]))\n",
        "\n",
        "labels = np.array([1,0,0,0])\n",
        "\n",
        "perceptron = Perceptron(2)\n",
        "perceptron.train(training_inputs, labels)\n",
        "\n",
        "inputs = np.array([1,1])\n",
        "print(perceptron.predict(inputs))\n",
        "\n",
        "inputs = np.array([-2,-5])\n",
        "print(perceptron.predict(inputs))\n",
        "\n",
        "inputs = np.array([2,2])\n",
        "print(perceptron.predict(inputs))\n",
        "\n",
        "inputs = np.array([0,0])\n",
        "print(perceptron.predict(inputs))"
      ]
    },
    {
      "cell_type": "code",
      "execution_count": null,
      "metadata": {
        "id": "SuAA4r-GA3Y5"
      },
      "outputs": [],
      "source": []
    }
  ],
  "metadata": {
    "kernelspec": {
      "display_name": "Python 3",
      "language": "python",
      "name": "python3"
    },
    "language_info": {
      "codemirror_mode": {
        "name": "ipython",
        "version": 3
      },
      "file_extension": ".py",
      "mimetype": "text/x-python",
      "name": "python",
      "nbconvert_exporter": "python",
      "pygments_lexer": "ipython3",
      "version": "3.8.3"
    },
    "colab": {
      "name": "perceptron.ipynb",
      "provenance": [],
      "include_colab_link": true
    }
  },
  "nbformat": 4,
  "nbformat_minor": 0
}