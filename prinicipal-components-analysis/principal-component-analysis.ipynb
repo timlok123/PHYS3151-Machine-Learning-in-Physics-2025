{
  "cells": [
    {
      "cell_type": "markdown",
      "metadata": {
        "id": "view-in-github",
        "colab_type": "text"
      },
      "source": [
        "<a href=\"https://colab.research.google.com/github/timlok123/PHYS3151-Machine-Learning-in-Physics-2025/blob/main/prinicipal-components-analysis/principal-component-analysis.ipynb\" target=\"_parent\"><img src=\"https://colab.research.google.com/assets/colab-badge.svg\" alt=\"Open In Colab\"/></a>"
      ]
    },
    {
      "cell_type": "markdown",
      "metadata": {
        "id": "GN7m006kYmEk"
      },
      "source": [
        "# Principal Component Analysis (PCA)"
      ]
    },
    {
      "cell_type": "markdown",
      "metadata": {
        "id": "_yjZPULqYmEm"
      },
      "source": [
        "The objective of PCA is to reduce problems with high dimension to a problem with lower dimention. To do this, one can simply drop components which are less important to the problem, but that would ignore the information from those components which is undesirable. Instead, one can make a set of new components which is weighed by the significance of the original components. This also reduces the dimesion of the problem, but loses less information."
      ]
    },
    {
      "cell_type": "markdown",
      "metadata": {
        "id": "FZvyr815YmEn"
      },
      "source": [
        "## Example 1"
      ]
    },
    {
      "cell_type": "markdown",
      "metadata": {
        "id": "ZE5Arrp4YmEn"
      },
      "source": [
        "Data source:https://archive.ics.uci.edu/ml/datasets/Wine\n",
        "<br>These data are the results of a chemical analysis of wines grown in the same region in Italy."
      ]
    },
    {
      "cell_type": "markdown",
      "metadata": {
        "id": "LSHfMwbmYmEo"
      },
      "source": [
        "### Data Import"
      ]
    },
    {
      "cell_type": "markdown",
      "metadata": {
        "id": "LsMAr84yYmEo"
      },
      "source": [
        "Like all other machine learning tasks, the first step is to import the data."
      ]
    },
    {
      "cell_type": "code",
      "execution_count": 1,
      "metadata": {
        "jupyter": {
          "outputs_hidden": false
        },
        "scrolled": true,
        "id": "PrePjRksYmEp",
        "outputId": "c08001ce-108d-47cc-8663-04e59af74017",
        "colab": {
          "base_uri": "https://localhost:8080/"
        }
      },
      "outputs": [
        {
          "output_type": "stream",
          "name": "stdout",
          "text": [
            "Cloning into 'PHYS3151-Machine-Learning-in-Physics-2025'...\n",
            "remote: Enumerating objects: 167, done.\u001b[K\n",
            "remote: Counting objects: 100% (167/167), done.\u001b[K\n",
            "remote: Compressing objects: 100% (161/161), done.\u001b[K\n",
            "remote: Total 167 (delta 80), reused 38 (delta 5), pack-reused 0 (from 0)\u001b[K\n",
            "Receiving objects: 100% (167/167), 11.26 MiB | 6.93 MiB/s, done.\n",
            "Resolving deltas: 100% (80/80), done.\n"
          ]
        }
      ],
      "source": [
        "import pandas as pd\n",
        "from pandas import DataFrame\n",
        "import matplotlib.pyplot as plt\n",
        "!git clone https://github.com/timlok123/PHYS3151-Machine-Learning-in-Physics-2025"
      ]
    },
    {
      "cell_type": "code",
      "source": [
        "df = pd.read_csv(\"/content/PHYS3151-Machine-Learning-in-Physics-2025/prinicipal-components-analysis/principal-component-analysis-example-1.csv\", sep=\",\")\n",
        "print (df)"
      ],
      "metadata": {
        "id": "Ijq_8_mPY4RZ",
        "outputId": "8bbc0695-752d-4e39-f30a-dc30b7b7b32a",
        "colab": {
          "base_uri": "https://localhost:8080/"
        }
      },
      "execution_count": 2,
      "outputs": [
        {
          "output_type": "stream",
          "name": "stdout",
          "text": [
            "     Type  Alcohol  Malic-Acid   Ash  Alcalinity  Magnesium  Total-Phenols  \\\n",
            "0       1    14.23        1.71  2.43        15.6        127           2.80   \n",
            "1       1    13.20        1.78  2.14        11.2        100           2.65   \n",
            "2       1    13.16        2.36  2.67        18.6        101           2.80   \n",
            "3       1    14.37        1.95  2.50        16.8        113           3.85   \n",
            "4       1    13.24        2.59  2.87        21.0        118           2.80   \n",
            "..    ...      ...         ...   ...         ...        ...            ...   \n",
            "173     3    13.71        5.65  2.45        20.5         95           1.68   \n",
            "174     3    13.40        3.91  2.48        23.0        102           1.80   \n",
            "175     3    13.27        4.28  2.26        20.0        120           1.59   \n",
            "176     3    13.17        2.59  2.37        20.0        120           1.65   \n",
            "177     3    14.13        4.10  2.74        24.5         96           2.05   \n",
            "\n",
            "     Flavanoids  Nonflavanoid-phenols  Proanthocyanins  Color-Intensity   Hue  \\\n",
            "0          3.06                  0.28             2.29             5.64  1.04   \n",
            "1          2.76                  0.26             1.28             4.38  1.05   \n",
            "2          3.24                  0.30             2.81             5.68  1.03   \n",
            "3          3.49                  0.24             2.18             7.80  0.86   \n",
            "4          2.69                  0.39             1.82             4.32  1.04   \n",
            "..          ...                   ...              ...              ...   ...   \n",
            "173        0.61                  0.52             1.06             7.70  0.64   \n",
            "174        0.75                  0.43             1.41             7.30  0.70   \n",
            "175        0.69                  0.43             1.35            10.20  0.59   \n",
            "176        0.68                  0.53             1.46             9.30  0.60   \n",
            "177        0.76                  0.56             1.35             9.20  0.61   \n",
            "\n",
            "     OD280/OD315  Proline  \n",
            "0           3.92     1065  \n",
            "1           3.40     1050  \n",
            "2           3.17     1185  \n",
            "3           3.45     1480  \n",
            "4           2.93      735  \n",
            "..           ...      ...  \n",
            "173         1.74      740  \n",
            "174         1.56      750  \n",
            "175         1.56      835  \n",
            "176         1.62      840  \n",
            "177         1.60      560  \n",
            "\n",
            "[178 rows x 14 columns]\n"
          ]
        }
      ]
    },
    {
      "cell_type": "markdown",
      "metadata": {
        "id": "ZWzKWfAnYmEq"
      },
      "source": [
        "Since PCA only deals with the 'X' component of the data, the 'y' component can be set aside since it is not important for PCA."
      ]
    },
    {
      "cell_type": "code",
      "execution_count": 3,
      "metadata": {
        "jupyter": {
          "outputs_hidden": false
        },
        "id": "kbiBmzu5YmEs"
      },
      "outputs": [],
      "source": [
        "X = df.drop(columns=['Type'])\n",
        "y = df['Type']"
      ]
    },
    {
      "cell_type": "markdown",
      "metadata": {
        "id": "iOG0dOqeYmEs"
      },
      "source": [
        "### Data Preprocessing"
      ]
    },
    {
      "cell_type": "markdown",
      "metadata": {
        "id": "UFRX0RnSYmEt"
      },
      "source": [
        "Before applying PCA, one must do data preprocessing: normalization and feature scaling."
      ]
    },
    {
      "cell_type": "code",
      "execution_count": 4,
      "metadata": {
        "jupyter": {
          "outputs_hidden": false
        },
        "id": "mB5pnxczYmEt",
        "outputId": "58b8673b-5c22-429a-9470-17f5ac40f964",
        "colab": {
          "base_uri": "https://localhost:8080/"
        }
      },
      "outputs": [
        {
          "output_type": "stream",
          "name": "stdout",
          "text": [
            "(178, 13)\n",
            "RobustScaler()\n"
          ]
        }
      ],
      "source": [
        "from sklearn import preprocessing\n",
        "scaler = preprocessing.RobustScaler()\n",
        "X_scaled = scaler.fit_transform(X)\n",
        "X_scaled = pd.DataFrame(X_scaled,columns=list(X.columns.values))\n",
        "print(X_scaled.shape)\n",
        "print(scaler)"
      ]
    },
    {
      "cell_type": "code",
      "execution_count": 5,
      "metadata": {
        "jupyter": {
          "outputs_hidden": false
        },
        "id": "I6oNulElYmEu"
      },
      "outputs": [],
      "source": [
        "X = X_scaled"
      ]
    },
    {
      "cell_type": "markdown",
      "metadata": {
        "id": "Dq8MNsk6YmEu"
      },
      "source": [
        "### PCA Implementation"
      ]
    },
    {
      "cell_type": "markdown",
      "metadata": {
        "id": "gJmzeWSpYmEv"
      },
      "source": [
        "In this example, we just use PCA from sklearn package."
      ]
    },
    {
      "cell_type": "markdown",
      "metadata": {
        "id": "hF-gWMgHYmEv"
      },
      "source": [
        "For demonstration, take that this data can be adequately represented with only 3 dimensions, which is probably not the case, but 3 dimensions make it easy to plot."
      ]
    },
    {
      "cell_type": "code",
      "execution_count": 6,
      "metadata": {
        "jupyter": {
          "outputs_hidden": false
        },
        "id": "fYgd_hW0YmEv"
      },
      "outputs": [],
      "source": [
        "from sklearn.decomposition import PCA\n",
        "pca = PCA(n_components=3)\n",
        "principalComponents = pca.fit_transform(X)\n",
        "principalX = pd.DataFrame(data = principalComponents, columns = ['principal component 1', 'principal component 2','principal component 3'])\n",
        "finalX = pd.concat([principalX, y], axis = 1)"
      ]
    },
    {
      "cell_type": "code",
      "execution_count": 7,
      "metadata": {
        "jupyter": {
          "outputs_hidden": false
        },
        "id": "WHcF66AaYmEw",
        "outputId": "4724629c-536a-441f-9afe-54978937a6ed",
        "colab": {
          "base_uri": "https://localhost:8080/"
        }
      },
      "outputs": [
        {
          "output_type": "execute_result",
          "data": {
            "text/plain": [
              "array([0.32853032, 0.19681405, 0.12684328])"
            ]
          },
          "metadata": {},
          "execution_count": 7
        }
      ],
      "source": [
        "pca.explained_variance_ratio_"
      ]
    },
    {
      "cell_type": "markdown",
      "metadata": {
        "id": "tqm-G8otYmEw"
      },
      "source": [
        "Since usually we don't want to lose so much information when we reduce dimension, so we see how well the information is kept in the dimension reduction by looking at the variance_riatio, which means percentage of variance explained by each of the selected components. The larger the ratio is, the more important is the component.\n",
        "\n",
        "<br>Then, we look at the total variance kept."
      ]
    },
    {
      "cell_type": "code",
      "execution_count": null,
      "metadata": {
        "jupyter": {
          "outputs_hidden": false
        },
        "id": "mcjMRfIkYmEw",
        "outputId": "ac883bcf-6a7c-432d-898a-d8efa96a320e",
        "colab": {
          "base_uri": "https://localhost:8080/"
        }
      },
      "outputs": [
        {
          "output_type": "stream",
          "name": "stdout",
          "text": [
            "In this case, the total variance preserved is 65.21876534446807 % of the original dataset\n"
          ]
        }
      ],
      "source": [
        "import numpy as np\n",
        "print('In this case, the total variance preserved is', 100*np.sum(pca.explained_variance_ratio_),'% of the original dataset')"
      ]
    },
    {
      "cell_type": "markdown",
      "metadata": {
        "id": "X58hPhxGYmEx"
      },
      "source": [
        "As one can imagine, reducing your data from 13 columns down to 3 can be pretty bad in terms of information loss."
      ]
    },
    {
      "cell_type": "markdown",
      "metadata": {
        "id": "Wo9utU29YmEx"
      },
      "source": [
        "As is our purpose, we plot our dimensionally reduced data."
      ]
    },
    {
      "cell_type": "code",
      "execution_count": null,
      "metadata": {
        "jupyter": {
          "outputs_hidden": false
        },
        "id": "S5BTv8BwYmEx",
        "outputId": "48a6f813-027d-452d-f07d-448aa9957e4b",
        "colab": {
          "base_uri": "https://localhost:8080/",
          "height": 438
        }
      },
      "outputs": [
        {
          "output_type": "display_data",
          "data": {
            "text/plain": [
              "<Figure size 640x480 with 1 Axes>"
            ],
            "image/png": "[encoded data removed]"
          },
          "metadata": {}
        }
      ],
      "source": [
        "from mpl_toolkits.mplot3d import Axes3D\n",
        "import matplotlib.pyplot as plt\n",
        "fig=plt.figure()\n",
        "ax = fig.add_subplot(projection='3d')\n",
        "\n",
        "x =principalX['principal component 1']\n",
        "y =principalX['principal component 2']\n",
        "z =principalX['principal component 3']\n",
        "\n",
        "ax.scatter(x, y, z, c='r', marker='o')\n",
        "ax.set_title('Principal Components')\n",
        "ax.set_xlabel('principal component 1')\n",
        "ax.set_ylabel('principal component 2')\n",
        "ax.set_zlabel('principal component 3')\n",
        "\n",
        "plt.show()"
      ]
    },
    {
      "cell_type": "markdown",
      "metadata": {
        "id": "MahJo4WSYmEy"
      },
      "source": [
        "Next, since the variance is largely lost in the trial above, let's try a less aggressive reduction of 13 dimensions to 10."
      ]
    },
    {
      "cell_type": "code",
      "execution_count": null,
      "metadata": {
        "jupyter": {
          "outputs_hidden": false
        },
        "id": "VZfwfqihYmEy",
        "outputId": "bab9700e-7868-46ea-99b4-bb1cc3631c34",
        "colab": {
          "base_uri": "https://localhost:8080/"
        }
      },
      "outputs": [
        {
          "output_type": "execute_result",
          "data": {
            "text/plain": [
              "array([0.32853032, 0.19681405, 0.12684328, 0.07788489, 0.06968107,\n",
              "       0.05607506, 0.04809657, 0.02541638, 0.02091117, 0.01754752])"
            ]
          },
          "metadata": {},
          "execution_count": 12
        }
      ],
      "source": [
        "pca = PCA(n_components=10)\n",
        "principalComponents = pca.fit_transform(X)\n",
        "principalX = pd.DataFrame(data = principalComponents, columns = ['principal component 1', 'principal component 2','principal component 3', 'principal component 4', 'principal component 5', 'principal component 6', 'principal component 7', 'principal component 8', 'principal component 9', 'principal component 10'])\n",
        "finalX = pd.concat([principalX, y], axis = 1)\n",
        "pca.explained_variance_ratio_"
      ]
    },
    {
      "cell_type": "code",
      "execution_count": null,
      "metadata": {
        "jupyter": {
          "outputs_hidden": false
        },
        "id": "-nXCTFyMYmEy",
        "outputId": "9f5901d9-6660-4053-a2bf-76da0a72f234",
        "colab": {
          "base_uri": "https://localhost:8080/"
        }
      },
      "outputs": [
        {
          "output_type": "stream",
          "name": "stdout",
          "text": [
            "In this case, the total variance preserved is 96.78003160463805 % of the original dataset\n"
          ]
        }
      ],
      "source": [
        "print('In this case, the total variance preserved is', 100*np.sum(pca.explained_variance_ratio_),'% of the original dataset')"
      ]
    },
    {
      "cell_type": "markdown",
      "metadata": {
        "id": "p2LdA5N-YmEz"
      },
      "source": [
        "This reduction is much better in terms of data loss because it reduces the dataloss to less than 3.5% of the original variance."
      ]
    },
    {
      "cell_type": "markdown",
      "metadata": {
        "id": "HZFwX3BWYmEz"
      },
      "source": [
        "In principal-component-analysis, we need to choose the number of principal components ourselves and information loss is always important for us to consider, so that we can plot the correspondence between the variance kept and the dimension to which the initial data is reduced."
      ]
    },
    {
      "cell_type": "code",
      "execution_count": null,
      "metadata": {
        "jupyter": {
          "outputs_hidden": false
        },
        "id": "Kre98sO3YmEz"
      },
      "outputs": [],
      "source": [
        "dimensions = []\n",
        "variance = []\n",
        "for i in range(13):\n",
        "    pca = PCA(n_components=i)\n",
        "    principalComponents = pca.fit_transform(X)\n",
        "    principalX = pd.DataFrame(data = principalComponents)\n",
        "    ratio = np.sum(pca.explained_variance_ratio_)\n",
        "    dimensions.append(i)\n",
        "    variance.append(ratio)"
      ]
    },
    {
      "cell_type": "code",
      "execution_count": null,
      "metadata": {
        "jupyter": {
          "outputs_hidden": false
        },
        "id": "NTHpt51_YmEz",
        "outputId": "6ba09e1e-5263-4ce0-f52a-d72632f3e993",
        "colab": {
          "base_uri": "https://localhost:8080/",
          "height": 490
        }
      },
      "outputs": [
        {
          "output_type": "execute_result",
          "data": {
            "text/plain": [
              "Text(0.5, 1.0, 'Dimensions vs variance')"
            ]
          },
          "metadata": {},
          "execution_count": 15
        },
        {
          "output_type": "display_data",
          "data": {
            "text/plain": [
              "<Figure size 640x480 with 1 Axes>"
            ],
            "image/png": "[encoded data removed]"
          },
          "metadata": {}
        }
      ],
      "source": [
        "plt.plot(dimensions,variance,marker='o',ls='--')\n",
        "plt.xlabel(\"Dimensions\")\n",
        "plt.ylabel(\"Variance\")\n",
        "plt.title(\"Dimensions vs variance\")"
      ]
    },
    {
      "cell_type": "markdown",
      "metadata": {
        "id": "Ie0IXl99YmE0"
      },
      "source": [
        "As you can see, PCA represents a trade-off between information kept (variance) and computational complexity (dimensions). You can either keep most of the variance in your data, but your computations (such as regression) take very long to run. But if you choose to use much fewer dimensions, the variance in your data will decrease."
      ]
    },
    {
      "cell_type": "markdown",
      "metadata": {
        "id": "lq_c59e1YmE0"
      },
      "source": [
        "When we are tring to find the correspondence of variance and dimensions, we can also set the minimum variance of the principal components and then get the proper dimension, using the same function."
      ]
    },
    {
      "cell_type": "code",
      "execution_count": null,
      "metadata": {
        "jupyter": {
          "outputs_hidden": false
        },
        "id": "pqgeMQYLYmE0",
        "outputId": "bf330b6a-9f02-428c-c101-e7265edc455c",
        "colab": {
          "base_uri": "https://localhost:8080/"
        }
      },
      "outputs": [
        {
          "output_type": "stream",
          "name": "stdout",
          "text": [
            "[0.32853032 0.19681405 0.12684328 0.07788489 0.06968107 0.05607506\n",
            " 0.04809657 0.02541638 0.02091117 0.01754752 0.01609249]\n",
            "Dimensions should be: 11\n"
          ]
        }
      ],
      "source": [
        "pca = PCA(n_components=0.98)\n",
        "pca.fit(X)\n",
        "print (pca.explained_variance_ratio_)\n",
        "print ('Dimensions should be:',pca.n_components_)"
      ]
    },
    {
      "cell_type": "markdown",
      "metadata": {
        "id": "IdBo3O9kYmE0"
      },
      "source": [
        "## Example 2"
      ]
    },
    {
      "cell_type": "markdown",
      "metadata": {
        "id": "GfjZG0EoYmE0"
      },
      "source": [
        "As with all previous notebooks, the second example uses an algorithm written from scratch (as opposed to sklearn) to better unpack the mechanism behind."
      ]
    },
    {
      "cell_type": "markdown",
      "metadata": {
        "id": "PcxMMKyFYmE0"
      },
      "source": [
        "Data source:https://archive.ics.uci.edu/ml/datasets/breast+cancer+wisconsin+%28original%29\n",
        "<br>Samples arrive periodically as Dr. Wolberg reports his clinical cases. The database therefore reflects this chronological grouping of the data.\n",
        "    \n",
        " <br>First, import the data and have a look."
      ]
    },
    {
      "cell_type": "markdown",
      "metadata": {
        "id": "-Lh4XQ8UYmE1"
      },
      "source": [
        "### Data Preparation"
      ]
    },
    {
      "cell_type": "code",
      "execution_count": null,
      "metadata": {
        "jupyter": {
          "outputs_hidden": false
        },
        "scrolled": true,
        "id": "whfqMYeuYmE1",
        "outputId": "a934f6fa-5103-4f16-af29-d1ccb57aaabc",
        "colab": {
          "base_uri": "https://localhost:8080/"
        }
      },
      "outputs": [
        {
          "output_type": "stream",
          "name": "stdout",
          "text": [
            "          id  thickness  cell-size  cell-shape  marginal-adhesion  \\\n",
            "0    1000025          5          1           1                  1   \n",
            "1    1002945          5          4           4                  5   \n",
            "2    1015425          3          1           1                  1   \n",
            "3    1016277          6          8           8                  1   \n",
            "4    1017023          4          1           1                  3   \n",
            "..       ...        ...        ...         ...                ...   \n",
            "694   776715          3          1           1                  1   \n",
            "695   841769          2          1           1                  1   \n",
            "696   888820          5         10          10                  3   \n",
            "697   897471          4          8           6                  4   \n",
            "698   897471          4          8           8                  5   \n",
            "\n",
            "     single-cell-size bare-nuclei  bland-chromatin  normal-nucleoli  mitoses  \\\n",
            "0                   2           1                3                1        1   \n",
            "1                   7          10                3                2        1   \n",
            "2                   2           2                3                1        1   \n",
            "3                   3           4                3                7        1   \n",
            "4                   2           1                3                1        1   \n",
            "..                ...         ...              ...              ...      ...   \n",
            "694                 3           2                1                1        1   \n",
            "695                 2           1                1                1        1   \n",
            "696                 7           3                8               10        2   \n",
            "697                 3           4               10                6        1   \n",
            "698                 4           5               10                4        1   \n",
            "\n",
            "     class  \n",
            "0        2  \n",
            "1        2  \n",
            "2        2  \n",
            "3        2  \n",
            "4        2  \n",
            "..     ...  \n",
            "694      2  \n",
            "695      2  \n",
            "696      4  \n",
            "697      4  \n",
            "698      4  \n",
            "\n",
            "[699 rows x 11 columns]\n"
          ]
        }
      ],
      "source": [
        "import pandas as pd\n",
        "from pandas import DataFrame\n",
        "import matplotlib.pyplot as plt\n",
        "\n",
        "#df = pd.read_csv(\"asset/csv/breast-cancer-wisconsin.csv\", sep=\",\")\n",
        "df = pd.read_csv(\"/content/PHYS3151-Machine-Learning-in-Physics-2025/prinicipal-components-analysis/principal-component-analysis-example-2.csv\", sep=\",\")\n",
        "\n",
        "print(df)"
      ]
    },
    {
      "cell_type": "markdown",
      "metadata": {
        "id": "QNH-mdK1YmE1"
      },
      "source": [
        "We notice that the first column is an id column, which is not relevant to our data, so we first remove it from the dataset."
      ]
    },
    {
      "cell_type": "code",
      "execution_count": null,
      "metadata": {
        "jupyter": {
          "outputs_hidden": false
        },
        "id": "bt4FjBfpYmE2"
      },
      "outputs": [],
      "source": [
        "df.drop(columns=['id'],inplace=True)"
      ]
    },
    {
      "cell_type": "markdown",
      "metadata": {
        "id": "BpLV3K5OYmE2"
      },
      "source": [
        "Now, in this dataset, the response value vector 'y' is actually called 'class', and represents whether the cancerous cell is malignant or benign."
      ]
    },
    {
      "cell_type": "code",
      "execution_count": null,
      "metadata": {
        "jupyter": {
          "outputs_hidden": false
        },
        "id": "k8AqIPygYmE2"
      },
      "outputs": [],
      "source": [
        "X = df.drop(columns=['class'])\n",
        "y = df['class']"
      ]
    },
    {
      "cell_type": "markdown",
      "metadata": {
        "id": "8Cdy9vhjYmE2"
      },
      "source": [
        "In this dataset, instead of having simple 'NaN' to deal with, all the unknown values are represented with '?', so to use the same implementation as in the logistic regression notebook, we must first replace all the '?' with 'NaN'."
      ]
    },
    {
      "cell_type": "code",
      "execution_count": null,
      "metadata": {
        "jupyter": {
          "outputs_hidden": false
        },
        "scrolled": true,
        "id": "bqce4ea8YmE2"
      },
      "outputs": [],
      "source": [
        "X = np.where(X=='?', float('NaN'), X)"
      ]
    },
    {
      "cell_type": "markdown",
      "metadata": {
        "id": "la9vCEiEYmE2"
      },
      "source": [
        "Then, we can use the same implementation to change all the NaN values into randomly selected values from the same column."
      ]
    },
    {
      "cell_type": "code",
      "execution_count": null,
      "metadata": {
        "jupyter": {
          "outputs_hidden": false
        },
        "scrolled": true,
        "id": "EgTATzYKYmE2",
        "outputId": "9407257d-03ce-43c0-dd8d-0fbb1e7f6864",
        "colab": {
          "base_uri": "https://localhost:8080/"
        }
      },
      "outputs": [
        {
          "output_type": "stream",
          "name": "stderr",
          "text": [
            "/usr/lib/python3.11/random.py:374: FutureWarning: Series.__getitem__ treating keys as positions is deprecated. In a future version, integer keys will always be treated as labels (consistent with DataFrame behavior). To access a value by position, use `ser.iloc[pos]`\n",
            "  return seq[self._randbelow(len(seq))]\n",
            "<ipython-input-23-bc9ffe056180>:3: FutureWarning: Downcasting object dtype arrays on .fillna, .ffill, .bfill is deprecated and will change in a future version. Call result.infer_objects(copy=False) instead. To opt-in to the future behavior, set `pd.set_option('future.no_silent_downcasting', True)`\n",
            "  X = X.apply(lambda x: x.fillna(random.choice(x.dropna())), axis=1)\n"
          ]
        }
      ],
      "source": [
        "import random\n",
        "X = pd.DataFrame(data = X, columns = df.drop(columns=['class']).columns.values)\n",
        "X = X.apply(lambda x: x.fillna(random.choice(x.dropna())), axis=1)"
      ]
    },
    {
      "cell_type": "markdown",
      "metadata": {
        "id": "JKCbsOfDYmE3"
      },
      "source": [
        "Before PCA, we need data preprocessing."
      ]
    },
    {
      "cell_type": "code",
      "execution_count": null,
      "metadata": {
        "jupyter": {
          "outputs_hidden": false
        },
        "id": "lGeSUbgMYmE3",
        "outputId": "9f35bfaa-9f30-4342-b232-5de4cbd4cec8",
        "colab": {
          "base_uri": "https://localhost:8080/"
        }
      },
      "outputs": [
        {
          "output_type": "stream",
          "name": "stdout",
          "text": [
            "(699, 9)\n",
            "RobustScaler()\n"
          ]
        }
      ],
      "source": [
        "from sklearn import preprocessing\n",
        "scaler = preprocessing.RobustScaler()\n",
        "X_scaled = scaler.fit_transform(X)\n",
        "X_scaled = pd.DataFrame(X_scaled,columns=list(X.columns.values))\n",
        "print(X_scaled.shape)\n",
        "print(scaler)"
      ]
    },
    {
      "cell_type": "code",
      "execution_count": null,
      "metadata": {
        "jupyter": {
          "outputs_hidden": false
        },
        "id": "j3XW9L0mYmE3"
      },
      "outputs": [],
      "source": [
        "X = X_scaled"
      ]
    },
    {
      "cell_type": "markdown",
      "metadata": {
        "id": "PYovmQhUYmE3"
      },
      "source": [
        "### Covariance Matrix"
      ]
    },
    {
      "cell_type": "markdown",
      "metadata": {
        "id": "mth0TWCnYmE3"
      },
      "source": [
        "The first step in PCA is establishing the covariance matrix of the design matrix."
      ]
    },
    {
      "cell_type": "code",
      "execution_count": null,
      "metadata": {
        "jupyter": {
          "outputs_hidden": false
        },
        "id": "QOZtAdneYmE3"
      },
      "outputs": [],
      "source": [
        "cov = np.cov(X,rowvar=False)"
      ]
    },
    {
      "cell_type": "markdown",
      "metadata": {
        "id": "lH7x-zGYYmE3"
      },
      "source": [
        "Here, the cov function from the numpy package is used, functionally it is exactly the same as performing the operation 'manually' using the numpy matrix operations. A covariance matrix is the matrix $X^T X$. However it is slightly easier to simply use the numpy function since it reduces the step of having to convert the pandas dataframe into a numpy array. The covariance matrix shows whether the features are positively correlated (postive $C_{ij}$) or negatively correlated (negative $C_{ij}$). And since the features are regularized, it also shows how strongly correlated they are (The greater $|C_{ij}|$ is the more strongly correlated the features are.)"
      ]
    },
    {
      "cell_type": "markdown",
      "metadata": {
        "id": "V0cPk1iPYmE4"
      },
      "source": [
        "### Singular Value Decomposition"
      ]
    },
    {
      "cell_type": "markdown",
      "metadata": {
        "id": "oJFtI0smYmE4"
      },
      "source": [
        "After getting the covariance matrix, we want to get its eigenvectors.Here, we use svd.\n",
        "<br>For the svd here: $$covariance\\ matirx = U.S.V^*$$\n",
        "<br>S is a diagonal matrix and U is a unitary matrix whose columns are exactly the u vectors we want.  Actually, u vectors signify the new planes to which we will project our data sample.<br> <br>Therefore, to reduce a system from n-dimensions to k-dimensions, just take the first k-vectors from U (first k columns)."
      ]
    },
    {
      "cell_type": "code",
      "execution_count": null,
      "metadata": {
        "jupyter": {
          "outputs_hidden": false
        },
        "id": "og5mGeycYmE4",
        "outputId": "bfa2fb74-a55a-46b6-d4ee-77e82fab535c",
        "colab": {
          "base_uri": "https://localhost:8080/"
        }
      },
      "outputs": [
        {
          "output_type": "stream",
          "name": "stdout",
          "text": [
            "[5.43152911 1.7154467  0.45061116 0.39583016 0.32690645 0.2153644\n",
            " 0.17540671 0.16197122 0.05060171]\n",
            "(9, 9)\n"
          ]
        }
      ],
      "source": [
        "from numpy import linalg as la\n",
        "U,sigma,VT=la.svd(cov)\n",
        "print(sigma)\n",
        "print(U.shape)\n",
        "#print(U)"
      ]
    },
    {
      "cell_type": "markdown",
      "metadata": {
        "id": "3X0x2NS5YmE4"
      },
      "source": [
        "### Principal Components"
      ]
    },
    {
      "cell_type": "markdown",
      "metadata": {
        "id": "tCa6qU0ZYmE4"
      },
      "source": [
        "To get the reduced system is to transform every x of example in design matrix X into z, which is: X_reduced=X.U_reduced (X: 699 x 9,U_reduced: 9 x Dimension, X_reduced: 699 x Dimension).\n",
        "<br>So we design a function here to get the reduced system and also show the ratio of information(variance) kept."
      ]
    },
    {
      "cell_type": "code",
      "execution_count": null,
      "metadata": {
        "jupyter": {
          "outputs_hidden": false
        },
        "id": "J1lV9cnSYmE4"
      },
      "outputs": [],
      "source": [
        "def reduce_system(U,dimension):\n",
        "    U_reduced=U[ : , :dimension]\n",
        "    reduced_vec=np.dot(X,U_reduced)\n",
        "    var=np.sum(sigma[:dimension])/np.sum(sigma[:])\n",
        "    return reduced_vec,var"
      ]
    },
    {
      "cell_type": "markdown",
      "metadata": {
        "id": "WGbXwnzCYmE4"
      },
      "source": [
        "### Variance vs Reduced Dimension"
      ]
    },
    {
      "cell_type": "markdown",
      "metadata": {
        "id": "468lzf1zYmE5"
      },
      "source": [
        "Once again, we can plot the variance loss against the dimensions as in the first example."
      ]
    },
    {
      "cell_type": "code",
      "execution_count": null,
      "metadata": {
        "jupyter": {
          "outputs_hidden": false
        },
        "id": "6PCbhxKwYmE5"
      },
      "outputs": [],
      "source": [
        "dimensions = []\n",
        "variance = []\n",
        "for i in range(10):\n",
        "    reducevec, vari = reduce_system(U,i)\n",
        "    dimensions.append(i)\n",
        "    variance.append(vari)"
      ]
    },
    {
      "cell_type": "code",
      "execution_count": null,
      "metadata": {
        "jupyter": {
          "outputs_hidden": false
        },
        "id": "NgSISfTDYmE5",
        "outputId": "a19052af-9bfa-499d-af81-8c68e735fcad",
        "colab": {
          "base_uri": "https://localhost:8080/",
          "height": 490
        }
      },
      "outputs": [
        {
          "output_type": "execute_result",
          "data": {
            "text/plain": [
              "Text(0.5, 1.0, 'Dimensions vs variance')"
            ]
          },
          "metadata": {},
          "execution_count": 30
        },
        {
          "output_type": "display_data",
          "data": {
            "text/plain": [
              "<Figure size 640x480 with 1 Axes>"
            ],
            "image/png": "[encoded data removed]"
          },
          "metadata": {}
        }
      ],
      "source": [
        "plt.plot(dimensions,variance,marker='o',ls='--')\n",
        "plt.xlabel(\"Dimensions\")\n",
        "plt.ylabel(\"Variance\")\n",
        "plt.title(\"Dimensions vs variance\")"
      ]
    },
    {
      "cell_type": "markdown",
      "metadata": {
        "id": "nxLXvPICYmE5"
      },
      "source": [
        "Now, because the total number of dimensions of this is lower, the curve is more jagged, but the inverse exponential curve is clear. In datasets with very large amounts of dimensions, using PCA can reduce a huge amount of dimensions without too much loss of information."
      ]
    },
    {
      "cell_type": "markdown",
      "metadata": {
        "id": "PH2zcrITYmE5"
      },
      "source": [
        "### Comparison with Initial Data"
      ]
    },
    {
      "cell_type": "markdown",
      "metadata": {
        "id": "S3Fb22YIYmE6"
      },
      "source": [
        "Since we have gone through all the trouble of doing principal component analysis, we should at least put the data through it's paces and see the effect of PCA. So we now compare doing SVM classification on both the un-PCA-ed data and the PCA-ed data."
      ]
    },
    {
      "cell_type": "markdown",
      "metadata": {
        "id": "xpf9Fz-HYmE6"
      },
      "source": [
        "Firstly, we do SVM using the complete dataset."
      ]
    },
    {
      "cell_type": "code",
      "execution_count": null,
      "metadata": {
        "jupyter": {
          "outputs_hidden": false
        },
        "id": "ZHf4W4-IYmE6",
        "outputId": "facfc6c8-1dad-452d-abed-a697e2066733",
        "colab": {
          "base_uri": "https://localhost:8080/"
        }
      },
      "outputs": [
        {
          "output_type": "stream",
          "name": "stdout",
          "text": [
            "[[134   1]\n",
            " [  4  71]]\n",
            "              precision    recall  f1-score   support\n",
            "\n",
            "           2       0.97      0.99      0.98       135\n",
            "           4       0.99      0.95      0.97        75\n",
            "\n",
            "    accuracy                           0.98       210\n",
            "   macro avg       0.98      0.97      0.97       210\n",
            "weighted avg       0.98      0.98      0.98       210\n",
            "\n"
          ]
        }
      ],
      "source": [
        "from sklearn.model_selection import train_test_split\n",
        "X_train, X_test, y_train, y_test = train_test_split(X, y, test_size = 0.30)\n",
        "from sklearn.svm import SVC\n",
        "svclassifier = SVC(kernel='linear')\n",
        "svclassifier.fit(X_train, y_train)\n",
        "y_pred = svclassifier.predict(X_test)\n",
        "from sklearn.metrics import classification_report, confusion_matrix\n",
        "print(confusion_matrix(y_test,y_pred))\n",
        "print(classification_report(y_test,y_pred))"
      ]
    },
    {
      "cell_type": "markdown",
      "metadata": {
        "id": "o0J3wLt5YmE6"
      },
      "source": [
        "Using the original dataset, we have misclassifications whose number is the sum of antidiagonal of the confusion matrix."
      ]
    },
    {
      "cell_type": "markdown",
      "metadata": {
        "id": "sNL4fxKPYmE6"
      },
      "source": [
        "Next, we test our reduced system. To clearly show the difference according to the figure above, here we give an example of 1-dimension. Before implementing svm ,we can reshape X_reduced in a form similar to the initial data."
      ]
    },
    {
      "cell_type": "code",
      "execution_count": null,
      "metadata": {
        "jupyter": {
          "outputs_hidden": false
        },
        "scrolled": true,
        "id": "sKppA69TYmE6",
        "outputId": "3286d270-68ad-4ed0-fbf9-2d62414cd339",
        "colab": {
          "base_uri": "https://localhost:8080/"
        }
      },
      "outputs": [
        {
          "output_type": "stream",
          "name": "stdout",
          "text": [
            "(699, 1)\n",
            "     principal component 1  class\n",
            "0                -0.049210    2.0\n",
            "1                -2.351006    2.0\n",
            "2                 0.005031    2.0\n",
            "3                -2.062122    2.0\n",
            "4                -0.207447    2.0\n",
            "..                     ...    ...\n",
            "694              -0.014931    2.0\n",
            "695               0.271724    2.0\n",
            "696              -4.574040    4.0\n",
            "697              -2.634439    4.0\n",
            "698              -2.880885    4.0\n",
            "\n",
            "[699 rows x 2 columns]\n"
          ]
        }
      ],
      "source": [
        "reducedvec, var=reduce_system(U,1)\n",
        "X_pca=reducedvec\n",
        "y = y.to_numpy()\n",
        "y = y.reshape((len(y),1))\n",
        "print(X_pca.shape)\n",
        "df_pca = np.append(X_pca,y,axis=1)\n",
        "df_pca = pd.DataFrame(data = df_pca, columns = ['principal component 1','class'])\n",
        "print(df_pca)"
      ]
    },
    {
      "cell_type": "code",
      "execution_count": null,
      "metadata": {
        "jupyter": {
          "outputs_hidden": false
        },
        "id": "V7T2LH1LYmE6"
      },
      "outputs": [],
      "source": [
        "X1 = df_pca.drop(columns='class')\n",
        "y1 = df_pca['class']"
      ]
    },
    {
      "cell_type": "markdown",
      "metadata": {
        "id": "ZF7-7MixYmE7"
      },
      "source": [
        "Implement SVM to the reduced data."
      ]
    },
    {
      "cell_type": "code",
      "execution_count": null,
      "metadata": {
        "jupyter": {
          "outputs_hidden": false
        },
        "id": "F_I0wQn6YmE7",
        "outputId": "3ba2656d-3e4c-4a64-ef31-7f266893fc27",
        "colab": {
          "base_uri": "https://localhost:8080/"
        }
      },
      "outputs": [
        {
          "output_type": "stream",
          "name": "stdout",
          "text": [
            "[[136   6]\n",
            " [  4  64]]\n",
            "              precision    recall  f1-score   support\n",
            "\n",
            "         2.0       0.97      0.96      0.96       142\n",
            "         4.0       0.91      0.94      0.93        68\n",
            "\n",
            "    accuracy                           0.95       210\n",
            "   macro avg       0.94      0.95      0.95       210\n",
            "weighted avg       0.95      0.95      0.95       210\n",
            "\n"
          ]
        }
      ],
      "source": [
        "from sklearn.model_selection import train_test_split\n",
        "X_train, X_test, y_train, y_test = train_test_split(X1, y1, test_size = 0.30)\n",
        "from sklearn.svm import SVC\n",
        "svclassifier = SVC(kernel='linear')\n",
        "svclassifier.fit(X_train, y_train)\n",
        "y_pred = svclassifier.predict(X_test)\n",
        "from sklearn.metrics import classification_report, confusion_matrix\n",
        "print(confusion_matrix(y_test,y_pred))\n",
        "print(classification_report(y_test,y_pred))"
      ]
    },
    {
      "cell_type": "markdown",
      "metadata": {
        "id": "WH3Vazi_YmE7"
      },
      "source": [
        "Here, the classifcation has more misclassifcations than the one using the original data, likely caused by the loss in information during PCA, but this drop is not bad compared to the time this saved (which albeit kicks in more seriously when dealing with much larger datasets)."
      ]
    }
  ],
  "metadata": {
    "kernelspec": {
      "display_name": "Python 3",
      "language": "python",
      "name": "python3"
    },
    "language_info": {
      "codemirror_mode": {
        "name": "ipython",
        "version": 3
      },
      "file_extension": ".py",
      "mimetype": "text/x-python",
      "name": "python",
      "nbconvert_exporter": "python",
      "pygments_lexer": "ipython3",
      "version": "3.7.0"
    },
    "colab": {
      "name": "principal-component-analysis.ipynb",
      "provenance": [],
      "include_colab_link": true
    }
  },
  "nbformat": 4,
  "nbformat_minor": 0
}