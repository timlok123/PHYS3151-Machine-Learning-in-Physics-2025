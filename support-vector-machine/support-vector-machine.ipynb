{
  "metadata": {
    "kernelspec": {
      "name": "python3",
      "display_name": "Python 3",
      "language": "python"
    },
    "language_info": {
      "name": "python",
      "version": "3.7.3",
      "mimetype": "text/x-python",
      "codemirror_mode": {
        "name": "ipython",
        "version": 3
      },
      "pygments_lexer": "ipython3",
      "nbconvert_exporter": "python",
      "file_extension": ".py"
    },
    "colab": {
      "name": "support-vector-machine.ipynb",
      "provenance": [],
      "include_colab_link": true
    }
  },
  "nbformat_minor": 0,
  "nbformat": 4,
  "cells": [
    {
      "cell_type": "markdown",
      "metadata": {
        "id": "view-in-github",
        "colab_type": "text"
      },
      "source": [
        "<a href=\"https://colab.research.google.com/github/DavidGoing/PHYS3151-Machine-Learning-in-Physics-2024/blob/main/support-vector-machine/support-vector-machine.ipynb\" target=\"_parent\"><img src=\"https://colab.research.google.com/assets/colab-badge.svg\" alt=\"Open In Colab\"/></a>"
      ]
    },
    {
      "cell_type": "markdown",
      "source": [
        "# Support Vector Machine (SVM)"
      ],
      "metadata": {
        "id": "vq99877-bb1y"
      }
    },
    {
      "cell_type": "markdown",
      "source": [
        "The problem SVM addresses is the same as that of Logistic Regression, only that SVM uses a different algorithm to seperate the two groups. In this notebook, we will use the same data as in the logistic regression to try to show the similarities and differences."
      ],
      "metadata": {
        "id": "V0cm2un6bb10"
      }
    },
    {
      "cell_type": "markdown",
      "source": [
        "## Example 1"
      ],
      "metadata": {
        "id": "2jMaGhTHbb11"
      }
    },
    {
      "cell_type": "markdown",
      "source": [
        "<table><tr>\n",
        "Source link:https://www.kaggle.com/uciml/pima-indians-diabetes-database\n",
        "\n",
        "<br>Recall that the objective of this data is to predict the chances of Diabetes from health parameters like glucose, blood pressure, etc. This data is all taken from Pima Indians females of over 21 years old."
      ],
      "metadata": {
        "id": "r7TKO8qwbb11"
      }
    },
    {
      "cell_type": "markdown",
      "source": [
        "### Data"
      ],
      "metadata": {
        "id": "pxyxbVT8bb11"
      }
    },
    {
      "cell_type": "markdown",
      "source": [
        "Like in Logistic Regression, we import the data into a pandas dataframe and have a look."
      ],
      "metadata": {
        "id": "7_ogfUyKbb11"
      }
    },
    {
      "cell_type": "code",
      "source": [
        "import pandas as pd\n",
        "from pandas import DataFrame\n",
        "import matplotlib.pyplot as plt\n",
        "!git clone https://github.com/DavidGoing/PHYS3151-Machine-Learning-in-Physics-2024\n"
      ],
      "metadata": {
        "scrolled": true,
        "jupyter": {
          "outputs_hidden": false
        },
        "trusted": true,
        "id": "66MTI7hNbb12",
        "outputId": "162bb28a-cb03-48d9-d22c-0a11157f6891",
        "colab": {
          "base_uri": "https://localhost:8080/"
        }
      },
      "execution_count": null,
      "outputs": [
        {
          "output_type": "stream",
          "name": "stdout",
          "text": [
            "fatal: destination path 'hku_phys3151_2022' already exists and is not an empty directory.\n"
          ]
        }
      ]
    },
    {
      "cell_type": "code",
      "source": [
        "df = pd.read_csv(\"/content/PHYS3151-Machine-Learning-in-Physics-2024/support-vector-machine/support-vector-machine-example-1.csv\", sep=\",\")\n",
        "print (df)"
      ],
      "metadata": {
        "id": "prUyRAdCxeBM",
        "outputId": "11dd4436-d164-4c64-b0fd-dac58a9c31ef",
        "colab": {
          "base_uri": "https://localhost:8080/"
        }
      },
      "execution_count": null,
      "outputs": [
        {
          "output_type": "stream",
          "name": "stdout",
          "text": [
            "     Pregnancies  Glucose  ...  Age  Outcome\n",
            "0              6      148  ...   50        1\n",
            "1              1       85  ...   31        0\n",
            "2              8      183  ...   32        1\n",
            "3              1       89  ...   21        0\n",
            "4              0      137  ...   33        1\n",
            "..           ...      ...  ...  ...      ...\n",
            "763           10      101  ...   63        0\n",
            "764            2      122  ...   27        0\n",
            "765            5      121  ...   30        0\n",
            "766            1      126  ...   47        1\n",
            "767            1       93  ...   23        0\n",
            "\n",
            "[768 rows x 9 columns]\n"
          ]
        }
      ]
    },
    {
      "cell_type": "markdown",
      "source": [
        "Then we define 'X', which is the design matrix, and 'y' which is the target vector."
      ],
      "metadata": {
        "id": "piDY20IBbb13"
      }
    },
    {
      "cell_type": "code",
      "source": [
        "X = df.drop('Outcome', axis=1)\n",
        "y = df['Outcome']"
      ],
      "metadata": {
        "jupyter": {
          "outputs_hidden": false
        },
        "id": "8jCFotq0bb13"
      },
      "execution_count": null,
      "outputs": []
    },
    {
      "cell_type": "markdown",
      "source": [
        "Next, since we need to both train and test the model, we separate the data into two parts as follows."
      ],
      "metadata": {
        "id": "B4oZ3S9Rbb13"
      }
    },
    {
      "cell_type": "code",
      "source": [
        "from sklearn.model_selection import train_test_split\n",
        "X_train, X_test, y_train, y_test = train_test_split(X, y, test_size = 0.70)"
      ],
      "metadata": {
        "jupyter": {
          "outputs_hidden": false
        },
        "id": "Y1VqOV0Nbb13"
      },
      "execution_count": null,
      "outputs": []
    },
    {
      "cell_type": "markdown",
      "source": [
        "### SVM Implementation"
      ],
      "metadata": {
        "id": "k5gnxNaUbb13"
      }
    },
    {
      "cell_type": "markdown",
      "source": [
        "First, we get the fit using sklearn package."
      ],
      "metadata": {
        "id": "tovstLQzbb14"
      }
    },
    {
      "cell_type": "code",
      "source": [
        "from sklearn.svm import SVC\n",
        "svclassifier = SVC(kernel='linear')\n",
        "svclassifier.fit(X_train, y_train)"
      ],
      "metadata": {
        "jupyter": {
          "outputs_hidden": false
        },
        "id": "4oWaKqw7bb14",
        "outputId": "0309599f-0ceb-42c5-95bc-f265a08040cf",
        "colab": {
          "base_uri": "https://localhost:8080/"
        }
      },
      "execution_count": null,
      "outputs": [
        {
          "output_type": "execute_result",
          "data": {
            "text/plain": [
              "SVC(kernel='linear')"
            ]
          },
          "metadata": {},
          "execution_count": 4
        }
      ]
    },
    {
      "cell_type": "markdown",
      "source": [
        "Then, we make predictions of the test set to evaluate the model"
      ],
      "metadata": {
        "id": "LTD0PPpybb14"
      }
    },
    {
      "cell_type": "code",
      "source": [
        "y_pred = svclassifier.predict(X_test)"
      ],
      "metadata": {
        "jupyter": {
          "outputs_hidden": false
        },
        "id": "KskuuuwYbb14"
      },
      "execution_count": null,
      "outputs": []
    },
    {
      "cell_type": "markdown",
      "source": [
        "Two tools for evaluation:"
      ],
      "metadata": {
        "id": "0hJ4H1_4bb14"
      }
    },
    {
      "cell_type": "code",
      "source": [
        "from sklearn.metrics import classification_report, confusion_matrix\n",
        "print(confusion_matrix(y_test,y_pred))\n",
        "print(classification_report(y_test,y_pred))"
      ],
      "metadata": {
        "jupyter": {
          "outputs_hidden": false
        },
        "id": "mj2qVwbWbb15",
        "outputId": "6f6143a3-79c2-41aa-8885-fff457846724",
        "colab": {
          "base_uri": "https://localhost:8080/"
        }
      },
      "execution_count": null,
      "outputs": [
        {
          "output_type": "stream",
          "name": "stdout",
          "text": [
            "[[302  54]\n",
            " [ 69 113]]\n",
            "              precision    recall  f1-score   support\n",
            "\n",
            "           0       0.81      0.85      0.83       356\n",
            "           1       0.68      0.62      0.65       182\n",
            "\n",
            "    accuracy                           0.77       538\n",
            "   macro avg       0.75      0.73      0.74       538\n",
            "weighted avg       0.77      0.77      0.77       538\n",
            "\n"
          ]
        }
      ]
    },
    {
      "cell_type": "markdown",
      "source": [
        "First, we have to figure out the meaning of each element in the confusion_matrix: [1,1] is True Positives; [1,2] is False Negatives; [2,1] is False Positives; [2,2] is True Negatives. As the result turns out, in test set, there are [1,1]+[1,2] positives and [1,1] of which are correctly predicted; [2,1]+[2,2] negatives and [2,2] of which are correctly predicted.\n",
        "<br><br>Then, look into the report. For quick review on separate results of positives and negatives separately, we can look at precision and recall:\n",
        "\n",
        "<br>1. Precision:\n",
        "<br>for example, $positive\\ Precision = True\\ Positives/(True\\ Positives + False\\ Positives)$， which means the correct rate of the predictions within predicted positives.\n",
        "\n",
        "<br>2. Recall:\n",
        "<br> $positive\\ Recall = True\\ Positives/(True\\ Positives + False\\ Negatives)$, which means the correct rate of the prediction within the actual positives.\n",
        "<br><br>For example, in this case, we're predicting the chances of diabetes. If our focus is on predicting as many people as possible who may have diabetes, then we should care more about the value of 'Recall'. If our focus is to minimize the error rate of people who are predicted to have diabetes, we care more about the value of 'Precision'.\n",
        "<br><br>3. Macro avg refers to arithmatic mean, while weighted avg refers to weighted average, of the two above in the same column.\n",
        "<br>\n",
        "<br>For total test, we can directly check accuracy: $Accuracy = True\\ values / All\\ Values $"
      ],
      "metadata": {
        "id": "Pw44MAi3bb15"
      }
    },
    {
      "cell_type": "markdown",
      "source": [
        "In this case, the model created is not a very good one, as the accuracy of the model shown in the classification report matrix above is just around 80%, especially for the negative values since nearly half of them are mispredicted."
      ],
      "metadata": {
        "id": "xTxN9zcUbb15"
      }
    },
    {
      "cell_type": "markdown",
      "source": [
        "## Example 2"
      ],
      "metadata": {
        "id": "_upH67Qsbb15"
      }
    },
    {
      "cell_type": "markdown",
      "source": [
        "Just like in the logistic regression notebook, in the second example, an algorithm written from scratch will be used to provide insight into the inner workings of SVM."
      ],
      "metadata": {
        "id": "JE-RIQzxbb16"
      }
    },
    {
      "cell_type": "markdown",
      "source": [
        "### Data Preparation"
      ],
      "metadata": {
        "id": "gVqaoKDXbb16"
      }
    },
    {
      "cell_type": "markdown",
      "source": [
        "Data source: https://www.kaggle.com/amanajmera1/framingham-heart-study-dataset/data\n",
        "<br><br>Recall that we try to predict whether a given person will have a coronary heart disease in the next 10 years given various parameters like sex, age, eduction, blood pressure, BMI, etc."
      ],
      "metadata": {
        "id": "hg8gHAEBbb16"
      }
    },
    {
      "cell_type": "markdown",
      "source": [
        "Still, import the data and have a view again."
      ],
      "metadata": {
        "id": "eb11WKrObb16"
      }
    },
    {
      "cell_type": "code",
      "source": [
        "import pandas as pd\n",
        "from pandas import DataFrame\n",
        "import numpy as np\n",
        "import random\n",
        "\n",
        "df = pd.read_csv(\"/content/PHYS3151-Machine-Learning-in-Physics-2024/support-vector-machine/support-vector-machine-example-2.csv\", sep=\",\")\n",
        "df = df.apply(lambda x: x.fillna(random.choice(x.dropna())), axis=1)\n",
        "\n",
        "print(df)"
      ],
      "metadata": {
        "scrolled": true,
        "jupyter": {
          "outputs_hidden": false
        },
        "trusted": true,
        "id": "KVSyBve7bb16",
        "outputId": "a8a91837-35b8-4d82-94eb-5033113588f8",
        "colab": {
          "base_uri": "https://localhost:8080/"
        }
      },
      "execution_count": null,
      "outputs": [
        {
          "output_type": "stream",
          "name": "stdout",
          "text": [
            "      male   age  education  ...  heartRate  glucose  TenYearCHD\n",
            "0      1.0  39.0        4.0  ...       80.0     77.0         0.0\n",
            "1      0.0  46.0        2.0  ...       95.0     76.0         0.0\n",
            "2      1.0  48.0        1.0  ...       75.0     70.0         0.0\n",
            "3      0.0  61.0        3.0  ...       65.0    103.0         1.0\n",
            "4      0.0  46.0        3.0  ...       85.0     85.0         0.0\n",
            "...    ...   ...        ...  ...        ...      ...         ...\n",
            "4233   1.0  50.0        1.0  ...       66.0     86.0         1.0\n",
            "4234   1.0  51.0        3.0  ...       65.0     68.0         0.0\n",
            "4235   0.0  48.0        2.0  ...       84.0     86.0         0.0\n",
            "4236   0.0  44.0        1.0  ...       86.0      0.0         0.0\n",
            "4237   0.0  52.0        2.0  ...       80.0    107.0         0.0\n",
            "\n",
            "[4238 rows x 16 columns]\n"
          ]
        }
      ]
    },
    {
      "cell_type": "markdown",
      "source": [
        "Set design matrix and target vector."
      ],
      "metadata": {
        "id": "5AJOeJ-ybb16"
      }
    },
    {
      "cell_type": "code",
      "source": [
        "X = df.drop(columns=['TenYearCHD'])\n",
        "y = df['TenYearCHD']"
      ],
      "metadata": {
        "scrolled": true,
        "jupyter": {
          "outputs_hidden": false
        },
        "id": "ApIsa8n3bb16"
      },
      "execution_count": null,
      "outputs": []
    },
    {
      "cell_type": "markdown",
      "source": [
        "Just like before, we must scale and normalize the data."
      ],
      "metadata": {
        "id": "mcaRZZxfbb17"
      }
    },
    {
      "cell_type": "code",
      "source": [
        "from sklearn import preprocessing\n",
        "scaler = preprocessing.RobustScaler()\n",
        "X_scaled = scaler.fit_transform(X)\n",
        "X_scaled = pd.DataFrame(X_scaled,columns=list(X.columns.values))\n",
        "print(X_scaled.shape)\n",
        "print(scaler)"
      ],
      "metadata": {
        "jupyter": {
          "outputs_hidden": false
        },
        "id": "36r0idqcbb17",
        "outputId": "f307ceaa-c207-47fd-e168-18c8a5bdb174",
        "colab": {
          "base_uri": "https://localhost:8080/"
        }
      },
      "execution_count": null,
      "outputs": [
        {
          "output_type": "stream",
          "name": "stdout",
          "text": [
            "(4238, 15)\n",
            "RobustScaler()\n"
          ]
        }
      ]
    },
    {
      "cell_type": "code",
      "source": [
        "X = X_scaled"
      ],
      "metadata": {
        "jupyter": {
          "outputs_hidden": false
        },
        "id": "qKALPBeWbb17"
      },
      "execution_count": null,
      "outputs": []
    },
    {
      "cell_type": "code",
      "source": [
        "X = X.to_numpy()\n",
        "y = y.to_numpy()\n",
        "y = y.reshape((len(y),1))\n",
        "n = X.shape[1]+1"
      ],
      "metadata": {
        "jupyter": {
          "outputs_hidden": false
        },
        "id": "M76MSXvKbb17"
      },
      "execution_count": null,
      "outputs": []
    },
    {
      "cell_type": "markdown",
      "source": [
        "This specific algorithm for SVM works only when $y \\in \\{1,-1\\}$, so we need to change all the 0s in y to -1s. And for X, we need to add a column as well."
      ],
      "metadata": {
        "id": "XhQjG7vTbb17"
      }
    },
    {
      "cell_type": "code",
      "source": [
        "y = np.where(y==0,-1.,1.)"
      ],
      "metadata": {
        "jupyter": {
          "outputs_hidden": false
        },
        "id": "lysHXlp0bb17"
      },
      "execution_count": null,
      "outputs": []
    },
    {
      "cell_type": "code",
      "source": [
        "X_b = np.c_[np.ones((len(X),1)),X]\n",
        "theta = np.random.random((n,1))"
      ],
      "metadata": {
        "jupyter": {
          "outputs_hidden": false
        },
        "id": "gdJfHrMQbb18"
      },
      "execution_count": null,
      "outputs": []
    },
    {
      "cell_type": "markdown",
      "source": [
        "### Function Preparation"
      ],
      "metadata": {
        "id": "pfdxued4bb18"
      }
    },
    {
      "cell_type": "markdown",
      "source": [
        "In SVM, the cost function has changed, and of which hinge loss defined below is important for maximum-margin classification. It means, if correctly classfied, the loss is 0.\n",
        "<br>To compute the cost, we keep the constant $m$ here and still use $\\lambda$($\\frac{1}{C}$), so the cost is $cost\\ =\\ \\frac{\\lambda}{2m}\\sum_j\\theta_j^2+\\frac{1}{m}L$ , where $L$ denotes the loss function and here we take hinge loss."
      ],
      "metadata": {
        "id": "5gsQDbgvbb19"
      }
    },
    {
      "cell_type": "code",
      "source": [
        "def hinge(X,y,theta):                        #for maximum-margin classification\n",
        "    pred = 1 - np.multiply(y,(X.dot(theta)))\n",
        "    loss = np.maximum(np.zeros(pred.shape),pred)\n",
        "    hinge = np.sum(loss)\n",
        "    return hinge\n",
        "\n",
        "def computeCost(X,y,theta,reg=0):\n",
        "    m = float(len(y))\n",
        "    theta2 = np.square(theta)\n",
        "    cost = (reg/(2*m)) * np.sum(theta2) + (1/m) * hinge(X,y,theta)\n",
        "    return cost"
      ],
      "metadata": {
        "jupyter": {
          "outputs_hidden": false
        },
        "id": "k7rO5zTRbb19"
      },
      "execution_count": null,
      "outputs": []
    },
    {
      "cell_type": "markdown",
      "source": [
        "When we are trying to optimize $\\theta$s, however, since the hinge function is not differentiable, instead of the derivative, the gradient descent will use the sub-derivative instead. The sub-derivative can be thought of as a generalization of the derivative and can be appplied to certain types of undifferentiable functions. In practice it looks like taking the derivative term-by-term，and $\\alpha$ is designed to control the lenghth of each step.\n",
        "\n",
        "<br>For details of subgradient:<br>While\n",
        "$$\n",
        "hinge\\ loss =max(0,1-y(X.\\theta))\n",
        "$$\n",
        "so for subgradient:<br>when$\\ $   $y(X.\\theta)<1$, it is ($\\lambda\\theta-yx$), or else, it is ($\\lambda\\theta$).\n",
        "<br>After each step, $\\theta_i+1=\\theta_i-\\alpha*subgradient$\n",
        "<br><br>The difference with the gradient descent algorithm is that the sub-gradient algorithm is not a descent algorithm. Each time the parameter update does not guarantee that the cost function is monotonically decreasing. This will be shown in the figue below."
      ],
      "metadata": {
        "id": "aRRkVDi0bb19"
      }
    },
    {
      "cell_type": "code",
      "source": [
        "def check(X,y,theta):\n",
        "    X_b = np.c_[np.ones((len(X),1)),X]\n",
        "\n",
        "    fx = np.multiply(y,(X_b.dot(theta)))\n",
        "\n",
        "    check = np.less(fx,np.ones(fx.shape))\n",
        "\n",
        "    check = np.where(check==True,1,0)\n",
        "\n",
        "    return check\n",
        "\n",
        "def subgradient_descent(X,y,theta,iterations=100,reg=0):\n",
        "    '''\n",
        "    X    = Matrix of X\n",
        "    y    = Vector of Y\n",
        "    theta=Vector of thetas np.random.randn(j,1)\n",
        "    iterations = no of iterations\n",
        "\n",
        "    Returns the final theta vector and array of cost history over no of iterations\n",
        "    '''\n",
        "    m = float(y.shape[0])\n",
        "\n",
        "    X_b = np.c_[np.ones((len(X),1)),X]\n",
        "\n",
        "    cost_history = np.zeros(iterations)\n",
        "\n",
        "    theta_history = np.zeros((iterations,X_b.shape[1]))\n",
        "\n",
        "    for it in range(iterations):\n",
        "        alpha = 1/(reg*(it+1))\n",
        "        #print(X_b.shape)\n",
        "        #print(X_b.dot(theta).shape)\n",
        "        #print(np.multiply(y,(X_b.dot(theta))).shape)\n",
        "        #print(y.shape)\n",
        "        theta = theta + alpha*((np.multiply(check(X,y,theta),y)).T.dot(X_b)).T\n",
        "        theta[1:] = theta[1:] - alpha*reg*theta[1:]\n",
        "        theta_history[it,:] = theta.T\n",
        "        cost_history[it]  = computeCost(X_b,y,theta,reg)\n",
        "\n",
        "    return theta, cost_history, theta_history"
      ],
      "metadata": {
        "jupyter": {
          "outputs_hidden": false
        },
        "id": "RqgemzsMbb1-"
      },
      "execution_count": null,
      "outputs": []
    },
    {
      "cell_type": "markdown",
      "source": [
        "### Implementation"
      ],
      "metadata": {
        "id": "NlhTkGesbb1-"
      }
    },
    {
      "cell_type": "code",
      "source": [
        "reg = 1\n",
        "n_iter = 20000\n",
        "theta,cost_history,theta_history = subgradient_descent(X,y,theta,n_iter,reg)\n",
        "print(theta)"
      ],
      "metadata": {
        "jupyter": {
          "outputs_hidden": false
        },
        "id": "_imq7J76bb1-",
        "outputId": "0fb1d606-0f15-455a-9b63-e2714e30b29d",
        "colab": {
          "base_uri": "https://localhost:8080/"
        }
      },
      "execution_count": null,
      "outputs": [
        {
          "output_type": "stream",
          "name": "stdout",
          "text": [
            "[[-1.09361022e+00]\n",
            " [ 6.41682992e-03]\n",
            " [ 2.39594600e-02]\n",
            " [-2.96228818e-02]\n",
            " [-1.02214976e-03]\n",
            " [-1.66251718e-02]\n",
            " [-8.58768898e-02]\n",
            " [ 1.01589750e-01]\n",
            " [-1.08435168e-02]\n",
            " [ 5.39081836e-02]\n",
            " [-3.45331773e-03]\n",
            " [ 1.68363495e-02]\n",
            " [-1.47593393e-02]\n",
            " [ 1.50102601e-03]\n",
            " [-3.28512387e-03]\n",
            " [-1.00108887e-02]]\n"
          ]
        }
      ]
    },
    {
      "cell_type": "markdown",
      "source": [
        "To have a better view of the cost_history, a plot of cost starting from 2000th iteration is also shown here."
      ],
      "metadata": {
        "id": "4odkvgDSbb1-"
      }
    },
    {
      "cell_type": "code",
      "source": [
        "import matplotlib.pyplot as plt\n",
        "plt.subplot(211)\n",
        "plt.plot(cost_history)\n",
        "plt.ylabel(\"$J(\\Theta)$\")\n",
        "plt.title(\"Cost function using Subgradient Descent with Regularization\")\n",
        "plt.subplot(212)\n",
        "x2=list(range(2000,20000,1))\n",
        "plt.plot(x2,cost_history[2000:],label='cost_history after 2000 iterations')\n",
        "plt.xlabel(\"Iteration\")\n",
        "plt.ylabel(\"$J(\\Theta)$\")\n",
        "plt.legend()\n",
        "plt.show()"
      ],
      "metadata": {
        "jupyter": {
          "outputs_hidden": false
        },
        "id": "_EIleMj1bb1_",
        "outputId": "6ee9dfb0-50ad-407c-9c73-ba86c389afc8",
        "colab": {
          "base_uri": "https://localhost:8080/",
          "height": 295
        }
      },
      "execution_count": null,
      "outputs": [
        {
          "output_type": "display_data",
          "data": {
            "image/png": "[encoded data removed]",
            "text/plain": [
              "<Figure size 432x288 with 2 Axes>"
            ]
          },
          "metadata": {
            "needs_background": "light"
          }
        }
      ]
    },
    {
      "cell_type": "code",
      "source": [
        "print('Final Cost is :', cost_history[-1])"
      ],
      "metadata": {
        "jupyter": {
          "outputs_hidden": false
        },
        "id": "kz3-AOK0bb1_",
        "outputId": "b2bb170d-9bca-4bab-e978-b5a1f179ef02",
        "colab": {
          "base_uri": "https://localhost:8080/"
        }
      },
      "execution_count": null,
      "outputs": [
        {
          "output_type": "stream",
          "name": "stdout",
          "text": [
            "Final Cost is : 0.34302001677788874\n"
          ]
        }
      ]
    },
    {
      "cell_type": "markdown",
      "source": [
        "As we mentioned above, the figure of cost_history after 2000 iterations showed exactly that subgradient method is not monotonically decreasing."
      ],
      "metadata": {
        "id": "OVwRyqwPbb1_"
      }
    },
    {
      "cell_type": "markdown",
      "source": [
        "Compared with the result in logistic regression, SVM is better in this binary classification case."
      ],
      "metadata": {
        "id": "17TWuFYsbb2A"
      }
    },
    {
      "cell_type": "markdown",
      "source": [
        "## Example 3"
      ],
      "metadata": {
        "id": "zvYx6VmEbb2A"
      }
    },
    {
      "cell_type": "markdown",
      "source": [
        "With the same data, we still want to look at the decision boundary.\n",
        "    <br>Data source:https://www.kaggle.com/chadansharma/logistic-regression-practice"
      ],
      "metadata": {
        "id": "YppzFUjkbb2A"
      }
    },
    {
      "cell_type": "markdown",
      "source": [
        "### Data Preparation"
      ],
      "metadata": {
        "id": "PSsREszabb2A"
      }
    },
    {
      "cell_type": "code",
      "source": [
        "import pandas as pd\n",
        "from pandas import DataFrame\n",
        "import numpy as np\n",
        "import random\n",
        "\n",
        "df = pd.read_csv(\"/content/PHYS3151-Machine-Learning-in-Physics-2024/support-vector-machine/support-vector-machine-example-3.csv\", sep=\",\")\n",
        "\n",
        "df = df.apply(lambda x: x.fillna(random.choice(x.dropna())), axis=1)\n",
        "\n",
        "print(df)"
      ],
      "metadata": {
        "scrolled": true,
        "jupyter": {
          "outputs_hidden": false
        },
        "trusted": true,
        "id": "cndkUluvbb2A",
        "outputId": "75fbcdb8-44db-4982-b412-137cbc4d6bc0",
        "colab": {
          "base_uri": "https://localhost:8080/"
        }
      },
      "execution_count": null,
      "outputs": [
        {
          "output_type": "stream",
          "name": "stdout",
          "text": [
            "     1st_exam   2nd_exam  admitted\n",
            "0   34.623660  78.024693       0.0\n",
            "1   30.286711  43.894998       0.0\n",
            "2   35.847409  72.902198       0.0\n",
            "3   60.182599  86.308552       1.0\n",
            "4   79.032736  75.344376       1.0\n",
            "..        ...        ...       ...\n",
            "95  83.489163  48.380286       1.0\n",
            "96  42.261701  87.103851       1.0\n",
            "97  99.315009  68.775409       1.0\n",
            "98  55.340018  64.931938       1.0\n",
            "99  74.775893  89.529813       1.0\n",
            "\n",
            "[100 rows x 3 columns]\n"
          ]
        }
      ]
    },
    {
      "cell_type": "markdown",
      "source": [
        "Set design matrix and target vector."
      ],
      "metadata": {
        "id": "oKWbNQKGbb2A"
      }
    },
    {
      "cell_type": "code",
      "source": [
        "X = df.drop(columns=['admitted'])\n",
        "y = df['admitted']"
      ],
      "metadata": {
        "jupyter": {
          "outputs_hidden": false
        },
        "id": "i2E_W2Nrbb2A"
      },
      "execution_count": null,
      "outputs": []
    },
    {
      "cell_type": "markdown",
      "source": [
        "Likewise, we continue to do feature scaling."
      ],
      "metadata": {
        "id": "-Nb9lFk7bb2A"
      }
    },
    {
      "cell_type": "code",
      "source": [
        "from sklearn import preprocessing\n",
        "scaler = preprocessing.RobustScaler()\n",
        "X_scaled = scaler.fit_transform(X)\n",
        "X_scaled = pd.DataFrame(X_scaled,columns=list(X.columns.values))\n",
        "print(X_scaled.shape)\n",
        "print(scaler)"
      ],
      "metadata": {
        "jupyter": {
          "outputs_hidden": false
        },
        "id": "nc2KAzqSbb2A",
        "outputId": "7814a554-36a8-4c0f-e108-c871678d759b",
        "colab": {
          "base_uri": "https://localhost:8080/"
        }
      },
      "execution_count": null,
      "outputs": [
        {
          "output_type": "stream",
          "name": "stdout",
          "text": [
            "(100, 2)\n",
            "RobustScaler()\n"
          ]
        }
      ]
    },
    {
      "cell_type": "code",
      "source": [
        "X = X_scaled"
      ],
      "metadata": {
        "jupyter": {
          "outputs_hidden": false
        },
        "id": "F6Vxl3vPbb2A"
      },
      "execution_count": null,
      "outputs": []
    },
    {
      "cell_type": "code",
      "source": [
        "X = X.to_numpy()\n",
        "y = y.to_numpy()\n",
        "y = y.reshape((len(y),1))\n",
        "n = X.shape[1]+1"
      ],
      "metadata": {
        "jupyter": {
          "outputs_hidden": false
        },
        "id": "EpoTlNyPbb2B"
      },
      "execution_count": null,
      "outputs": []
    },
    {
      "cell_type": "markdown",
      "source": [
        "This specific algorithm for SVM works only when $y \\in \\{1,-1\\}$, so we need to change all the 0s in y to -1s. And for X, we need to add a column as well."
      ],
      "metadata": {
        "id": "JPdLwKr7bb2B"
      }
    },
    {
      "cell_type": "code",
      "source": [
        "y = np.where(y==0,-1.,1.)"
      ],
      "metadata": {
        "jupyter": {
          "outputs_hidden": false
        },
        "id": "8Y63nHh-bb2B"
      },
      "execution_count": null,
      "outputs": []
    },
    {
      "cell_type": "code",
      "source": [
        "X_b = np.c_[np.ones((len(X),1)),X]\n",
        "theta = np.random.random((n,1))"
      ],
      "metadata": {
        "jupyter": {
          "outputs_hidden": false
        },
        "id": "WLhZ-mG2bb2B"
      },
      "execution_count": null,
      "outputs": []
    },
    {
      "cell_type": "markdown",
      "source": [
        "### Function Preparation"
      ],
      "metadata": {
        "id": "_uND_6UKbb2B"
      }
    },
    {
      "cell_type": "markdown",
      "source": [
        "As introduced above, we define the functions for cost and subgradient descent."
      ],
      "metadata": {
        "id": "oCzCgEoNbb2B"
      }
    },
    {
      "cell_type": "code",
      "source": [
        "def hinge(X,y,theta):                        #for maximum-margin classification\n",
        "    pred = 1 - np.multiply(y,(X.dot(theta)))\n",
        "    loss = np.maximum(np.zeros(pred.shape),pred)\n",
        "    hinge = np.sum(loss)\n",
        "    return hinge\n",
        "\n",
        "def computeCost(X,y,theta,reg=0):\n",
        "    m = float(len(y))\n",
        "    theta2 = np.square(theta)\n",
        "    cost = (reg/(2*m)) * np.sum(theta2) + (1/m) * hinge(X,y,theta)\n",
        "    return cost"
      ],
      "metadata": {
        "jupyter": {
          "outputs_hidden": false
        },
        "id": "XwtSx_cKbb2B"
      },
      "execution_count": null,
      "outputs": []
    },
    {
      "cell_type": "code",
      "source": [
        "def check(X,y,theta):\n",
        "    X_b = np.c_[np.ones((len(X),1)),X]\n",
        "\n",
        "    fx = np.multiply(y,(X_b.dot(theta)))\n",
        "\n",
        "    check = np.less(fx,np.ones(fx.shape))\n",
        "\n",
        "    check = np.where(check==True,1,0)\n",
        "\n",
        "    return check\n",
        "\n",
        "def subgradient_descent(X,y,theta,iterations=100,reg=0):\n",
        "    '''\n",
        "    X    = Matrix of X\n",
        "    y    = Vector of Y\n",
        "    theta=Vector of thetas np.random.randn(j,1)\n",
        "    alpha\n",
        "    iterations = no of iterations\n",
        "\n",
        "    Returns the final theta vector and array of cost history over no of iterations\n",
        "    '''\n",
        "    m = float(y.shape[0])\n",
        "\n",
        "    X_b = np.c_[np.ones((len(X),1)),X]\n",
        "\n",
        "    cost_history = np.zeros(iterations)\n",
        "\n",
        "    theta_history = np.zeros((iterations,X_b.shape[1]))\n",
        "\n",
        "    for it in range(iterations):\n",
        "        alpha = 1/(reg*(it+1))\n",
        "        #print(X_b.shape)\n",
        "        #print(X_b.dot(theta).shape)\n",
        "        #print(np.multiply(y,(X_b.dot(theta))).shape)\n",
        "        #print(y.shape)\n",
        "        theta = theta + alpha*((np.multiply(check(X,y,theta),y)).T.dot(X_b)).T\n",
        "        theta[1:] = theta[1:] - alpha*reg*theta[1:]\n",
        "        theta_history[it,:] = theta.T\n",
        "        cost_history[it]  = computeCost(X_b,y,theta,reg)\n",
        "\n",
        "    return theta, cost_history, theta_history"
      ],
      "metadata": {
        "jupyter": {
          "outputs_hidden": false
        },
        "id": "Lw5sz6A2bb2B"
      },
      "execution_count": null,
      "outputs": []
    },
    {
      "cell_type": "markdown",
      "source": [
        "### Implementation"
      ],
      "metadata": {
        "id": "wEoEAs22bb2B"
      }
    },
    {
      "cell_type": "code",
      "source": [
        "reg = 1\n",
        "n_iter = 20000\n",
        "theta,cost_history,theta_history = subgradient_descent(X,y,theta,n_iter,reg)\n",
        "print(theta)"
      ],
      "metadata": {
        "jupyter": {
          "outputs_hidden": false
        },
        "id": "QvxNFbdAbb2B",
        "outputId": "df9c2c43-6e3b-4856-9fc3-d6373bd6bb3c",
        "colab": {
          "base_uri": "https://localhost:8080/"
        }
      },
      "execution_count": null,
      "outputs": [
        {
          "output_type": "stream",
          "name": "stdout",
          "text": [
            "[[1.05154542]\n",
            " [2.53390366]\n",
            " [2.38280955]]\n"
          ]
        }
      ]
    },
    {
      "cell_type": "markdown",
      "source": [
        "### Decision Boundary"
      ],
      "metadata": {
        "id": "TAyRd1o_bb2B"
      }
    },
    {
      "cell_type": "markdown",
      "source": [
        "To distinguish whether the points signify admitted or not, separate the dataset into two subsets."
      ],
      "metadata": {
        "id": "myWmxCT5bb2B"
      }
    },
    {
      "cell_type": "code",
      "source": [
        "#y=1 admitted(yes)\n",
        "yes_x=[]\n",
        "yes_y=[]\n",
        "#y=0 not admitted(no)\n",
        "no_x=[]\n",
        "no_y=[]\n",
        "for i in range(0,100):\n",
        "    if y[i]== -1:\n",
        "        dis=(theta[1]*X_b[i][1]+theta[2]*X_b[i][2]+theta[0])/np.sqrt(np.square(theta[1])+np.square(theta[2]))\n",
        "        if dis <= -0.:\n",
        "            no_x.append(X_b[i][1])\n",
        "            no_y.append(X_b[i][2])\n",
        "    else:\n",
        "        dis=abs(theta[1]*X_b[i][1]+theta[2]*X_b[i][2]+theta[0])/np.sqrt(np.square(theta[1])+np.square(theta[2]))\n",
        "        if dis >= 0.:\n",
        "            yes_x.append(X_b[i][1])\n",
        "            yes_y.append(X_b[i][2])"
      ],
      "metadata": {
        "jupyter": {
          "outputs_hidden": false
        },
        "id": "T5gXARSibb2B"
      },
      "execution_count": null,
      "outputs": []
    },
    {
      "cell_type": "markdown",
      "source": [
        "Different from that of logistic regression, we plot 3 lines here to clearly show the maximum margin of SVM."
      ],
      "metadata": {
        "id": "mhD66lPHbb2C"
      }
    },
    {
      "cell_type": "code",
      "source": [
        "plt.figure(figsize=(8,5))\n",
        "plt.xlabel('1st Exam(Scaled)')\n",
        "plt.ylabel('2nd Exam(Scaled)')\n",
        "plt.title('Decision Boundary')\n",
        "x=np.arange(-1,1,0.01)\n",
        "y1=(-theta[1]/theta[2])*x+(-theta[0]/theta[2])#=0\n",
        "y2=(-theta[1]/theta[2])*x+((-theta[0]-1)/theta[2])#=-1\n",
        "y3=(-theta[1]/theta[2])*x+((-theta[0]+1)/theta[2])#=1\n",
        "plt.plot(x,y1,label=r'$\\theta$X=0',color='yellow' )\n",
        "plt.plot(x,y2,label=r'$\\theta$X=-1',linestyle='--',color='gray' )\n",
        "plt.plot(x,y3,label=r'$\\theta$X=1',linestyle='--' ,color='green')\n",
        "plt.scatter(yes_x,yes_y,label='Admitted')\n",
        "plt.scatter(no_x,no_y,label='Not Admitted')\n",
        "plt.legend()"
      ],
      "metadata": {
        "jupyter": {
          "outputs_hidden": false
        },
        "id": "9NmYBPTrbb2C",
        "outputId": "af6ab94f-abc2-4924-9621-a4a2fccc1c14",
        "colab": {
          "base_uri": "https://localhost:8080/",
          "height": 367
        }
      },
      "execution_count": null,
      "outputs": [
        {
          "output_type": "execute_result",
          "data": {
            "text/plain": [
              "<matplotlib.legend.Legend at 0x7f81d2bcd6d0>"
            ]
          },
          "metadata": {},
          "execution_count": 31
        },
        {
          "output_type": "display_data",
          "data": {
            "image/png": "[encoded data removed]",
            "text/plain": [
              "<Figure size 576x360 with 1 Axes>"
            ]
          },
          "metadata": {
            "needs_background": "light"
          }
        }
      ]
    },
    {
      "cell_type": "markdown",
      "source": [
        "## Example 4"
      ],
      "metadata": {
        "id": "iGwc_GBqbb2C"
      }
    },
    {
      "cell_type": "markdown",
      "source": [
        "As the data in example 3 is not that optimal to observe the decision boundary, in this example, we try to design some better data to show how decision boundary works in SVM. Assume that according to two features, the results are split into two groups: type 1 and type 2."
      ],
      "metadata": {
        "id": "28ldakNsbb2C"
      }
    },
    {
      "cell_type": "markdown",
      "source": [
        "### Data Preparation"
      ],
      "metadata": {
        "id": "1-ZvZVwsbb2C"
      }
    },
    {
      "cell_type": "markdown",
      "source": [
        "First, prepare the data as we want."
      ],
      "metadata": {
        "id": "JImeGVBebb2C"
      }
    },
    {
      "cell_type": "code",
      "source": [
        "X=np.zeros([200,2])\n",
        "y=np.zeros(200)\n",
        "for i in range(0,100):\n",
        "    rx=500*(np.random.rand())+100\n",
        "    X[i][0]=rx\n",
        "    ry=500-rx+(np.random.rand())*2000\n",
        "    X[i][1]=ry\n",
        "    y[i]=1\n",
        "for i in range(100,200):\n",
        "    rx=-500*(np.random.rand())-100\n",
        "    X[i][0]=rx\n",
        "    ry=-(500-rx+(np.random.rand())*2000)\n",
        "    X[i][1]=ry\n",
        "    y[i]=-1\n",
        "print(type(X))"
      ],
      "metadata": {
        "jupyter": {
          "outputs_hidden": false
        },
        "id": "9uQRFYkXbb2C",
        "outputId": "8b8abc8a-80d6-4686-92ce-c6eec89b60f0",
        "colab": {
          "base_uri": "https://localhost:8080/"
        }
      },
      "execution_count": null,
      "outputs": [
        {
          "output_type": "stream",
          "name": "stdout",
          "text": [
            "<class 'numpy.ndarray'>\n"
          ]
        }
      ]
    },
    {
      "cell_type": "markdown",
      "source": [
        "### Data Preprocessing"
      ],
      "metadata": {
        "id": "Y1MqvK-Fbb2C"
      }
    },
    {
      "cell_type": "markdown",
      "source": [
        "Then we do feature scaling."
      ],
      "metadata": {
        "id": "YQwYRgubbb2C"
      }
    },
    {
      "cell_type": "code",
      "source": [
        "from sklearn import preprocessing\n",
        "scaler = preprocessing.RobustScaler()\n",
        "X_scaled = scaler.fit_transform(X)\n",
        "#X_scaled = pd.DataFrame(X_scaled,columns=list(X.columns.values))\n",
        "X=X_scaled\n",
        "y = y.reshape((len(y),1))\n",
        "X_b = np.c_[np.ones((len(X),1)),X]\n",
        "n=X_b.shape[1]\n",
        "theta = np.random.random((n,1))"
      ],
      "metadata": {
        "jupyter": {
          "outputs_hidden": false
        },
        "id": "Z-IUv1lZbb2C"
      },
      "execution_count": null,
      "outputs": []
    },
    {
      "cell_type": "markdown",
      "source": [
        "### Function Definition"
      ],
      "metadata": {
        "id": "eBQkcQBRbb2C"
      }
    },
    {
      "cell_type": "markdown",
      "source": [
        "We define the functions of SVM the same sa before, where we have explained in detail."
      ],
      "metadata": {
        "id": "W_zd5N9Nbb2C"
      }
    },
    {
      "cell_type": "code",
      "source": [
        "def hinge(X,y,theta):                        #for maximum-margin classification\n",
        "    pred = 1 - np.multiply(y,(X.dot(theta)))\n",
        "    loss = np.maximum(np.zeros(pred.shape),pred)\n",
        "    hinge = np.sum(loss)\n",
        "    return hinge\n",
        "\n",
        "def computeCost(X,y,theta,reg=0):\n",
        "    m = float(len(y))\n",
        "    theta2 = np.square(theta)\n",
        "    reg =0\n",
        "    cost = (reg/(2*m)) * np.sum(theta2) + (1/m) * hinge(X,y,theta)\n",
        "    return cost"
      ],
      "metadata": {
        "jupyter": {
          "outputs_hidden": false
        },
        "id": "TrMY1qfQbb2C"
      },
      "execution_count": null,
      "outputs": []
    },
    {
      "cell_type": "code",
      "source": [
        "def check(X,y,theta):\n",
        "    X_b = np.c_[np.ones((len(X),1)),X]\n",
        "\n",
        "    fx = np.multiply(y,(X_b.dot(theta)))\n",
        "\n",
        "    check = np.less(fx,np.ones(fx.shape))\n",
        "\n",
        "    check = np.where(check==True,1,0)\n",
        "\n",
        "    return check\n",
        "\n",
        "def subgradient_descent(X,y,theta,iterations=1000,reg2=1):\n",
        "    '''\n",
        "    X    = Matrix of X\n",
        "    y    = Vector of Y\n",
        "    theta=Vector of thetas np.random.randn(j,1)\n",
        "    iterations = no of iterations\n",
        "\n",
        "    Returns the final theta vector and array of cost history over no of iterations\n",
        "    '''\n",
        "    m = float(y.shape[0])\n",
        "\n",
        "    X_b = np.c_[np.ones((len(X),1)),X]\n",
        "\n",
        "    cost_history = np.zeros(iterations)\n",
        "\n",
        "    theta_history = np.zeros((iterations,X_b.shape[1]))\n",
        "\n",
        "    for it in range(iterations):\n",
        "        alpha = 1/(reg2*(it+1))\n",
        "        #print(X_b.shape)\n",
        "        #print(X_b.dot(theta).shape)\n",
        "        #print(np.multiply(y,(X_b.dot(theta))).shape)\n",
        "        #print(y.shape)\n",
        "        theta = theta + alpha*((np.multiply(check(X,y,theta),y)).T.dot(X_b)).T\n",
        "        theta[1:] = theta[1:] - alpha*reg2*theta[1:]\n",
        "        theta_history[it,:] = theta.T\n",
        "        cost_history[it]  = computeCost(X_b,y,theta,reg)\n",
        "\n",
        "    return theta, cost_history, theta_history"
      ],
      "metadata": {
        "jupyter": {
          "outputs_hidden": false
        },
        "id": "5_HKLSdKbb2D"
      },
      "execution_count": null,
      "outputs": []
    },
    {
      "cell_type": "markdown",
      "source": [
        "### SVM Implementation"
      ],
      "metadata": {
        "id": "gfRSINWPbb2D"
      }
    },
    {
      "cell_type": "code",
      "source": [
        "reg2 = 1\n",
        "reg = 0\n",
        "n_iter = 50000\n",
        "theta,cost_history,theta_history = subgradient_descent(X,y,theta,n_iter,reg2)\n",
        "print(theta)"
      ],
      "metadata": {
        "jupyter": {
          "outputs_hidden": false
        },
        "id": "iItKc_Aybb2D",
        "outputId": "7fb00d68-69a7-4581-dced-7be84d0baf20",
        "colab": {
          "base_uri": "https://localhost:8080/"
        }
      },
      "execution_count": null,
      "outputs": [
        {
          "output_type": "stream",
          "name": "stdout",
          "text": [
            "[[-0.09344455]\n",
            " [ 1.95440197]\n",
            " [ 1.88124586]]\n"
          ]
        }
      ]
    },
    {
      "cell_type": "markdown",
      "source": [
        "Again, separate the data into two groups according to the result type."
      ],
      "metadata": {
        "id": "DKQuwbPBbb2D"
      }
    },
    {
      "cell_type": "code",
      "source": [
        "#y=1 admitted(yes)\n",
        "yes_x=[]\n",
        "yes_y=[]\n",
        "#y=0 not admitted(no)\n",
        "no_x=[]\n",
        "no_y=[]\n",
        "for i in range(0,200):\n",
        "    if y[i]== -1:\n",
        "        no_x.append(X_b[i][1])\n",
        "        no_y.append(X_b[i][2])\n",
        "    else:\n",
        "        yes_x.append(X_b[i][1])\n",
        "        yes_y.append(X_b[i][2])"
      ],
      "metadata": {
        "jupyter": {
          "outputs_hidden": false
        },
        "id": "LK5J6Firbb2D"
      },
      "execution_count": null,
      "outputs": []
    },
    {
      "cell_type": "markdown",
      "source": [
        "### Decision Boundary"
      ],
      "metadata": {
        "id": "HzoDBkQKbb2D"
      }
    },
    {
      "cell_type": "code",
      "source": [
        "plt.figure(figsize=(8,5))\n",
        "plt.xlabel('1st Exam(Scaled)')\n",
        "plt.ylabel('2nd Exam(Scaled)')\n",
        "plt.title('Decision Boundary')\n",
        "x=np.arange(-0.75,0.75,0.01)\n",
        "y1=(-theta[1]/theta[2])*x+(-theta[0]/theta[2])#=0\n",
        "y2=(-theta[1]/theta[2])*x+((-theta[0]-1)/theta[2])#=-1\n",
        "y3=(-theta[1]/theta[2])*x+((-theta[0]+1)/theta[2])#=1\n",
        "plt.plot(x,y1,label=r'$\\theta$X=0',color='yellow' )\n",
        "plt.plot(x,y2,label=r'$\\theta$X=-1',linestyle='--',color='gray' )\n",
        "plt.plot(x,y3,label=r'$\\theta$X=1',linestyle='--' ,color='green')\n",
        "plt.scatter(yes_x,yes_y,label='1st type')\n",
        "plt.scatter(no_x,no_y,label='2nd type')\n",
        "plt.legend()"
      ],
      "metadata": {
        "jupyter": {
          "outputs_hidden": false
        },
        "id": "CE443X8Dbb2D",
        "outputId": "690fd6b3-8425-4012-f6c4-7f43e315860e",
        "colab": {
          "base_uri": "https://localhost:8080/",
          "height": 367
        }
      },
      "execution_count": null,
      "outputs": [
        {
          "output_type": "execute_result",
          "data": {
            "text/plain": [
              "<matplotlib.legend.Legend at 0x7f4e3e7df4d0>"
            ]
          },
          "metadata": {},
          "execution_count": 37
        },
        {
          "output_type": "display_data",
          "data": {
            "image/png": "[encoded data removed]",
            "text/plain": [
              "<Figure size 576x360 with 1 Axes>"
            ]
          },
          "metadata": {
            "needs_background": "light"
          }
        }
      ]
    },
    {
      "cell_type": "markdown",
      "source": [
        "Now we have got a clear view of how SVM make decision boundary with maximum margin"
      ],
      "metadata": {
        "id": "wERJXq-Nbb2D"
      }
    },
    {
      "cell_type": "code",
      "source": [
        "cost_history"
      ],
      "metadata": {
        "jupyter": {
          "outputs_hidden": false
        },
        "id": "rdJVubl2bb2D",
        "outputId": "ba73f8dc-0c96-4c1b-c7d9-85606b169c47",
        "colab": {
          "base_uri": "https://localhost:8080/"
        }
      },
      "execution_count": null,
      "outputs": [
        {
          "output_type": "execute_result",
          "data": {
            "text/plain": [
              "array([3.90187613e+01, 7.65590449e+00, 2.18935238e-03, ...,\n",
              "       5.62494163e-03, 5.62499290e-03, 5.62493014e-03])"
            ]
          },
          "metadata": {},
          "execution_count": 38
        }
      ]
    },
    {
      "cell_type": "markdown",
      "source": [
        "We can see that the cost doesn't converge to 0. This may be due to the finite iterations of subgradient.  However it is stressed that, in SVM, any seperate data sets can be completely divided by the decesion boundary accompanied with two margins.  We will show this by multiply the trained parameter by a factor multiplier."
      ],
      "metadata": {
        "id": "H-8XnIOqbb2D"
      }
    },
    {
      "cell_type": "code",
      "source": [
        "multiplier=1.5\n",
        "theta=theta*multiplier\n",
        "print(theta)"
      ],
      "metadata": {
        "jupyter": {
          "outputs_hidden": false
        },
        "id": "0LifmmmMbb2E",
        "outputId": "1524a0aa-be41-40d8-9d72-3934c3f8686a",
        "colab": {
          "base_uri": "https://localhost:8080/"
        }
      },
      "execution_count": null,
      "outputs": [
        {
          "output_type": "stream",
          "name": "stdout",
          "text": [
            "[[-0.14016682]\n",
            " [ 2.93160296]\n",
            " [ 2.82186878]]\n"
          ]
        }
      ]
    },
    {
      "cell_type": "code",
      "source": [
        "plt.figure(figsize=(8,5))\n",
        "plt.xlabel('1st Exam(Scaled)')\n",
        "plt.ylabel('2nd Exam(Scaled)')\n",
        "plt.title('Decision Boundary')\n",
        "x=np.arange(-0.75,0.75,0.01)\n",
        "y1=(-theta[1]/theta[2])*x+(-theta[0]/theta[2])#=0\n",
        "y2=(-theta[1]/theta[2])*x+((-theta[0]-1)/theta[2])#=-1\n",
        "y3=(-theta[1]/theta[2])*x+((-theta[0]+1)/theta[2])#=1\n",
        "plt.plot(x,y1,label=r'$\\theta$X=0',color='yellow' )\n",
        "plt.plot(x,y2,label=r'$\\theta$X=-1',linestyle='--',color='gray' )\n",
        "plt.plot(x,y3,label=r'$\\theta$X=1',linestyle='--' ,color='green')\n",
        "plt.scatter(yes_x,yes_y,label='1st type')\n",
        "plt.scatter(no_x,no_y,label='2nd type')\n",
        "plt.legend()"
      ],
      "metadata": {
        "jupyter": {
          "outputs_hidden": false
        },
        "id": "zU1Qu6Hmbb2E",
        "outputId": "bc5c50f4-075d-4e49-84f2-8f2d35db3276",
        "colab": {
          "base_uri": "https://localhost:8080/",
          "height": 367
        }
      },
      "execution_count": null,
      "outputs": [
        {
          "output_type": "execute_result",
          "data": {
            "text/plain": [
              "<matplotlib.legend.Legend at 0x7f4e3e7d1150>"
            ]
          },
          "metadata": {},
          "execution_count": 40
        },
        {
          "output_type": "display_data",
          "data": {
            "image/png": "[encoded data removed]",
            "text/plain": [
              "<Figure size 576x360 with 1 Axes>"
            ]
          },
          "metadata": {
            "needs_background": "light"
          }
        }
      ]
    },
    {
      "cell_type": "markdown",
      "source": [
        "Then you can see that the dataset is completly seperated by the margins."
      ],
      "metadata": {
        "id": "ItmZbsHsbb2E"
      }
    },
    {
      "cell_type": "code",
      "source": [],
      "metadata": {
        "jupyter": {
          "outputs_hidden": false
        },
        "id": "839cFT5Lbb2E"
      },
      "execution_count": null,
      "outputs": []
    }
  ]
}