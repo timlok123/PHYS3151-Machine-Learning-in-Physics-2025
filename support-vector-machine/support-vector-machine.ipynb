{
  "metadata": {
    "kernelspec": {
      "name": "python3",
      "display_name": "Python 3",
      "language": "python"
    },
    "language_info": {
      "name": "python",
      "version": "3.7.3",
      "mimetype": "text/x-python",
      "codemirror_mode": {
        "name": "ipython",
        "version": 3
      },
      "pygments_lexer": "ipython3",
      "nbconvert_exporter": "python",
      "file_extension": ".py"
    },
    "colab": {
      "name": "support-vector-machine.ipynb",
      "provenance": [],
      "include_colab_link": true
    }
  },
  "nbformat_minor": 0,
  "nbformat": 4,
  "cells": [
    {
      "cell_type": "markdown",
      "metadata": {
        "id": "view-in-github",
        "colab_type": "text"
      },
      "source": [
        "<a href=\"https://colab.research.google.com/github/timlok123/PHYS3151-Machine-Learning-in-Physics-2025/blob/main/support-vector-machine/support-vector-machine.ipynb\" target=\"_parent\"><img src=\"https://colab.research.google.com/assets/colab-badge.svg\" alt=\"Open In Colab\"/></a>"
      ]
    },
    {
      "cell_type": "markdown",
      "source": [
        "# Support Vector Machine (SVM)"
      ],
      "metadata": {
        "id": "vq99877-bb1y"
      }
    },
    {
      "cell_type": "markdown",
      "source": [
        "The problem SVM addresses is the same as that of Logistic Regression, only that SVM uses a different algorithm to seperate the two groups. In this notebook, we will use the same data as in the logistic regression to try to show the similarities and differences."
      ],
      "metadata": {
        "id": "V0cm2un6bb10"
      }
    },
    {
      "cell_type": "markdown",
      "source": [
        "## Example 1"
      ],
      "metadata": {
        "id": "2jMaGhTHbb11"
      }
    },
    {
      "cell_type": "markdown",
      "source": [
        "<table><tr>\n",
        "Source link:https://www.kaggle.com/uciml/pima-indians-diabetes-database\n",
        "\n",
        "<br>Recall that the objective of this data is to predict the chances of Diabetes from health parameters like glucose, blood pressure, etc. This data is all taken from Pima Indians females of over 21 years old."
      ],
      "metadata": {
        "id": "r7TKO8qwbb11"
      }
    },
    {
      "cell_type": "markdown",
      "source": [
        "### Data"
      ],
      "metadata": {
        "id": "pxyxbVT8bb11"
      }
    },
    {
      "cell_type": "markdown",
      "source": [
        "Like in Logistic Regression, we import the data into a pandas dataframe and have a look."
      ],
      "metadata": {
        "id": "7_ogfUyKbb11"
      }
    },
    {
      "cell_type": "code",
      "source": [
        "import pandas as pd\n",
        "from pandas import DataFrame\n",
        "import matplotlib.pyplot as plt\n",
        "!git clone https://github.com/timlok123/PHYS3151-Machine-Learning-in-Physics-2025.git\n"
      ],
      "metadata": {
        "scrolled": true,
        "jupyter": {
          "outputs_hidden": false
        },
        "trusted": true,
        "id": "66MTI7hNbb12",
        "outputId": "7784ee1e-9ab2-4d3d-bbfb-ada93cbee010",
        "colab": {
          "base_uri": "https://localhost:8080/"
        }
      },
      "execution_count": 1,
      "outputs": [
        {
          "output_type": "stream",
          "name": "stdout",
          "text": [
            "Cloning into 'PHYS3151-Machine-Learning-in-Physics-2025'...\n",
            "remote: Enumerating objects: 123, done.\u001b[K\n",
            "remote: Counting objects: 100% (123/123), done.\u001b[K\n",
            "remote: Compressing objects: 100% (120/120), done.\u001b[K\n",
            "remote: Total 123 (delta 57), reused 27 (delta 2), pack-reused 0 (from 0)\u001b[K\n",
            "Receiving objects: 100% (123/123), 9.55 MiB | 13.79 MiB/s, done.\n",
            "Resolving deltas: 100% (57/57), done.\n"
          ]
        }
      ]
    },
    {
      "cell_type": "code",
      "source": [
        "df = pd.read_csv(\"/content/PHYS3151-Machine-Learning-in-Physics-2025/support-vector-machine/support-vector-machine-example-1.csv\", sep=\",\")\n",
        "print (df)"
      ],
      "metadata": {
        "id": "prUyRAdCxeBM",
        "outputId": "6725ba5e-4a7f-458f-f039-498cb402b997",
        "colab": {
          "base_uri": "https://localhost:8080/"
        }
      },
      "execution_count": 2,
      "outputs": [
        {
          "output_type": "stream",
          "name": "stdout",
          "text": [
            "     Pregnancies  Glucose  BloodPressure  SkinThickness  Insulin   BMI  \\\n",
            "0              6      148             72             35        0  33.6   \n",
            "1              1       85             66             29        0  26.6   \n",
            "2              8      183             64              0        0  23.3   \n",
            "3              1       89             66             23       94  28.1   \n",
            "4              0      137             40             35      168  43.1   \n",
            "..           ...      ...            ...            ...      ...   ...   \n",
            "763           10      101             76             48      180  32.9   \n",
            "764            2      122             70             27        0  36.8   \n",
            "765            5      121             72             23      112  26.2   \n",
            "766            1      126             60              0        0  30.1   \n",
            "767            1       93             70             31        0  30.4   \n",
            "\n",
            "     DiabetesPedigreeFunction  Age  Outcome  \n",
            "0                       0.627   50        1  \n",
            "1                       0.351   31        0  \n",
            "2                       0.672   32        1  \n",
            "3                       0.167   21        0  \n",
            "4                       2.288   33        1  \n",
            "..                        ...  ...      ...  \n",
            "763                     0.171   63        0  \n",
            "764                     0.340   27        0  \n",
            "765                     0.245   30        0  \n",
            "766                     0.349   47        1  \n",
            "767                     0.315   23        0  \n",
            "\n",
            "[768 rows x 9 columns]\n"
          ]
        }
      ]
    },
    {
      "cell_type": "markdown",
      "source": [
        "Then we define 'X', which is the design matrix, and 'y' which is the target vector."
      ],
      "metadata": {
        "id": "piDY20IBbb13"
      }
    },
    {
      "cell_type": "code",
      "source": [
        "X = df.drop('Outcome', axis=1)\n",
        "y = df['Outcome']"
      ],
      "metadata": {
        "jupyter": {
          "outputs_hidden": false
        },
        "id": "8jCFotq0bb13"
      },
      "execution_count": 3,
      "outputs": []
    },
    {
      "cell_type": "markdown",
      "source": [
        "Next, since we need to both train and test the model, we separate the data into two parts as follows."
      ],
      "metadata": {
        "id": "B4oZ3S9Rbb13"
      }
    },
    {
      "cell_type": "code",
      "source": [
        "from sklearn.model_selection import train_test_split\n",
        "X_train, X_test, y_train, y_test = train_test_split(X, y, test_size = 0.70)"
      ],
      "metadata": {
        "jupyter": {
          "outputs_hidden": false
        },
        "id": "Y1VqOV0Nbb13"
      },
      "execution_count": 4,
      "outputs": []
    },
    {
      "cell_type": "markdown",
      "source": [
        "### SVM Implementation"
      ],
      "metadata": {
        "id": "k5gnxNaUbb13"
      }
    },
    {
      "cell_type": "markdown",
      "source": [
        "First, we get the fit using sklearn package."
      ],
      "metadata": {
        "id": "tovstLQzbb14"
      }
    },
    {
      "cell_type": "code",
      "source": [
        "from sklearn.svm import SVC\n",
        "svclassifier = SVC(kernel='linear')\n",
        "svclassifier.fit(X_train, y_train)"
      ],
      "metadata": {
        "jupyter": {
          "outputs_hidden": false
        },
        "id": "4oWaKqw7bb14",
        "outputId": "329b9eb8-37af-4a08-d1d3-caa7d7bece0a",
        "colab": {
          "base_uri": "https://localhost:8080/",
          "height": 80
        }
      },
      "execution_count": 5,
      "outputs": [
        {
          "output_type": "execute_result",
          "data": {
            "text/plain": [
              "SVC(kernel='linear')"
            ],
            "text/html": [
              "<style>#sk-container-id-1 {\n",
              "  /* Definition of color scheme common for light and dark mode */\n",
              "  --sklearn-color-text: #000;\n",
              "  --sklearn-color-text-muted: #666;\n",
              "  --sklearn-color-line: gray;\n",
              "  /* Definition of color scheme for unfitted estimators */\n",
              "  --sklearn-color-unfitted-level-0: #fff5e6;\n",
              "  --sklearn-color-unfitted-level-1: #f6e4d2;\n",
              "  --sklearn-color-unfitted-level-2: #ffe0b3;\n",
              "  --sklearn-color-unfitted-level-3: chocolate;\n",
              "  /* Definition of color scheme for fitted estimators */\n",
              "  --sklearn-color-fitted-level-0: #f0f8ff;\n",
              "  --sklearn-color-fitted-level-1: #d4ebff;\n",
              "  --sklearn-color-fitted-level-2: #b3dbfd;\n",
              "  --sklearn-color-fitted-level-3: cornflowerblue;\n",
              "\n",
              "  /* Specific color for light theme */\n",
              "  --sklearn-color-text-on-default-background: var(--sg-text-color, var(--theme-code-foreground, var(--jp-content-font-color1, black)));\n",
              "  --sklearn-color-background: var(--sg-background-color, var(--theme-background, var(--jp-layout-color0, white)));\n",
              "  --sklearn-color-border-box: var(--sg-text-color, var(--theme-code-foreground, var(--jp-content-font-color1, black)));\n",
              "  --sklearn-color-icon: #696969;\n",
              "\n",
              "  @media (prefers-color-scheme: dark) {\n",
              "    /* Redefinition of color scheme for dark theme */\n",
              "    --sklearn-color-text-on-default-background: var(--sg-text-color, var(--theme-code-foreground, var(--jp-content-font-color1, white)));\n",
              "    --sklearn-color-background: var(--sg-background-color, var(--theme-background, var(--jp-layout-color0, #111)));\n",
              "    --sklearn-color-border-box: var(--sg-text-color, var(--theme-code-foreground, var(--jp-content-font-color1, white)));\n",
              "    --sklearn-color-icon: #878787;\n",
              "  }\n",
              "}\n",
              "\n",
              "#sk-container-id-1 {\n",
              "  color: var(--sklearn-color-text);\n",
              "}\n",
              "\n",
              "#sk-container-id-1 pre {\n",
              "  padding: 0;\n",
              "}\n",
              "\n",
              "#sk-container-id-1 input.sk-hidden--visually {\n",
              "  border: 0;\n",
              "  clip: rect(1px 1px 1px 1px);\n",
              "  clip: rect(1px, 1px, 1px, 1px);\n",
              "  height: 1px;\n",
              "  margin: -1px;\n",
              "  overflow: hidden;\n",
              "  padding: 0;\n",
              "  position: absolute;\n",
              "  width: 1px;\n",
              "}\n",
              "\n",
              "#sk-container-id-1 div.sk-dashed-wrapped {\n",
              "  border: 1px dashed var(--sklearn-color-line);\n",
              "  margin: 0 0.4em 0.5em 0.4em;\n",
              "  box-sizing: border-box;\n",
              "  padding-bottom: 0.4em;\n",
              "  background-color: var(--sklearn-color-background);\n",
              "}\n",
              "\n",
              "#sk-container-id-1 div.sk-container {\n",
              "  /* jupyter's `normalize.less` sets `[hidden] { display: none; }`\n",
              "     but bootstrap.min.css set `[hidden] { display: none !important; }`\n",
              "     so we also need the `!important` here to be able to override the\n",
              "     default hidden behavior on the sphinx rendered scikit-learn.org.\n",
              "     See: https://github.com/scikit-learn/scikit-learn/issues/21755 */\n",
              "  display: inline-block !important;\n",
              "  position: relative;\n",
              "}\n",
              "\n",
              "#sk-container-id-1 div.sk-text-repr-fallback {\n",
              "  display: none;\n",
              "}\n",
              "\n",
              "div.sk-parallel-item,\n",
              "div.sk-serial,\n",
              "div.sk-item {\n",
              "  /* draw centered vertical line to link estimators */\n",
              "  background-image: linear-gradient(var(--sklearn-color-text-on-default-background), var(--sklearn-color-text-on-default-background));\n",
              "  background-size: 2px 100%;\n",
              "  background-repeat: no-repeat;\n",
              "  background-position: center center;\n",
              "}\n",
              "\n",
              "/* Parallel-specific style estimator block */\n",
              "\n",
              "#sk-container-id-1 div.sk-parallel-item::after {\n",
              "  content: \"\";\n",
              "  width: 100%;\n",
              "  border-bottom: 2px solid var(--sklearn-color-text-on-default-background);\n",
              "  flex-grow: 1;\n",
              "}\n",
              "\n",
              "#sk-container-id-1 div.sk-parallel {\n",
              "  display: flex;\n",
              "  align-items: stretch;\n",
              "  justify-content: center;\n",
              "  background-color: var(--sklearn-color-background);\n",
              "  position: relative;\n",
              "}\n",
              "\n",
              "#sk-container-id-1 div.sk-parallel-item {\n",
              "  display: flex;\n",
              "  flex-direction: column;\n",
              "}\n",
              "\n",
              "#sk-container-id-1 div.sk-parallel-item:first-child::after {\n",
              "  align-self: flex-end;\n",
              "  width: 50%;\n",
              "}\n",
              "\n",
              "#sk-container-id-1 div.sk-parallel-item:last-child::after {\n",
              "  align-self: flex-start;\n",
              "  width: 50%;\n",
              "}\n",
              "\n",
              "#sk-container-id-1 div.sk-parallel-item:only-child::after {\n",
              "  width: 0;\n",
              "}\n",
              "\n",
              "/* Serial-specific style estimator block */\n",
              "\n",
              "#sk-container-id-1 div.sk-serial {\n",
              "  display: flex;\n",
              "  flex-direction: column;\n",
              "  align-items: center;\n",
              "  background-color: var(--sklearn-color-background);\n",
              "  padding-right: 1em;\n",
              "  padding-left: 1em;\n",
              "}\n",
              "\n",
              "\n",
              "/* Toggleable style: style used for estimator/Pipeline/ColumnTransformer box that is\n",
              "clickable and can be expanded/collapsed.\n",
              "- Pipeline and ColumnTransformer use this feature and define the default style\n",
              "- Estimators will overwrite some part of the style using the `sk-estimator` class\n",
              "*/\n",
              "\n",
              "/* Pipeline and ColumnTransformer style (default) */\n",
              "\n",
              "#sk-container-id-1 div.sk-toggleable {\n",
              "  /* Default theme specific background. It is overwritten whether we have a\n",
              "  specific estimator or a Pipeline/ColumnTransformer */\n",
              "  background-color: var(--sklearn-color-background);\n",
              "}\n",
              "\n",
              "/* Toggleable label */\n",
              "#sk-container-id-1 label.sk-toggleable__label {\n",
              "  cursor: pointer;\n",
              "  display: flex;\n",
              "  width: 100%;\n",
              "  margin-bottom: 0;\n",
              "  padding: 0.5em;\n",
              "  box-sizing: border-box;\n",
              "  text-align: center;\n",
              "  align-items: start;\n",
              "  justify-content: space-between;\n",
              "  gap: 0.5em;\n",
              "}\n",
              "\n",
              "#sk-container-id-1 label.sk-toggleable__label .caption {\n",
              "  font-size: 0.6rem;\n",
              "  font-weight: lighter;\n",
              "  color: var(--sklearn-color-text-muted);\n",
              "}\n",
              "\n",
              "#sk-container-id-1 label.sk-toggleable__label-arrow:before {\n",
              "  /* Arrow on the left of the label */\n",
              "  content: \"▸\";\n",
              "  float: left;\n",
              "  margin-right: 0.25em;\n",
              "  color: var(--sklearn-color-icon);\n",
              "}\n",
              "\n",
              "#sk-container-id-1 label.sk-toggleable__label-arrow:hover:before {\n",
              "  color: var(--sklearn-color-text);\n",
              "}\n",
              "\n",
              "/* Toggleable content - dropdown */\n",
              "\n",
              "#sk-container-id-1 div.sk-toggleable__content {\n",
              "  max-height: 0;\n",
              "  max-width: 0;\n",
              "  overflow: hidden;\n",
              "  text-align: left;\n",
              "  /* unfitted */\n",
              "  background-color: var(--sklearn-color-unfitted-level-0);\n",
              "}\n",
              "\n",
              "#sk-container-id-1 div.sk-toggleable__content.fitted {\n",
              "  /* fitted */\n",
              "  background-color: var(--sklearn-color-fitted-level-0);\n",
              "}\n",
              "\n",
              "#sk-container-id-1 div.sk-toggleable__content pre {\n",
              "  margin: 0.2em;\n",
              "  border-radius: 0.25em;\n",
              "  color: var(--sklearn-color-text);\n",
              "  /* unfitted */\n",
              "  background-color: var(--sklearn-color-unfitted-level-0);\n",
              "}\n",
              "\n",
              "#sk-container-id-1 div.sk-toggleable__content.fitted pre {\n",
              "  /* unfitted */\n",
              "  background-color: var(--sklearn-color-fitted-level-0);\n",
              "}\n",
              "\n",
              "#sk-container-id-1 input.sk-toggleable__control:checked~div.sk-toggleable__content {\n",
              "  /* Expand drop-down */\n",
              "  max-height: 200px;\n",
              "  max-width: 100%;\n",
              "  overflow: auto;\n",
              "}\n",
              "\n",
              "#sk-container-id-1 input.sk-toggleable__control:checked~label.sk-toggleable__label-arrow:before {\n",
              "  content: \"▾\";\n",
              "}\n",
              "\n",
              "/* Pipeline/ColumnTransformer-specific style */\n",
              "\n",
              "#sk-container-id-1 div.sk-label input.sk-toggleable__control:checked~label.sk-toggleable__label {\n",
              "  color: var(--sklearn-color-text);\n",
              "  background-color: var(--sklearn-color-unfitted-level-2);\n",
              "}\n",
              "\n",
              "#sk-container-id-1 div.sk-label.fitted input.sk-toggleable__control:checked~label.sk-toggleable__label {\n",
              "  background-color: var(--sklearn-color-fitted-level-2);\n",
              "}\n",
              "\n",
              "/* Estimator-specific style */\n",
              "\n",
              "/* Colorize estimator box */\n",
              "#sk-container-id-1 div.sk-estimator input.sk-toggleable__control:checked~label.sk-toggleable__label {\n",
              "  /* unfitted */\n",
              "  background-color: var(--sklearn-color-unfitted-level-2);\n",
              "}\n",
              "\n",
              "#sk-container-id-1 div.sk-estimator.fitted input.sk-toggleable__control:checked~label.sk-toggleable__label {\n",
              "  /* fitted */\n",
              "  background-color: var(--sklearn-color-fitted-level-2);\n",
              "}\n",
              "\n",
              "#sk-container-id-1 div.sk-label label.sk-toggleable__label,\n",
              "#sk-container-id-1 div.sk-label label {\n",
              "  /* The background is the default theme color */\n",
              "  color: var(--sklearn-color-text-on-default-background);\n",
              "}\n",
              "\n",
              "/* On hover, darken the color of the background */\n",
              "#sk-container-id-1 div.sk-label:hover label.sk-toggleable__label {\n",
              "  color: var(--sklearn-color-text);\n",
              "  background-color: var(--sklearn-color-unfitted-level-2);\n",
              "}\n",
              "\n",
              "/* Label box, darken color on hover, fitted */\n",
              "#sk-container-id-1 div.sk-label.fitted:hover label.sk-toggleable__label.fitted {\n",
              "  color: var(--sklearn-color-text);\n",
              "  background-color: var(--sklearn-color-fitted-level-2);\n",
              "}\n",
              "\n",
              "/* Estimator label */\n",
              "\n",
              "#sk-container-id-1 div.sk-label label {\n",
              "  font-family: monospace;\n",
              "  font-weight: bold;\n",
              "  display: inline-block;\n",
              "  line-height: 1.2em;\n",
              "}\n",
              "\n",
              "#sk-container-id-1 div.sk-label-container {\n",
              "  text-align: center;\n",
              "}\n",
              "\n",
              "/* Estimator-specific */\n",
              "#sk-container-id-1 div.sk-estimator {\n",
              "  font-family: monospace;\n",
              "  border: 1px dotted var(--sklearn-color-border-box);\n",
              "  border-radius: 0.25em;\n",
              "  box-sizing: border-box;\n",
              "  margin-bottom: 0.5em;\n",
              "  /* unfitted */\n",
              "  background-color: var(--sklearn-color-unfitted-level-0);\n",
              "}\n",
              "\n",
              "#sk-container-id-1 div.sk-estimator.fitted {\n",
              "  /* fitted */\n",
              "  background-color: var(--sklearn-color-fitted-level-0);\n",
              "}\n",
              "\n",
              "/* on hover */\n",
              "#sk-container-id-1 div.sk-estimator:hover {\n",
              "  /* unfitted */\n",
              "  background-color: var(--sklearn-color-unfitted-level-2);\n",
              "}\n",
              "\n",
              "#sk-container-id-1 div.sk-estimator.fitted:hover {\n",
              "  /* fitted */\n",
              "  background-color: var(--sklearn-color-fitted-level-2);\n",
              "}\n",
              "\n",
              "/* Specification for estimator info (e.g. \"i\" and \"?\") */\n",
              "\n",
              "/* Common style for \"i\" and \"?\" */\n",
              "\n",
              ".sk-estimator-doc-link,\n",
              "a:link.sk-estimator-doc-link,\n",
              "a:visited.sk-estimator-doc-link {\n",
              "  float: right;\n",
              "  font-size: smaller;\n",
              "  line-height: 1em;\n",
              "  font-family: monospace;\n",
              "  background-color: var(--sklearn-color-background);\n",
              "  border-radius: 1em;\n",
              "  height: 1em;\n",
              "  width: 1em;\n",
              "  text-decoration: none !important;\n",
              "  margin-left: 0.5em;\n",
              "  text-align: center;\n",
              "  /* unfitted */\n",
              "  border: var(--sklearn-color-unfitted-level-1) 1pt solid;\n",
              "  color: var(--sklearn-color-unfitted-level-1);\n",
              "}\n",
              "\n",
              ".sk-estimator-doc-link.fitted,\n",
              "a:link.sk-estimator-doc-link.fitted,\n",
              "a:visited.sk-estimator-doc-link.fitted {\n",
              "  /* fitted */\n",
              "  border: var(--sklearn-color-fitted-level-1) 1pt solid;\n",
              "  color: var(--sklearn-color-fitted-level-1);\n",
              "}\n",
              "\n",
              "/* On hover */\n",
              "div.sk-estimator:hover .sk-estimator-doc-link:hover,\n",
              ".sk-estimator-doc-link:hover,\n",
              "div.sk-label-container:hover .sk-estimator-doc-link:hover,\n",
              ".sk-estimator-doc-link:hover {\n",
              "  /* unfitted */\n",
              "  background-color: var(--sklearn-color-unfitted-level-3);\n",
              "  color: var(--sklearn-color-background);\n",
              "  text-decoration: none;\n",
              "}\n",
              "\n",
              "div.sk-estimator.fitted:hover .sk-estimator-doc-link.fitted:hover,\n",
              ".sk-estimator-doc-link.fitted:hover,\n",
              "div.sk-label-container:hover .sk-estimator-doc-link.fitted:hover,\n",
              ".sk-estimator-doc-link.fitted:hover {\n",
              "  /* fitted */\n",
              "  background-color: var(--sklearn-color-fitted-level-3);\n",
              "  color: var(--sklearn-color-background);\n",
              "  text-decoration: none;\n",
              "}\n",
              "\n",
              "/* Span, style for the box shown on hovering the info icon */\n",
              ".sk-estimator-doc-link span {\n",
              "  display: none;\n",
              "  z-index: 9999;\n",
              "  position: relative;\n",
              "  font-weight: normal;\n",
              "  right: .2ex;\n",
              "  padding: .5ex;\n",
              "  margin: .5ex;\n",
              "  width: min-content;\n",
              "  min-width: 20ex;\n",
              "  max-width: 50ex;\n",
              "  color: var(--sklearn-color-text);\n",
              "  box-shadow: 2pt 2pt 4pt #999;\n",
              "  /* unfitted */\n",
              "  background: var(--sklearn-color-unfitted-level-0);\n",
              "  border: .5pt solid var(--sklearn-color-unfitted-level-3);\n",
              "}\n",
              "\n",
              ".sk-estimator-doc-link.fitted span {\n",
              "  /* fitted */\n",
              "  background: var(--sklearn-color-fitted-level-0);\n",
              "  border: var(--sklearn-color-fitted-level-3);\n",
              "}\n",
              "\n",
              ".sk-estimator-doc-link:hover span {\n",
              "  display: block;\n",
              "}\n",
              "\n",
              "/* \"?\"-specific style due to the `<a>` HTML tag */\n",
              "\n",
              "#sk-container-id-1 a.estimator_doc_link {\n",
              "  float: right;\n",
              "  font-size: 1rem;\n",
              "  line-height: 1em;\n",
              "  font-family: monospace;\n",
              "  background-color: var(--sklearn-color-background);\n",
              "  border-radius: 1rem;\n",
              "  height: 1rem;\n",
              "  width: 1rem;\n",
              "  text-decoration: none;\n",
              "  /* unfitted */\n",
              "  color: var(--sklearn-color-unfitted-level-1);\n",
              "  border: var(--sklearn-color-unfitted-level-1) 1pt solid;\n",
              "}\n",
              "\n",
              "#sk-container-id-1 a.estimator_doc_link.fitted {\n",
              "  /* fitted */\n",
              "  border: var(--sklearn-color-fitted-level-1) 1pt solid;\n",
              "  color: var(--sklearn-color-fitted-level-1);\n",
              "}\n",
              "\n",
              "/* On hover */\n",
              "#sk-container-id-1 a.estimator_doc_link:hover {\n",
              "  /* unfitted */\n",
              "  background-color: var(--sklearn-color-unfitted-level-3);\n",
              "  color: var(--sklearn-color-background);\n",
              "  text-decoration: none;\n",
              "}\n",
              "\n",
              "#sk-container-id-1 a.estimator_doc_link.fitted:hover {\n",
              "  /* fitted */\n",
              "  background-color: var(--sklearn-color-fitted-level-3);\n",
              "}\n",
              "</style><div id=\"sk-container-id-1\" class=\"sk-top-container\"><div class=\"sk-text-repr-fallback\"><pre>SVC(kernel=&#x27;linear&#x27;)</pre><b>In a Jupyter environment, please rerun this cell to show the HTML representation or trust the notebook. <br />On GitHub, the HTML representation is unable to render, please try loading this page with nbviewer.org.</b></div><div class=\"sk-container\" hidden><div class=\"sk-item\"><div class=\"sk-estimator fitted sk-toggleable\"><input class=\"sk-toggleable__control sk-hidden--visually\" id=\"sk-estimator-id-1\" type=\"checkbox\" checked><label for=\"sk-estimator-id-1\" class=\"sk-toggleable__label fitted sk-toggleable__label-arrow\"><div><div>SVC</div></div><div><a class=\"sk-estimator-doc-link fitted\" rel=\"noreferrer\" target=\"_blank\" href=\"https://scikit-learn.org/1.6/modules/generated/sklearn.svm.SVC.html\">?<span>Documentation for SVC</span></a><span class=\"sk-estimator-doc-link fitted\">i<span>Fitted</span></span></div></label><div class=\"sk-toggleable__content fitted\"><pre>SVC(kernel=&#x27;linear&#x27;)</pre></div> </div></div></div></div>"
            ]
          },
          "metadata": {},
          "execution_count": 5
        }
      ]
    },
    {
      "cell_type": "markdown",
      "source": [
        "Then, we make predictions of the test set to evaluate the model"
      ],
      "metadata": {
        "id": "LTD0PPpybb14"
      }
    },
    {
      "cell_type": "code",
      "source": [
        "y_pred = svclassifier.predict(X_test)"
      ],
      "metadata": {
        "jupyter": {
          "outputs_hidden": false
        },
        "id": "KskuuuwYbb14"
      },
      "execution_count": 6,
      "outputs": []
    },
    {
      "cell_type": "markdown",
      "source": [
        "Two tools for evaluation:"
      ],
      "metadata": {
        "id": "0hJ4H1_4bb14"
      }
    },
    {
      "cell_type": "code",
      "source": [
        "from sklearn.metrics import classification_report, confusion_matrix\n",
        "print(confusion_matrix(y_test,y_pred))\n",
        "print(classification_report(y_test,y_pred))"
      ],
      "metadata": {
        "jupyter": {
          "outputs_hidden": false
        },
        "id": "mj2qVwbWbb15",
        "outputId": "17a5ccf9-046f-4137-eac3-79364d7f8605",
        "colab": {
          "base_uri": "https://localhost:8080/"
        }
      },
      "execution_count": 7,
      "outputs": [
        {
          "output_type": "stream",
          "name": "stdout",
          "text": [
            "[[297  64]\n",
            " [ 71 106]]\n",
            "              precision    recall  f1-score   support\n",
            "\n",
            "           0       0.81      0.82      0.81       361\n",
            "           1       0.62      0.60      0.61       177\n",
            "\n",
            "    accuracy                           0.75       538\n",
            "   macro avg       0.72      0.71      0.71       538\n",
            "weighted avg       0.75      0.75      0.75       538\n",
            "\n"
          ]
        }
      ]
    },
    {
      "cell_type": "markdown",
      "source": [
        "First, we have to figure out the meaning of each element in the confusion_matrix: [1,1] is True Positives; [1,2] is False Negatives; [2,1] is False Positives; [2,2] is True Negatives. As the result turns out, in test set, there are [1,1]+[1,2] positives and [1,1] of which are correctly predicted; [2,1]+[2,2] negatives and [2,2] of which are correctly predicted.\n",
        "<br><br>Then, look into the report. For quick review on separate results of positives and negatives separately, we can look at precision and recall:\n",
        "\n",
        "<br>1. Precision:\n",
        "<br>for example, $positive\\ Precision = True\\ Positives/(True\\ Positives + False\\ Positives)$， which means the correct rate of the predictions within predicted positives.\n",
        "\n",
        "<br>2. Recall:\n",
        "<br> $positive\\ Recall = True\\ Positives/(True\\ Positives + False\\ Negatives)$, which means the correct rate of the prediction within the actual positives.\n",
        "<br><br>For example, in this case, we're predicting the chances of diabetes. If our focus is on predicting as many people as possible who may have diabetes, then we should care more about the value of 'Recall'. If our focus is to minimize the error rate of people who are predicted to have diabetes, we care more about the value of 'Precision'.\n",
        "<br><br>3. Macro avg refers to arithmatic mean, while weighted avg refers to weighted average, of the two above in the same column.\n",
        "<br>\n",
        "<br>For total test, we can directly check accuracy: $Accuracy = True\\ values / All\\ Values $"
      ],
      "metadata": {
        "id": "Pw44MAi3bb15"
      }
    },
    {
      "cell_type": "markdown",
      "source": [
        "In this case, the model created is not a very good one, as the accuracy of the model shown in the classification report matrix above is just around 80%, especially for the negative values since nearly half of them are mispredicted."
      ],
      "metadata": {
        "id": "xTxN9zcUbb15"
      }
    },
    {
      "cell_type": "markdown",
      "source": [
        "## Example 2"
      ],
      "metadata": {
        "id": "_upH67Qsbb15"
      }
    },
    {
      "cell_type": "markdown",
      "source": [
        "Just like in the logistic regression notebook, in the second example, an algorithm written from scratch will be used to provide insight into the inner workings of SVM."
      ],
      "metadata": {
        "id": "JE-RIQzxbb16"
      }
    },
    {
      "cell_type": "markdown",
      "source": [
        "### Data Preparation"
      ],
      "metadata": {
        "id": "gVqaoKDXbb16"
      }
    },
    {
      "cell_type": "markdown",
      "source": [
        "Data source: https://www.kaggle.com/amanajmera1/framingham-heart-study-dataset/data\n",
        "<br><br>Recall that we try to predict whether a given person will have a coronary heart disease in the next 10 years given various parameters like sex, age, eduction, blood pressure, BMI, etc."
      ],
      "metadata": {
        "id": "hg8gHAEBbb16"
      }
    },
    {
      "cell_type": "markdown",
      "source": [
        "Still, import the data and have a view again."
      ],
      "metadata": {
        "id": "eb11WKrObb16"
      }
    },
    {
      "cell_type": "code",
      "source": [
        "import pandas as pd\n",
        "from pandas import DataFrame\n",
        "import numpy as np\n",
        "import random\n",
        "\n",
        "df = pd.read_csv(\"/content/PHYS3151-Machine-Learning-in-Physics-2025/support-vector-machine/support-vector-machine-example-2.csv\", sep=\",\")\n",
        "df = df.apply(lambda x: x.fillna(random.choice(x.dropna())), axis=1)\n",
        "\n",
        "print(df)"
      ],
      "metadata": {
        "scrolled": true,
        "jupyter": {
          "outputs_hidden": false
        },
        "trusted": true,
        "id": "KVSyBve7bb16",
        "outputId": "2d71970e-1e96-4428-d6eb-81182757b79b",
        "colab": {
          "base_uri": "https://localhost:8080/"
        }
      },
      "execution_count": 8,
      "outputs": [
        {
          "output_type": "stream",
          "name": "stderr",
          "text": [
            "/usr/lib/python3.11/random.py:374: FutureWarning: Series.__getitem__ treating keys as positions is deprecated. In a future version, integer keys will always be treated as labels (consistent with DataFrame behavior). To access a value by position, use `ser.iloc[pos]`\n",
            "  return seq[self._randbelow(len(seq))]\n"
          ]
        },
        {
          "output_type": "stream",
          "name": "stdout",
          "text": [
            "      male   age  education  currentSmoker  cigsPerDay  BPMeds  \\\n",
            "0      1.0  39.0        4.0            0.0         0.0     0.0   \n",
            "1      0.0  46.0        2.0            0.0         0.0     0.0   \n",
            "2      1.0  48.0        1.0            1.0        20.0     0.0   \n",
            "3      0.0  61.0        3.0            1.0        30.0     0.0   \n",
            "4      0.0  46.0        3.0            1.0        23.0     0.0   \n",
            "...    ...   ...        ...            ...         ...     ...   \n",
            "4233   1.0  50.0        1.0            1.0         1.0     0.0   \n",
            "4234   1.0  51.0        3.0            1.0        43.0     0.0   \n",
            "4235   0.0  48.0        2.0            1.0        20.0     1.0   \n",
            "4236   0.0  44.0        1.0            1.0        15.0     0.0   \n",
            "4237   0.0  52.0        2.0            0.0         0.0     0.0   \n",
            "\n",
            "      prevalentStroke  prevalentHyp  diabetes  totChol  sysBP  diaBP    BMI  \\\n",
            "0                 0.0           0.0       0.0    195.0  106.0   70.0  26.97   \n",
            "1                 0.0           0.0       0.0    250.0  121.0   81.0  28.73   \n",
            "2                 0.0           0.0       0.0    245.0  127.5   80.0  25.34   \n",
            "3                 0.0           1.0       0.0    225.0  150.0   95.0  28.58   \n",
            "4                 0.0           0.0       0.0    285.0  130.0   84.0  23.10   \n",
            "...               ...           ...       ...      ...    ...    ...    ...   \n",
            "4233              0.0           1.0       0.0    313.0  179.0   92.0  25.97   \n",
            "4234              0.0           0.0       0.0    207.0  126.5   80.0  19.71   \n",
            "4235              0.0           0.0       0.0    248.0  131.0   72.0  22.00   \n",
            "4236              0.0           0.0       0.0    210.0  126.5   87.0  19.16   \n",
            "4237              0.0           0.0       0.0    269.0  133.5   83.0  21.47   \n",
            "\n",
            "      heartRate  glucose  TenYearCHD  \n",
            "0          80.0     77.0         0.0  \n",
            "1          95.0     76.0         0.0  \n",
            "2          75.0     70.0         0.0  \n",
            "3          65.0    103.0         1.0  \n",
            "4          85.0     85.0         0.0  \n",
            "...         ...      ...         ...  \n",
            "4233       66.0     86.0         1.0  \n",
            "4234       65.0     68.0         0.0  \n",
            "4235       84.0     86.0         0.0  \n",
            "4236       86.0    210.0         0.0  \n",
            "4237       80.0    107.0         0.0  \n",
            "\n",
            "[4238 rows x 16 columns]\n"
          ]
        }
      ]
    },
    {
      "cell_type": "markdown",
      "source": [
        "Set design matrix and target vector."
      ],
      "metadata": {
        "id": "5AJOeJ-ybb16"
      }
    },
    {
      "cell_type": "code",
      "source": [
        "X = df.drop(columns=['TenYearCHD'])\n",
        "y = df['TenYearCHD']"
      ],
      "metadata": {
        "scrolled": true,
        "jupyter": {
          "outputs_hidden": false
        },
        "id": "ApIsa8n3bb16"
      },
      "execution_count": 9,
      "outputs": []
    },
    {
      "cell_type": "markdown",
      "source": [
        "Just like before, we must scale and normalize the data."
      ],
      "metadata": {
        "id": "mcaRZZxfbb17"
      }
    },
    {
      "cell_type": "code",
      "source": [
        "from sklearn import preprocessing\n",
        "scaler = preprocessing.RobustScaler()\n",
        "X_scaled = scaler.fit_transform(X)\n",
        "X_scaled = pd.DataFrame(X_scaled,columns=list(X.columns.values))\n",
        "print(X_scaled.shape)\n",
        "print(scaler)"
      ],
      "metadata": {
        "jupyter": {
          "outputs_hidden": false
        },
        "id": "36r0idqcbb17",
        "outputId": "ce96c454-dd53-464b-9a6f-f7f84e70e4c6",
        "colab": {
          "base_uri": "https://localhost:8080/"
        }
      },
      "execution_count": 10,
      "outputs": [
        {
          "output_type": "stream",
          "name": "stdout",
          "text": [
            "(4238, 15)\n",
            "RobustScaler()\n"
          ]
        }
      ]
    },
    {
      "cell_type": "code",
      "source": [
        "X = X_scaled"
      ],
      "metadata": {
        "jupyter": {
          "outputs_hidden": false
        },
        "id": "qKALPBeWbb17"
      },
      "execution_count": 11,
      "outputs": []
    },
    {
      "cell_type": "code",
      "source": [
        "X = X.to_numpy()\n",
        "y = y.to_numpy()\n",
        "y = y.reshape((len(y),1))\n",
        "n = X.shape[1]+1"
      ],
      "metadata": {
        "jupyter": {
          "outputs_hidden": false
        },
        "id": "M76MSXvKbb17"
      },
      "execution_count": 12,
      "outputs": []
    },
    {
      "cell_type": "markdown",
      "source": [
        "This specific algorithm for SVM works only when $y \\in \\{1,-1\\}$, so we need to change all the 0s in y to -1s. And for X, we need to add a column as well."
      ],
      "metadata": {
        "id": "XhQjG7vTbb17"
      }
    },
    {
      "cell_type": "code",
      "source": [
        "y = np.where(y==0,-1.,1.)"
      ],
      "metadata": {
        "jupyter": {
          "outputs_hidden": false
        },
        "id": "lysHXlp0bb17"
      },
      "execution_count": 13,
      "outputs": []
    },
    {
      "cell_type": "code",
      "source": [
        "X_b = np.c_[np.ones((len(X),1)),X]\n",
        "theta = np.random.random((n,1))"
      ],
      "metadata": {
        "jupyter": {
          "outputs_hidden": false
        },
        "id": "gdJfHrMQbb18"
      },
      "execution_count": 14,
      "outputs": []
    },
    {
      "cell_type": "markdown",
      "source": [
        "### Function Preparation"
      ],
      "metadata": {
        "id": "pfdxued4bb18"
      }
    },
    {
      "cell_type": "markdown",
      "source": [
        "In SVM, the cost function has changed, and of which hinge loss defined below is important for maximum-margin classification. It means, if correctly classfied, the loss is 0.\n",
        "<br>To compute the cost, we keep the constant $m$ here and still use $\\lambda$($\\frac{1}{C}$), so the cost is $cost\\ =\\ \\frac{\\lambda}{2m}\\sum_j\\theta_j^2+\\frac{1}{m}L$ , where $L$ denotes the loss function and here we take hinge loss."
      ],
      "metadata": {
        "id": "5gsQDbgvbb19"
      }
    },
    {
      "cell_type": "code",
      "source": [
        "def hinge(X,y,theta):                        #for maximum-margin classification\n",
        "    pred = 1 - np.multiply(y,(X.dot(theta)))\n",
        "    loss = np.maximum(np.zeros(pred.shape),pred)\n",
        "    hinge = np.sum(loss)\n",
        "    return hinge\n",
        "\n",
        "def computeCost(X,y,theta,reg=0):\n",
        "    m = float(len(y))\n",
        "    theta2 = np.square(theta)\n",
        "    cost = (reg/(2*m)) * np.sum(theta2) + (1/m) * hinge(X,y,theta)\n",
        "    return cost"
      ],
      "metadata": {
        "jupyter": {
          "outputs_hidden": false
        },
        "id": "k7rO5zTRbb19"
      },
      "execution_count": 15,
      "outputs": []
    },
    {
      "cell_type": "markdown",
      "source": [
        "When we are trying to optimize $\\theta$s, however, since the hinge function is not differentiable, instead of the derivative, the gradient descent will use the sub-derivative instead. The sub-derivative can be thought of as a generalization of the derivative and can be appplied to certain types of undifferentiable functions. In practice it looks like taking the derivative term-by-term，and $\\alpha$ is designed to control the lenghth of each step.\n",
        "\n",
        "<br>For details of subgradient:<br>While\n",
        "$$\n",
        "hinge\\ loss =max(0,1-y(X.\\theta))\n",
        "$$\n",
        "so for subgradient:<br>when$\\ $   $y(X.\\theta)<1$, it is ($\\lambda\\theta-yx$), or else, it is ($\\lambda\\theta$).\n",
        "<br>After each step, $\\theta_i+1=\\theta_i-\\alpha*subgradient$\n",
        "<br><br>The difference with the gradient descent algorithm is that the sub-gradient algorithm is not a descent algorithm. Each time the parameter update does not guarantee that the cost function is monotonically decreasing. This will be shown in the figue below."
      ],
      "metadata": {
        "id": "aRRkVDi0bb19"
      }
    },
    {
      "cell_type": "code",
      "source": [
        "def check(X,y,theta):\n",
        "    X_b = np.c_[np.ones((len(X),1)),X]\n",
        "\n",
        "    fx = np.multiply(y,(X_b.dot(theta)))\n",
        "\n",
        "    check = np.less(fx,np.ones(fx.shape))\n",
        "\n",
        "    check = np.where(check==True,1,0)\n",
        "\n",
        "    return check\n",
        "\n",
        "def subgradient_descent(X,y,theta,iterations=100,reg=0):\n",
        "    '''\n",
        "    X    = Matrix of X\n",
        "    y    = Vector of Y\n",
        "    theta=Vector of thetas np.random.randn(j,1)\n",
        "    iterations = no of iterations\n",
        "\n",
        "    Returns the final theta vector and array of cost history over no of iterations\n",
        "    '''\n",
        "    m = float(y.shape[0])\n",
        "\n",
        "    X_b = np.c_[np.ones((len(X),1)),X]\n",
        "\n",
        "    cost_history = np.zeros(iterations)\n",
        "\n",
        "    theta_history = np.zeros((iterations,X_b.shape[1]))\n",
        "\n",
        "    for it in range(iterations):\n",
        "        alpha = 1/(reg*(it+1))\n",
        "        #print(X_b.shape)\n",
        "        #print(X_b.dot(theta).shape)\n",
        "        #print(np.multiply(y,(X_b.dot(theta))).shape)\n",
        "        #print(y.shape)\n",
        "        theta = theta + alpha*((np.multiply(check(X,y,theta),y)).T.dot(X_b)).T\n",
        "        theta[1:] = theta[1:] - alpha*reg*theta[1:]\n",
        "        theta_history[it,:] = theta.T\n",
        "        cost_history[it]  = computeCost(X_b,y,theta,reg)\n",
        "\n",
        "    return theta, cost_history, theta_history"
      ],
      "metadata": {
        "jupyter": {
          "outputs_hidden": false
        },
        "id": "RqgemzsMbb1-"
      },
      "execution_count": 16,
      "outputs": []
    },
    {
      "cell_type": "markdown",
      "source": [
        "### Implementation"
      ],
      "metadata": {
        "id": "NlhTkGesbb1-"
      }
    },
    {
      "cell_type": "code",
      "source": [
        "reg = 1\n",
        "n_iter = 20000\n",
        "theta,cost_history,theta_history = subgradient_descent(X,y,theta,n_iter,reg)\n",
        "print(theta)"
      ],
      "metadata": {
        "jupyter": {
          "outputs_hidden": false
        },
        "id": "_imq7J76bb1-",
        "outputId": "226a27db-ba91-4ab8-9e05-e68240d16283",
        "colab": {
          "base_uri": "https://localhost:8080/"
        }
      },
      "execution_count": 17,
      "outputs": [
        {
          "output_type": "stream",
          "name": "stdout",
          "text": [
            "[[-1.08363613e+00]\n",
            " [ 7.70104045e-03]\n",
            " [ 2.35312750e-02]\n",
            " [-5.46405277e-02]\n",
            " [-1.49756021e-04]\n",
            " [-7.12516224e-03]\n",
            " [-6.52354001e-02]\n",
            " [ 1.02181699e-01]\n",
            " [-7.40536540e-03]\n",
            " [ 6.24059556e-02]\n",
            " [-2.47941700e-04]\n",
            " [ 2.31387798e-02]\n",
            " [-1.53658454e-02]\n",
            " [ 1.74019247e-03]\n",
            " [-5.95379093e-03]\n",
            " [-8.89322925e-03]]\n"
          ]
        }
      ]
    },
    {
      "cell_type": "markdown",
      "source": [
        "To have a better view of the cost_history, a plot of cost starting from 2000th iteration is also shown here."
      ],
      "metadata": {
        "id": "4odkvgDSbb1-"
      }
    },
    {
      "cell_type": "code",
      "source": [
        "import matplotlib.pyplot as plt\n",
        "plt.subplot(211)\n",
        "plt.plot(cost_history)\n",
        "plt.ylabel(\"$J(\\Theta)$\")\n",
        "plt.title(\"Cost function using Subgradient Descent with Regularization\")\n",
        "plt.subplot(212)\n",
        "x2=list(range(2000,20000,1))\n",
        "plt.plot(x2,cost_history[2000:],label='cost_history after 2000 iterations')\n",
        "plt.xlabel(\"Iteration\")\n",
        "plt.ylabel(\"$J(\\Theta)$\")\n",
        "plt.legend()\n",
        "plt.show()"
      ],
      "metadata": {
        "jupyter": {
          "outputs_hidden": false
        },
        "id": "_EIleMj1bb1_",
        "outputId": "56c1a742-0ade-4abd-9f3a-dd892a35aae2",
        "colab": {
          "base_uri": "https://localhost:8080/",
          "height": 472
        }
      },
      "execution_count": 18,
      "outputs": [
        {
          "output_type": "display_data",
          "data": {
            "text/plain": [
              "<Figure size 640x480 with 2 Axes>"
            ],
            "image/png": "[encoded data removed]"
          },
          "metadata": {}
        }
      ]
    },
    {
      "cell_type": "code",
      "source": [
        "print('Final Cost is :', cost_history[-1])"
      ],
      "metadata": {
        "jupyter": {
          "outputs_hidden": false
        },
        "id": "kz3-AOK0bb1_",
        "outputId": "6bde7f8f-7316-45fe-ae9c-1b59781e8424",
        "colab": {
          "base_uri": "https://localhost:8080/"
        }
      },
      "execution_count": 19,
      "outputs": [
        {
          "output_type": "stream",
          "name": "stdout",
          "text": [
            "Final Cost is : 0.3237457701067996\n"
          ]
        }
      ]
    },
    {
      "cell_type": "markdown",
      "source": [
        "As we mentioned above, the figure of cost_history after 2000 iterations showed exactly that subgradient method is not monotonically decreasing."
      ],
      "metadata": {
        "id": "OVwRyqwPbb1_"
      }
    },
    {
      "cell_type": "markdown",
      "source": [
        "Compared with the result in logistic regression, SVM is better in this binary classification case."
      ],
      "metadata": {
        "id": "17TWuFYsbb2A"
      }
    },
    {
      "cell_type": "markdown",
      "source": [
        "## Example 3"
      ],
      "metadata": {
        "id": "zvYx6VmEbb2A"
      }
    },
    {
      "cell_type": "markdown",
      "source": [
        "With the same data, we still want to look at the decision boundary.\n",
        "    <br>Data source:https://www.kaggle.com/chadansharma/logistic-regression-practice"
      ],
      "metadata": {
        "id": "YppzFUjkbb2A"
      }
    },
    {
      "cell_type": "markdown",
      "source": [
        "### Data Preparation"
      ],
      "metadata": {
        "id": "PSsREszabb2A"
      }
    },
    {
      "cell_type": "code",
      "source": [
        "import pandas as pd\n",
        "from pandas import DataFrame\n",
        "import numpy as np\n",
        "import random\n",
        "\n",
        "df = pd.read_csv(\"/content/PHYS3151-Machine-Learning-in-Physics-2025/support-vector-machine/support-vector-machine-example-3.csv\", sep=\",\")\n",
        "\n",
        "df = df.apply(lambda x: x.fillna(random.choice(x.dropna())), axis=1)\n",
        "\n",
        "print(df)"
      ],
      "metadata": {
        "scrolled": true,
        "jupyter": {
          "outputs_hidden": false
        },
        "trusted": true,
        "id": "cndkUluvbb2A",
        "outputId": "cdf63519-3ffa-4e67-a656-c53a74148dcd",
        "colab": {
          "base_uri": "https://localhost:8080/"
        }
      },
      "execution_count": 20,
      "outputs": [
        {
          "output_type": "stream",
          "name": "stdout",
          "text": [
            "     1st_exam   2nd_exam  admitted\n",
            "0   34.623660  78.024693       0.0\n",
            "1   30.286711  43.894998       0.0\n",
            "2   35.847409  72.902198       0.0\n",
            "3   60.182599  86.308552       1.0\n",
            "4   79.032736  75.344376       1.0\n",
            "..        ...        ...       ...\n",
            "95  83.489163  48.380286       1.0\n",
            "96  42.261701  87.103851       1.0\n",
            "97  99.315009  68.775409       1.0\n",
            "98  55.340018  64.931938       1.0\n",
            "99  74.775893  89.529813       1.0\n",
            "\n",
            "[100 rows x 3 columns]\n"
          ]
        },
        {
          "output_type": "stream",
          "name": "stderr",
          "text": [
            "/usr/lib/python3.11/random.py:374: FutureWarning: Series.__getitem__ treating keys as positions is deprecated. In a future version, integer keys will always be treated as labels (consistent with DataFrame behavior). To access a value by position, use `ser.iloc[pos]`\n",
            "  return seq[self._randbelow(len(seq))]\n"
          ]
        }
      ]
    },
    {
      "cell_type": "markdown",
      "source": [
        "Set design matrix and target vector."
      ],
      "metadata": {
        "id": "oKWbNQKGbb2A"
      }
    },
    {
      "cell_type": "code",
      "source": [
        "X = df.drop(columns=['admitted'])\n",
        "y = df['admitted']"
      ],
      "metadata": {
        "jupyter": {
          "outputs_hidden": false
        },
        "id": "i2E_W2Nrbb2A"
      },
      "execution_count": 21,
      "outputs": []
    },
    {
      "cell_type": "markdown",
      "source": [
        "Likewise, we continue to do feature scaling."
      ],
      "metadata": {
        "id": "-Nb9lFk7bb2A"
      }
    },
    {
      "cell_type": "code",
      "source": [
        "from sklearn import preprocessing\n",
        "scaler = preprocessing.RobustScaler()\n",
        "X_scaled = scaler.fit_transform(X)\n",
        "X_scaled = pd.DataFrame(X_scaled,columns=list(X.columns.values))\n",
        "print(X_scaled.shape)\n",
        "print(scaler)"
      ],
      "metadata": {
        "jupyter": {
          "outputs_hidden": false
        },
        "id": "nc2KAzqSbb2A",
        "outputId": "cd199f6b-6633-4e76-e74c-d3631d02bcc5",
        "colab": {
          "base_uri": "https://localhost:8080/"
        }
      },
      "execution_count": 22,
      "outputs": [
        {
          "output_type": "stream",
          "name": "stdout",
          "text": [
            "(100, 2)\n",
            "RobustScaler()\n"
          ]
        }
      ]
    },
    {
      "cell_type": "code",
      "source": [
        "X = X_scaled"
      ],
      "metadata": {
        "jupyter": {
          "outputs_hidden": false
        },
        "id": "F6Vxl3vPbb2A"
      },
      "execution_count": 23,
      "outputs": []
    },
    {
      "cell_type": "code",
      "source": [
        "X = X.to_numpy()\n",
        "y = y.to_numpy()\n",
        "y = y.reshape((len(y),1))\n",
        "n = X.shape[1]+1"
      ],
      "metadata": {
        "jupyter": {
          "outputs_hidden": false
        },
        "id": "EpoTlNyPbb2B"
      },
      "execution_count": 24,
      "outputs": []
    },
    {
      "cell_type": "markdown",
      "source": [
        "This specific algorithm for SVM works only when $y \\in \\{1,-1\\}$, so we need to change all the 0s in y to -1s. And for X, we need to add a column as well."
      ],
      "metadata": {
        "id": "JPdLwKr7bb2B"
      }
    },
    {
      "cell_type": "code",
      "source": [
        "y = np.where(y==0,-1.,1.)"
      ],
      "metadata": {
        "jupyter": {
          "outputs_hidden": false
        },
        "id": "8Y63nHh-bb2B"
      },
      "execution_count": 25,
      "outputs": []
    },
    {
      "cell_type": "code",
      "source": [
        "X_b = np.c_[np.ones((len(X),1)),X]\n",
        "theta = np.random.random((n,1))"
      ],
      "metadata": {
        "jupyter": {
          "outputs_hidden": false
        },
        "id": "WLhZ-mG2bb2B"
      },
      "execution_count": 26,
      "outputs": []
    },
    {
      "cell_type": "markdown",
      "source": [
        "### Function Preparation"
      ],
      "metadata": {
        "id": "_uND_6UKbb2B"
      }
    },
    {
      "cell_type": "markdown",
      "source": [
        "As introduced above, we define the functions for cost and subgradient descent."
      ],
      "metadata": {
        "id": "oCzCgEoNbb2B"
      }
    },
    {
      "cell_type": "code",
      "source": [
        "def hinge(X,y,theta):                        #for maximum-margin classification\n",
        "    pred = 1 - np.multiply(y,(X.dot(theta)))\n",
        "    loss = np.maximum(np.zeros(pred.shape),pred)\n",
        "    hinge = np.sum(loss)\n",
        "    return hinge\n",
        "\n",
        "def computeCost(X,y,theta,reg=0):\n",
        "    m = float(len(y))\n",
        "    theta2 = np.square(theta)\n",
        "    cost = (reg/(2*m)) * np.sum(theta2) + (1/m) * hinge(X,y,theta)\n",
        "    return cost"
      ],
      "metadata": {
        "jupyter": {
          "outputs_hidden": false
        },
        "id": "XwtSx_cKbb2B"
      },
      "execution_count": 27,
      "outputs": []
    },
    {
      "cell_type": "code",
      "source": [
        "def check(X,y,theta):\n",
        "    X_b = np.c_[np.ones((len(X),1)),X]\n",
        "\n",
        "    fx = np.multiply(y,(X_b.dot(theta)))\n",
        "\n",
        "    check = np.less(fx,np.ones(fx.shape))\n",
        "\n",
        "    check = np.where(check==True,1,0)\n",
        "\n",
        "    return check\n",
        "\n",
        "def subgradient_descent(X,y,theta,iterations=100,reg=0):\n",
        "    '''\n",
        "    X    = Matrix of X\n",
        "    y    = Vector of Y\n",
        "    theta=Vector of thetas np.random.randn(j,1)\n",
        "    alpha\n",
        "    iterations = no of iterations\n",
        "\n",
        "    Returns the final theta vector and array of cost history over no of iterations\n",
        "    '''\n",
        "    m = float(y.shape[0])\n",
        "\n",
        "    X_b = np.c_[np.ones((len(X),1)),X]\n",
        "\n",
        "    cost_history = np.zeros(iterations)\n",
        "\n",
        "    theta_history = np.zeros((iterations,X_b.shape[1]))\n",
        "\n",
        "    for it in range(iterations):\n",
        "        alpha = 1/(reg*(it+1))\n",
        "        #print(X_b.shape)\n",
        "        #print(X_b.dot(theta).shape)\n",
        "        #print(np.multiply(y,(X_b.dot(theta))).shape)\n",
        "        #print(y.shape)\n",
        "        theta = theta + alpha*((np.multiply(check(X,y,theta),y)).T.dot(X_b)).T\n",
        "        theta[1:] = theta[1:] - alpha*reg*theta[1:]\n",
        "        theta_history[it,:] = theta.T\n",
        "        cost_history[it]  = computeCost(X_b,y,theta,reg)\n",
        "\n",
        "    return theta, cost_history, theta_history"
      ],
      "metadata": {
        "jupyter": {
          "outputs_hidden": false
        },
        "id": "Lw5sz6A2bb2B"
      },
      "execution_count": 28,
      "outputs": []
    },
    {
      "cell_type": "markdown",
      "source": [
        "### Implementation"
      ],
      "metadata": {
        "id": "wEoEAs22bb2B"
      }
    },
    {
      "cell_type": "code",
      "source": [
        "reg = 1\n",
        "n_iter = 20000\n",
        "theta,cost_history,theta_history = subgradient_descent(X,y,theta,n_iter,reg)\n",
        "print(theta)"
      ],
      "metadata": {
        "jupyter": {
          "outputs_hidden": false
        },
        "id": "QvxNFbdAbb2B",
        "outputId": "663c422a-bba6-4d55-b5b8-9a8c4a3f45f5",
        "colab": {
          "base_uri": "https://localhost:8080/"
        }
      },
      "execution_count": 29,
      "outputs": [
        {
          "output_type": "stream",
          "name": "stdout",
          "text": [
            "[[1.05154902]\n",
            " [2.53385046]\n",
            " [2.38280151]]\n"
          ]
        }
      ]
    },
    {
      "cell_type": "markdown",
      "source": [
        "### Decision Boundary"
      ],
      "metadata": {
        "id": "TAyRd1o_bb2B"
      }
    },
    {
      "cell_type": "markdown",
      "source": [
        "To distinguish whether the points signify admitted or not, separate the dataset into two subsets."
      ],
      "metadata": {
        "id": "myWmxCT5bb2B"
      }
    },
    {
      "cell_type": "code",
      "source": [
        "#y=1 admitted(yes)\n",
        "yes_x=[]\n",
        "yes_y=[]\n",
        "#y=0 not admitted(no)\n",
        "no_x=[]\n",
        "no_y=[]\n",
        "for i in range(0,100):\n",
        "    if y[i]== -1:\n",
        "        dis=(theta[1]*X_b[i][1]+theta[2]*X_b[i][2]+theta[0])/np.sqrt(np.square(theta[1])+np.square(theta[2]))\n",
        "        if dis <= -0.:\n",
        "            no_x.append(X_b[i][1])\n",
        "            no_y.append(X_b[i][2])\n",
        "    else:\n",
        "        dis=abs(theta[1]*X_b[i][1]+theta[2]*X_b[i][2]+theta[0])/np.sqrt(np.square(theta[1])+np.square(theta[2]))\n",
        "        if dis >= 0.:\n",
        "            yes_x.append(X_b[i][1])\n",
        "            yes_y.append(X_b[i][2])"
      ],
      "metadata": {
        "jupyter": {
          "outputs_hidden": false
        },
        "id": "T5gXARSibb2B"
      },
      "execution_count": 30,
      "outputs": []
    },
    {
      "cell_type": "markdown",
      "source": [
        "Different from that of logistic regression, we plot 3 lines here to clearly show the maximum margin of SVM."
      ],
      "metadata": {
        "id": "mhD66lPHbb2C"
      }
    },
    {
      "cell_type": "code",
      "source": [
        "plt.figure(figsize=(8,5))\n",
        "plt.xlabel('1st Exam(Scaled)')\n",
        "plt.ylabel('2nd Exam(Scaled)')\n",
        "plt.title('Decision Boundary')\n",
        "x=np.arange(-1,1,0.01)\n",
        "y1=(-theta[1]/theta[2])*x+(-theta[0]/theta[2])#=0\n",
        "y2=(-theta[1]/theta[2])*x+((-theta[0]-1)/theta[2])#=-1\n",
        "y3=(-theta[1]/theta[2])*x+((-theta[0]+1)/theta[2])#=1\n",
        "plt.plot(x,y1,label=r'$\\theta$X=0',color='yellow' )\n",
        "plt.plot(x,y2,label=r'$\\theta$X=-1',linestyle='--',color='gray' )\n",
        "plt.plot(x,y3,label=r'$\\theta$X=1',linestyle='--' ,color='green')\n",
        "plt.scatter(yes_x,yes_y,label='Admitted')\n",
        "plt.scatter(no_x,no_y,label='Not Admitted')\n",
        "plt.legend()"
      ],
      "metadata": {
        "jupyter": {
          "outputs_hidden": false
        },
        "id": "9NmYBPTrbb2C",
        "outputId": "24a0fa36-7685-46c1-a2c1-9c197cf9fdde",
        "colab": {
          "base_uri": "https://localhost:8080/",
          "height": 505
        }
      },
      "execution_count": 31,
      "outputs": [
        {
          "output_type": "execute_result",
          "data": {
            "text/plain": [
              "<matplotlib.legend.Legend at 0x789a48d11310>"
            ]
          },
          "metadata": {},
          "execution_count": 31
        },
        {
          "output_type": "display_data",
          "data": {
            "text/plain": [
              "<Figure size 800x500 with 1 Axes>"
            ],
            "image/png": "[encoded data removed]"
          },
          "metadata": {}
        }
      ]
    },
    {
      "cell_type": "markdown",
      "source": [
        "## Example 4"
      ],
      "metadata": {
        "id": "iGwc_GBqbb2C"
      }
    },
    {
      "cell_type": "markdown",
      "source": [
        "As the data in example 3 is not that optimal to observe the decision boundary, in this example, we try to design some better data to show how decision boundary works in SVM. Assume that according to two features, the results are split into two groups: type 1 and type 2."
      ],
      "metadata": {
        "id": "28ldakNsbb2C"
      }
    },
    {
      "cell_type": "markdown",
      "source": [
        "### Data Preparation"
      ],
      "metadata": {
        "id": "1-ZvZVwsbb2C"
      }
    },
    {
      "cell_type": "markdown",
      "source": [
        "First, prepare the data as we want."
      ],
      "metadata": {
        "id": "JImeGVBebb2C"
      }
    },
    {
      "cell_type": "code",
      "source": [
        "X=np.zeros([200,2])\n",
        "y=np.zeros(200)\n",
        "for i in range(0,100):\n",
        "    rx=500*(np.random.rand())+100\n",
        "    X[i][0]=rx\n",
        "    ry=500-rx+(np.random.rand())*2000\n",
        "    X[i][1]=ry\n",
        "    y[i]=1\n",
        "for i in range(100,200):\n",
        "    rx=-500*(np.random.rand())-100\n",
        "    X[i][0]=rx\n",
        "    ry=-(500-rx+(np.random.rand())*2000)\n",
        "    X[i][1]=ry\n",
        "    y[i]=-1\n",
        "print(type(X))"
      ],
      "metadata": {
        "jupyter": {
          "outputs_hidden": false
        },
        "id": "9uQRFYkXbb2C",
        "outputId": "e2f2a94e-0fed-41dc-e74d-3b75beaa227c",
        "colab": {
          "base_uri": "https://localhost:8080/"
        }
      },
      "execution_count": 32,
      "outputs": [
        {
          "output_type": "stream",
          "name": "stdout",
          "text": [
            "<class 'numpy.ndarray'>\n"
          ]
        }
      ]
    },
    {
      "cell_type": "markdown",
      "source": [
        "### Data Preprocessing"
      ],
      "metadata": {
        "id": "Y1MqvK-Fbb2C"
      }
    },
    {
      "cell_type": "markdown",
      "source": [
        "Then we do feature scaling."
      ],
      "metadata": {
        "id": "YQwYRgubbb2C"
      }
    },
    {
      "cell_type": "code",
      "source": [
        "from sklearn import preprocessing\n",
        "scaler = preprocessing.RobustScaler()\n",
        "X_scaled = scaler.fit_transform(X)\n",
        "#X_scaled = pd.DataFrame(X_scaled,columns=list(X.columns.values))\n",
        "X=X_scaled\n",
        "y = y.reshape((len(y),1))\n",
        "X_b = np.c_[np.ones((len(X),1)),X]\n",
        "n=X_b.shape[1]\n",
        "theta = np.random.random((n,1))"
      ],
      "metadata": {
        "jupyter": {
          "outputs_hidden": false
        },
        "id": "Z-IUv1lZbb2C"
      },
      "execution_count": 33,
      "outputs": []
    },
    {
      "cell_type": "markdown",
      "source": [
        "### Function Definition"
      ],
      "metadata": {
        "id": "eBQkcQBRbb2C"
      }
    },
    {
      "cell_type": "markdown",
      "source": [
        "We define the functions of SVM the same sa before, where we have explained in detail."
      ],
      "metadata": {
        "id": "W_zd5N9Nbb2C"
      }
    },
    {
      "cell_type": "code",
      "source": [
        "def hinge(X,y,theta):                        #for maximum-margin classification\n",
        "    pred = 1 - np.multiply(y,(X.dot(theta)))\n",
        "    loss = np.maximum(np.zeros(pred.shape),pred)\n",
        "    hinge = np.sum(loss)\n",
        "    return hinge\n",
        "\n",
        "def computeCost(X,y,theta,reg=0):\n",
        "    m = float(len(y))\n",
        "    theta2 = np.square(theta)\n",
        "    reg =0\n",
        "    cost = (reg/(2*m)) * np.sum(theta2) + (1/m) * hinge(X,y,theta)\n",
        "    return cost"
      ],
      "metadata": {
        "jupyter": {
          "outputs_hidden": false
        },
        "id": "TrMY1qfQbb2C"
      },
      "execution_count": 34,
      "outputs": []
    },
    {
      "cell_type": "code",
      "source": [
        "def check(X,y,theta):\n",
        "    X_b = np.c_[np.ones((len(X),1)),X]\n",
        "\n",
        "    fx = np.multiply(y,(X_b.dot(theta)))\n",
        "\n",
        "    check = np.less(fx,np.ones(fx.shape))\n",
        "\n",
        "    check = np.where(check==True,1,0)\n",
        "\n",
        "    return check\n",
        "\n",
        "def subgradient_descent(X,y,theta,iterations=1000,reg2=1):\n",
        "    '''\n",
        "    X    = Matrix of X\n",
        "    y    = Vector of Y\n",
        "    theta=Vector of thetas np.random.randn(j,1)\n",
        "    iterations = no of iterations\n",
        "\n",
        "    Returns the final theta vector and array of cost history over no of iterations\n",
        "    '''\n",
        "    m = float(y.shape[0])\n",
        "\n",
        "    X_b = np.c_[np.ones((len(X),1)),X]\n",
        "\n",
        "    cost_history = np.zeros(iterations)\n",
        "\n",
        "    theta_history = np.zeros((iterations,X_b.shape[1]))\n",
        "\n",
        "    for it in range(iterations):\n",
        "        alpha = 1/(reg2*(it+1))\n",
        "        #print(X_b.shape)\n",
        "        #print(X_b.dot(theta).shape)\n",
        "        #print(np.multiply(y,(X_b.dot(theta))).shape)\n",
        "        #print(y.shape)\n",
        "        theta = theta + alpha*((np.multiply(check(X,y,theta),y)).T.dot(X_b)).T\n",
        "        theta[1:] = theta[1:] - alpha*reg2*theta[1:]\n",
        "        theta_history[it,:] = theta.T\n",
        "        cost_history[it]  = computeCost(X_b,y,theta,reg)\n",
        "\n",
        "    return theta, cost_history, theta_history"
      ],
      "metadata": {
        "jupyter": {
          "outputs_hidden": false
        },
        "id": "5_HKLSdKbb2D"
      },
      "execution_count": 35,
      "outputs": []
    },
    {
      "cell_type": "markdown",
      "source": [
        "### SVM Implementation"
      ],
      "metadata": {
        "id": "gfRSINWPbb2D"
      }
    },
    {
      "cell_type": "code",
      "source": [
        "reg2 = 1\n",
        "reg = 0\n",
        "n_iter = 50000\n",
        "theta,cost_history,theta_history = subgradient_descent(X,y,theta,n_iter,reg2)\n",
        "print(theta)"
      ],
      "metadata": {
        "jupyter": {
          "outputs_hidden": false
        },
        "id": "iItKc_Aybb2D",
        "outputId": "29318de0-5ebc-41ff-bfa4-977d880f1c54",
        "colab": {
          "base_uri": "https://localhost:8080/"
        }
      },
      "execution_count": 36,
      "outputs": [
        {
          "output_type": "stream",
          "name": "stdout",
          "text": [
            "[[-0.15768259]\n",
            " [ 1.80181575]\n",
            " [ 1.94617441]]\n"
          ]
        }
      ]
    },
    {
      "cell_type": "markdown",
      "source": [
        "Again, separate the data into two groups according to the result type."
      ],
      "metadata": {
        "id": "DKQuwbPBbb2D"
      }
    },
    {
      "cell_type": "code",
      "source": [
        "#y=1 admitted(yes)\n",
        "yes_x=[]\n",
        "yes_y=[]\n",
        "#y=0 not admitted(no)\n",
        "no_x=[]\n",
        "no_y=[]\n",
        "for i in range(0,200):\n",
        "    if y[i]== -1:\n",
        "        no_x.append(X_b[i][1])\n",
        "        no_y.append(X_b[i][2])\n",
        "    else:\n",
        "        yes_x.append(X_b[i][1])\n",
        "        yes_y.append(X_b[i][2])"
      ],
      "metadata": {
        "jupyter": {
          "outputs_hidden": false
        },
        "id": "LK5J6Firbb2D"
      },
      "execution_count": 37,
      "outputs": []
    },
    {
      "cell_type": "markdown",
      "source": [
        "### Decision Boundary"
      ],
      "metadata": {
        "id": "HzoDBkQKbb2D"
      }
    },
    {
      "cell_type": "code",
      "source": [
        "plt.figure(figsize=(8,5))\n",
        "plt.xlabel('1st Exam(Scaled)')\n",
        "plt.ylabel('2nd Exam(Scaled)')\n",
        "plt.title('Decision Boundary')\n",
        "x=np.arange(-0.75,0.75,0.01)\n",
        "y1=(-theta[1]/theta[2])*x+(-theta[0]/theta[2])#=0\n",
        "y2=(-theta[1]/theta[2])*x+((-theta[0]-1)/theta[2])#=-1\n",
        "y3=(-theta[1]/theta[2])*x+((-theta[0]+1)/theta[2])#=1\n",
        "plt.plot(x,y1,label=r'$\\theta$X=0',color='yellow' )\n",
        "plt.plot(x,y2,label=r'$\\theta$X=-1',linestyle='--',color='gray' )\n",
        "plt.plot(x,y3,label=r'$\\theta$X=1',linestyle='--' ,color='green')\n",
        "plt.scatter(yes_x,yes_y,label='1st type')\n",
        "plt.scatter(no_x,no_y,label='2nd type')\n",
        "plt.legend()"
      ],
      "metadata": {
        "jupyter": {
          "outputs_hidden": false
        },
        "id": "CE443X8Dbb2D",
        "outputId": "1498f1b2-7e50-4335-a430-f8d47506a6a0",
        "colab": {
          "base_uri": "https://localhost:8080/",
          "height": 505
        }
      },
      "execution_count": 38,
      "outputs": [
        {
          "output_type": "execute_result",
          "data": {
            "text/plain": [
              "<matplotlib.legend.Legend at 0x789a476a93d0>"
            ]
          },
          "metadata": {},
          "execution_count": 38
        },
        {
          "output_type": "display_data",
          "data": {
            "text/plain": [
              "<Figure size 800x500 with 1 Axes>"
            ],
            "image/png": "[encoded data removed]"
          },
          "metadata": {}
        }
      ]
    },
    {
      "cell_type": "markdown",
      "source": [
        "Now we have got a clear view of how SVM make decision boundary with maximum margin"
      ],
      "metadata": {
        "id": "wERJXq-Nbb2D"
      }
    },
    {
      "cell_type": "code",
      "source": [
        "cost_history"
      ],
      "metadata": {
        "jupyter": {
          "outputs_hidden": false
        },
        "id": "rdJVubl2bb2D",
        "outputId": "270e035c-a01b-4401-d011-93eb0dd4c145",
        "colab": {
          "base_uri": "https://localhost:8080/"
        }
      },
      "execution_count": 39,
      "outputs": [
        {
          "output_type": "execute_result",
          "data": {
            "text/plain": [
              "array([1.        , 0.        , 0.        , ..., 0.00831091, 0.00831078,\n",
              "       0.00831084])"
            ]
          },
          "metadata": {},
          "execution_count": 39
        }
      ]
    },
    {
      "cell_type": "markdown",
      "source": [
        "We can see that the cost doesn't converge to 0. This may be due to the finite iterations of subgradient.  However it is stressed that, in SVM, any seperate data sets can be completely divided by the decesion boundary accompanied with two margins.  We will show this by multiply the trained parameter by a factor multiplier."
      ],
      "metadata": {
        "id": "H-8XnIOqbb2D"
      }
    },
    {
      "cell_type": "code",
      "source": [
        "multiplier=1.5\n",
        "theta=theta*multiplier\n",
        "print(theta)"
      ],
      "metadata": {
        "jupyter": {
          "outputs_hidden": false
        },
        "id": "0LifmmmMbb2E",
        "outputId": "460c7057-2cf9-48b9-f36d-73bb62e6b693",
        "colab": {
          "base_uri": "https://localhost:8080/"
        }
      },
      "execution_count": 40,
      "outputs": [
        {
          "output_type": "stream",
          "name": "stdout",
          "text": [
            "[[-0.23652388]\n",
            " [ 2.70272362]\n",
            " [ 2.91926162]]\n"
          ]
        }
      ]
    },
    {
      "cell_type": "code",
      "source": [
        "plt.figure(figsize=(8,5))\n",
        "plt.xlabel('1st Exam(Scaled)')\n",
        "plt.ylabel('2nd Exam(Scaled)')\n",
        "plt.title('Decision Boundary')\n",
        "x=np.arange(-0.75,0.75,0.01)\n",
        "y1=(-theta[1]/theta[2])*x+(-theta[0]/theta[2])#=0\n",
        "y2=(-theta[1]/theta[2])*x+((-theta[0]-1)/theta[2])#=-1\n",
        "y3=(-theta[1]/theta[2])*x+((-theta[0]+1)/theta[2])#=1\n",
        "plt.plot(x,y1,label=r'$\\theta$X=0',color='yellow' )\n",
        "plt.plot(x,y2,label=r'$\\theta$X=-1',linestyle='--',color='gray' )\n",
        "plt.plot(x,y3,label=r'$\\theta$X=1',linestyle='--' ,color='green')\n",
        "plt.scatter(yes_x,yes_y,label='1st type')\n",
        "plt.scatter(no_x,no_y,label='2nd type')\n",
        "plt.legend()"
      ],
      "metadata": {
        "jupyter": {
          "outputs_hidden": false
        },
        "id": "zU1Qu6Hmbb2E",
        "outputId": "90b6ae8b-47b0-4056-8b0f-4ea7139a4475",
        "colab": {
          "base_uri": "https://localhost:8080/",
          "height": 505
        }
      },
      "execution_count": 41,
      "outputs": [
        {
          "output_type": "execute_result",
          "data": {
            "text/plain": [
              "<matplotlib.legend.Legend at 0x789a476bf550>"
            ]
          },
          "metadata": {},
          "execution_count": 41
        },
        {
          "output_type": "display_data",
          "data": {
            "text/plain": [
              "<Figure size 800x500 with 1 Axes>"
            ],
            "image/png": "[encoded data removed]"
          },
          "metadata": {}
        }
      ]
    },
    {
      "cell_type": "markdown",
      "source": [
        "Then you can see that the dataset is completly seperated by the margins."
      ],
      "metadata": {
        "id": "ItmZbsHsbb2E"
      }
    }
  ]
}