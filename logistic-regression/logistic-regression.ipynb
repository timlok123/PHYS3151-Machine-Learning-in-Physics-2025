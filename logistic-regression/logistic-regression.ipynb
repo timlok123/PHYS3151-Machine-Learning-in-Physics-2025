{
  "metadata": {
    "kernelspec": {
      "name": "python3",
      "display_name": "Python 3",
      "language": "python"
    },
    "language_info": {
      "name": "python",
      "version": "3.7.3",
      "mimetype": "text/x-python",
      "codemirror_mode": {
        "name": "ipython",
        "version": 3
      },
      "pygments_lexer": "ipython3",
      "nbconvert_exporter": "python",
      "file_extension": ".py"
    },
    "colab": {
      "name": "logistic-regression.ipynb",
      "provenance": [],
      "include_colab_link": true
    }
  },
  "nbformat_minor": 0,
  "nbformat": 4,
  "cells": [
    {
      "cell_type": "markdown",
      "metadata": {
        "id": "view-in-github",
        "colab_type": "text"
      },
      "source": [
        "<a href=\"https://colab.research.google.com/github/DavidGoing/PHYS3151-Machine-Learning-in-Physics-2024/blob/main/logistic-regression/logistic-regression.ipynb\" target=\"_parent\"><img src=\"https://colab.research.google.com/assets/colab-badge.svg\" alt=\"Open In Colab\"/></a>"
      ]
    },
    {
      "cell_type": "markdown",
      "source": [
        "# Logistic Linear Regression"
      ],
      "metadata": {
        "id": "rrtZtPBIZqy8"
      }
    },
    {
      "cell_type": "markdown",
      "source": [
        "A few examples using logistic linear regression are provided below."
      ],
      "metadata": {
        "id": "-hKM8XxiZqzB"
      }
    },
    {
      "cell_type": "markdown",
      "source": [
        "## Example 1"
      ],
      "metadata": {
        "id": "NowP8hf1ZqzB"
      }
    },
    {
      "cell_type": "markdown",
      "source": [
        "Here we have a dataset comprising of diabetes data from the Pima Indian Diabetes Database.\n",
        "\n",
        "Data courtesy of Pima Indians Diabetes Database: 'National Institute of Diabetes and Digestive and Kidney Diseases'.\n",
        "\n",
        "Source link:https://www.kaggle.com/uciml/pima-indians-diabetes-database\n",
        "\n",
        "The objective of this data is to predict the chances of Diabetes from health parameters like glucose, blood pressure, etc. This data is all taken from Pima Indians females of over 21 years old."
      ],
      "metadata": {
        "id": "metb7Ji_ZqzB"
      }
    },
    {
      "cell_type": "markdown",
      "source": [
        "### Data Layer"
      ],
      "metadata": {
        "id": "cDU-rIlaZqzC"
      }
    },
    {
      "cell_type": "markdown",
      "source": [
        "Here, we have a quick view at part of the data."
      ],
      "metadata": {
        "id": "PPMUgOX2ZqzC"
      }
    },
    {
      "cell_type": "code",
      "source": [
        "import pandas as pd\n",
        "from pandas import DataFrame"
      ],
      "metadata": {
        "jupyter": {
          "outputs_hidden": false
        },
        "trusted": true,
        "id": "HbAYw2YxZqzD"
      },
      "execution_count": 5,
      "outputs": []
    },
    {
      "cell_type": "code",
      "source": [
        "!git clone https://github.com/DavidGoing/PHYS3151-Machine-Learning-in-Physics-2024"
      ],
      "metadata": {
        "id": "xFN4SRcGaGSG",
        "outputId": "73a066b3-43ad-49f5-91d5-2baed3b9bb25",
        "colab": {
          "base_uri": "https://localhost:8080/"
        }
      },
      "execution_count": 6,
      "outputs": [
        {
          "output_type": "stream",
          "name": "stdout",
          "text": [
            "fatal: destination path 'PHYS3151-Machine-Learning-in-Physics-2024' already exists and is not an empty directory.\n"
          ]
        }
      ]
    },
    {
      "cell_type": "code",
      "source": [
        "df = pd.read_csv(\"/content/PHYS3151-Machine-Learning-in-Physics-2024/logistic-regression/logistic-regression-example-1.csv\", sep=\",\")\n",
        "print (df.head(10).append(df.tail(10)))"
      ],
      "metadata": {
        "jupyter": {
          "outputs_hidden": false
        },
        "trusted": true,
        "id": "XRGHapsDZqzE",
        "outputId": "b3203ee6-de34-4f0b-9013-7c66f8e1dd57",
        "colab": {
          "base_uri": "https://localhost:8080/"
        }
      },
      "execution_count": 7,
      "outputs": [
        {
          "output_type": "stream",
          "name": "stdout",
          "text": [
            "     Pregnancies  Glucose  BloodPressure  SkinThickness  Insulin   BMI  \\\n",
            "0              6      148             72             35        0  33.6   \n",
            "1              1       85             66             29        0  26.6   \n",
            "2              8      183             64              0        0  23.3   \n",
            "3              1       89             66             23       94  28.1   \n",
            "4              0      137             40             35      168  43.1   \n",
            "5              5      116             74              0        0  25.6   \n",
            "6              3       78             50             32       88  31.0   \n",
            "7             10      115              0              0        0  35.3   \n",
            "8              2      197             70             45      543  30.5   \n",
            "9              8      125             96              0        0   0.0   \n",
            "758            1      106             76              0        0  37.5   \n",
            "759            6      190             92              0        0  35.5   \n",
            "760            2       88             58             26       16  28.4   \n",
            "761            9      170             74             31        0  44.0   \n",
            "762            9       89             62              0        0  22.5   \n",
            "763           10      101             76             48      180  32.9   \n",
            "764            2      122             70             27        0  36.8   \n",
            "765            5      121             72             23      112  26.2   \n",
            "766            1      126             60              0        0  30.1   \n",
            "767            1       93             70             31        0  30.4   \n",
            "\n",
            "     DiabetesPedigreeFunction  Age  Outcome  \n",
            "0                       0.627   50        1  \n",
            "1                       0.351   31        0  \n",
            "2                       0.672   32        1  \n",
            "3                       0.167   21        0  \n",
            "4                       2.288   33        1  \n",
            "5                       0.201   30        0  \n",
            "6                       0.248   26        1  \n",
            "7                       0.134   29        0  \n",
            "8                       0.158   53        1  \n",
            "9                       0.232   54        1  \n",
            "758                     0.197   26        0  \n",
            "759                     0.278   66        1  \n",
            "760                     0.766   22        0  \n",
            "761                     0.403   43        1  \n",
            "762                     0.142   33        0  \n",
            "763                     0.171   63        0  \n",
            "764                     0.340   27        0  \n",
            "765                     0.245   30        0  \n",
            "766                     0.349   47        1  \n",
            "767                     0.315   23        0  \n"
          ]
        },
        {
          "output_type": "stream",
          "name": "stderr",
          "text": [
            "<ipython-input-7-906f8e20ffa5>:2: FutureWarning: The frame.append method is deprecated and will be removed from pandas in a future version. Use pandas.concat instead.\n",
            "  print (df.head(10).append(df.tail(10)))\n"
          ]
        }
      ]
    },
    {
      "cell_type": "markdown",
      "source": [
        "Clearly datasets consist of several medical predictor (independent) variables and one target (dependent) variable, Outcome. Independent variables include the number of pregnancies the patient has had, their BMI, insulin level, age, and so on.\n",
        "\n",
        "  <br>Then, we can go on to to define the functions we need."
      ],
      "metadata": {
        "id": "OnLbsxShZqzF"
      }
    },
    {
      "cell_type": "markdown",
      "source": [
        "### Code Layer"
      ],
      "metadata": {
        "id": "pJnmu4UZZqzF"
      }
    },
    {
      "cell_type": "markdown",
      "source": [
        "For the representation of the hypothesis, we define <span style=\"border-bottom: dashed\">sigmoid function</span> :\n",
        "$$\n",
        "h_{\\theta}=\\frac{1}{1+e^{-\\theta^Tx}}\n",
        "$$\n",
        "Note that $\\theta^Tx$ can be non-linear.\n",
        "    <br> <span style=\"border-bottom: dashed\">Cost function</span> in logistic refression is defined as:\n",
        "$$\n",
        "J(\\theta)=\\frac{1}{m}\\sum_{i=1}^m-ylog(h_\\theta)-(1-y)log(1-h_\\theta),\n",
        "$$\n",
        "and still, we can use gradient descent to minimize it.\n",
        "    \n",
        "<br>In addition, we use <span style=\"border-bottom: dashed\">accuracy function</span> to see how well the algorithm works, which is defined as:\n",
        "$$\n",
        "Accuracy=\\frac{1}{m}\\sum_{i=1}^{m}\\delta_{predicted,real}\n",
        "$$"
      ],
      "metadata": {
        "id": "rFmoJRWoZqzG"
      }
    },
    {
      "cell_type": "code",
      "source": [
        "import numpy as np\n",
        "from scipy.optimize import fmin_tnc\n",
        "\n",
        "\n",
        "class LogisticRegressionUsingGD:\n",
        "\n",
        "# Activation function used to map any real value between 0 and 1\n",
        "    @staticmethod\n",
        "    def sigmoid(x):\n",
        "        return 1 / (1 + np.exp(-x))\n",
        "\n",
        "# Computes the weighted sum of inputs Similar to Linear Regression\n",
        "    @staticmethod\n",
        "    def net_input(theta, x):\n",
        "        return np.dot(x, theta)\n",
        "\n",
        "# Calculates the probability that an instance belongs to a particular class\n",
        "    def probability(self, theta, x):\n",
        "        return self.sigmoid(self.net_input(theta, x))\n",
        "\n",
        "# Computes the cost function for all the training samples\n",
        "    def cost_function(self, theta, x, y):\n",
        "        m = x.shape[0]\n",
        "        total_cost = -(1 / m) * np.sum(\n",
        "            y * np.log(self.probability(theta, x)) + (1 - y) * np.log(\n",
        "                1 - self.probability(theta, x)))\n",
        "        return total_cost\n",
        "\n",
        "# Computes the gradient of the cost function at the point theta\n",
        "    def gradient(self, theta, x, y):\n",
        "        m = x.shape[0]\n",
        "        return (1 / m) * np.dot(x.T, self.sigmoid(self.net_input(theta, x)) - y)\n",
        "\n",
        "    def fit(self, x, y, theta):\n",
        "        opt_weights = fmin_tnc(func=self.cost_function, x0=theta, fprime=self.gradient, args=(x, y.flatten()))\n",
        "        self.w_ = opt_weights[0]\n",
        "        return self\n",
        "\n",
        "    def predict(self, x):\n",
        "        theta = self.w_[:, np.newaxis]\n",
        "        return self.probability(theta, x)\n",
        "\n",
        "    def accuracy(self, x, actual_classes, probab_threshold=0.5):\n",
        "        predicted_classes = (self.predict(x) >= probab_threshold).astype(int)\n",
        "        predicted_classes = predicted_classes.flatten()\n",
        "        accuracy = np.mean(predicted_classes == actual_classes)\n",
        "        return accuracy * 100"
      ],
      "metadata": {
        "jupyter": {
          "outputs_hidden": false
        },
        "id": "mCkza3L7ZqzG"
      },
      "execution_count": 8,
      "outputs": []
    },
    {
      "cell_type": "markdown",
      "source": [
        "Now, we pick the features and outcome out of the initial data."
      ],
      "metadata": {
        "id": "x-mbv2xXZqzH"
      }
    },
    {
      "cell_type": "code",
      "source": [
        "import numpy as np\n",
        "import matplotlib.pyplot as plt\n",
        "import pandas as pd\n",
        "from sklearn.linear_model import LogisticRegression\n",
        "from sklearn.metrics import accuracy_score\n",
        "\n",
        "data = df"
      ],
      "metadata": {
        "jupyter": {
          "outputs_hidden": false
        },
        "id": "_KU7RTmqZqzI"
      },
      "execution_count": 9,
      "outputs": []
    },
    {
      "cell_type": "code",
      "source": [
        "X = data.iloc[:, :-1]        #features\n",
        "y = data.iloc[:, -1]         #outcome"
      ],
      "metadata": {
        "jupyter": {
          "outputs_hidden": false
        },
        "id": "uk42LnkEZqzI"
      },
      "execution_count": 10,
      "outputs": []
    },
    {
      "cell_type": "markdown",
      "source": [
        "Then we start prepare the data for fitting the model."
      ],
      "metadata": {
        "id": "9BWHguzvZqzI"
      }
    },
    {
      "cell_type": "code",
      "source": [
        "X = np.c_[np.ones((X.shape[0], 1)), X]    #we need x_0\n",
        "y = y.values.reshape((len(y),1))\n",
        "theta = np.zeros((X.shape[1], 1))"
      ],
      "metadata": {
        "jupyter": {
          "outputs_hidden": false
        },
        "id": "g_BSQSNXZqzJ"
      },
      "execution_count": 11,
      "outputs": []
    },
    {
      "cell_type": "markdown",
      "source": [
        "Implement the Logistic Regression algorithm."
      ],
      "metadata": {
        "id": "t9oxGFVXZqzJ"
      }
    },
    {
      "cell_type": "code",
      "source": [
        "model1 = LogisticRegressionUsingGD()\n",
        "model1.fit(X, y, theta)\n",
        "accuracy = model1.accuracy(X, y.flatten())\n",
        "parameters = model1.w_\n",
        "print(\"The accuracy of the model is {}\".format(accuracy))\n",
        "print(\"The model parameters got by Gradient descent:\")\n",
        "print(parameters)"
      ],
      "metadata": {
        "jupyter": {
          "outputs_hidden": false
        },
        "id": "tTiuBiMYZqzJ",
        "outputId": "800cd620-628f-4f54-d280-f4a21c143508",
        "colab": {
          "base_uri": "https://localhost:8080/"
        }
      },
      "execution_count": 12,
      "outputs": [
        {
          "output_type": "stream",
          "name": "stdout",
          "text": [
            "The accuracy of the model is 78.25520833333334\n",
            "The model parameters got by Gradient descent:\n",
            "[-8.33950666e+00  1.22992795e-01  3.49871049e-02 -1.33847683e-02\n",
            "  6.20495143e-04 -1.17722550e-03  8.89250124e-02  9.37136526e-01\n",
            "  1.46876967e-02]\n"
          ]
        }
      ]
    },
    {
      "cell_type": "markdown",
      "source": [
        "As the result turns out, the accuracy is not so high, but acceptable anyway."
      ],
      "metadata": {
        "id": "nHb6MVxbZqzK"
      }
    },
    {
      "cell_type": "markdown",
      "source": [
        "Alternatively, we can also use the prebuilt sklearn logistic regression package."
      ],
      "metadata": {
        "id": "mTSFGyGmZqzK"
      }
    },
    {
      "cell_type": "code",
      "source": [
        "model = LogisticRegression()\n",
        "model.fit(X, y)\n",
        "parameters = model.coef_\n",
        "predicted_classes = model.predict(X)\n",
        "accuracy = accuracy_score(y.flatten(),predicted_classes)\n",
        "print('The accuracy score using scikit-learn is {}'.format(accuracy))\n",
        "print(\"The model parameters from scikit learn:\")\n",
        "print(parameters)"
      ],
      "metadata": {
        "jupyter": {
          "outputs_hidden": false
        },
        "id": "Q5xauD84ZqzL",
        "outputId": "e11ac332-6093-4fd5-c9ca-3f59a8b7d4d4",
        "colab": {
          "base_uri": "https://localhost:8080/"
        }
      },
      "execution_count": 13,
      "outputs": [
        {
          "output_type": "stream",
          "name": "stdout",
          "text": [
            "The accuracy score using scikit-learn is 0.77734375\n",
            "The model parameters from scikit learn:\n",
            "[[-3.27488496e+00  1.21062313e-01  3.30765755e-02 -1.29519128e-02\n",
            "   4.09864825e-03 -1.39238346e-03  7.27109761e-02  1.01564921e+00\n",
            "   1.27580804e-02]]\n"
          ]
        },
        {
          "output_type": "stream",
          "name": "stderr",
          "text": [
            "/usr/local/lib/python3.10/dist-packages/sklearn/utils/validation.py:1143: DataConversionWarning: A column-vector y was passed when a 1d array was expected. Please change the shape of y to (n_samples, ), for example using ravel().\n",
            "  y = column_or_1d(y, warn=True)\n",
            "/usr/local/lib/python3.10/dist-packages/sklearn/linear_model/_logistic.py:458: ConvergenceWarning: lbfgs failed to converge (status=1):\n",
            "STOP: TOTAL NO. of ITERATIONS REACHED LIMIT.\n",
            "\n",
            "Increase the number of iterations (max_iter) or scale the data as shown in:\n",
            "    https://scikit-learn.org/stable/modules/preprocessing.html\n",
            "Please also refer to the documentation for alternative solver options:\n",
            "    https://scikit-learn.org/stable/modules/linear_model.html#logistic-regression\n",
            "  n_iter_i = _check_optimize_result(\n"
          ]
        }
      ]
    },
    {
      "cell_type": "markdown",
      "source": [
        "Note that the results from sklearn package are substancially different to the package written from scratch, this is because sklearn has a feature called 'regularization', which prevents the overfitting to the dataset. For overfitting, we will discuss it in the following example.\n",
        "<br><br>Since we've got the trained models, we want to use it to predict whether a person has diabetes.\n",
        "<br>Say if person A's conditions are: Pregnancies:6, Glucose:150, Blood Pressure:72, Skin thickness:36, Insulin：170， BMI:42，DiabetesPedigreeFunction:1, Age:51;\n",
        "<br>Person B: Pregnancies:0, Glucose:85, Blood Pressure:70, Skin thickness:24, Insulin:200， BMI:25，DiabetesPedigreeFunction:0.2, Age:25."
      ],
      "metadata": {
        "id": "HrEIPKYbZqzL"
      }
    },
    {
      "cell_type": "markdown",
      "source": [
        "### Prediction"
      ],
      "metadata": {
        "id": "PrZGziBWZqzL"
      }
    },
    {
      "cell_type": "code",
      "source": [
        "X1=[[1,6,150,72,36,170,42,1,51],[1,0,85,70,24,200,25,0.2,25]]\n",
        "print('The prediction of the first method:',model1.predict(X1))\n",
        "print('The prediction of the second method:',model.predict(X1))"
      ],
      "metadata": {
        "jupyter": {
          "outputs_hidden": false
        },
        "id": "RaJWdFRHZqzL",
        "outputId": "5a844df3-3d63-4936-87ae-8f40c6c5ce59",
        "colab": {
          "base_uri": "https://localhost:8080/"
        }
      },
      "execution_count": 14,
      "outputs": [
        {
          "output_type": "stream",
          "name": "stdout",
          "text": [
            "The prediction of the first method: [[0.87281508]\n",
            " [0.02308211]]\n",
            "The prediction of the second method: [1 0]\n"
          ]
        }
      ]
    },
    {
      "cell_type": "markdown",
      "source": [
        "The result turns out that person A has diabetes while B doesn't. Considering their conditions, the predictions make sense."
      ],
      "metadata": {
        "id": "tvr7WcRKZqzM"
      }
    },
    {
      "cell_type": "markdown",
      "source": [
        "## Example 2"
      ],
      "metadata": {
        "id": "iBUlKdttZqzM"
      }
    },
    {
      "cell_type": "markdown",
      "source": [
        "### Data Layer"
      ],
      "metadata": {
        "id": "emBvSBk9ZqzM"
      }
    },
    {
      "cell_type": "code",
      "source": [
        "import pandas as pd\n",
        "from pandas import DataFrame\n",
        "import numpy as np\n",
        "import random"
      ],
      "metadata": {
        "jupyter": {
          "outputs_hidden": false
        },
        "id": "6M2w4HyIZqzM"
      },
      "execution_count": 15,
      "outputs": []
    },
    {
      "cell_type": "markdown",
      "source": [
        "This time, we try to predict heart disease.\n",
        "<br>Data source: https://www.kaggle.com/amanajmera1/framingham-heart-study-dataset/data\n",
        "<br><br>We try to predict whether a given person will have a coronary heart disease in the next 10 years given various parameters like sex, age, eduction, blood pressure, BMI, etc."
      ],
      "metadata": {
        "id": "O43uya-EZqzN"
      }
    },
    {
      "cell_type": "markdown",
      "source": [
        "Given that there are some NaN (missing data) in the dataframe, they will be filled with data randomly chosen from other values of the same feature.\n",
        "    \n",
        "<br>Still, have a quick view of the data."
      ],
      "metadata": {
        "id": "999tBAQ9ZqzN"
      }
    },
    {
      "cell_type": "code",
      "source": [
        "df = pd.read_csv(\"/content/PHYS3151-Machine-Learning-in-Physics-2024/logistic-regression/logistic-regression-example-2.csv\", sep=\",\")\n",
        "\n",
        "#print(df)\n",
        "\n",
        "df = df.apply(lambda x: x.fillna(random.choice(x.dropna())), axis=1)\n",
        "print(df.head(10).append(df.tail(10))) #first 10 & last 10"
      ],
      "metadata": {
        "scrolled": true,
        "jupyter": {
          "outputs_hidden": false
        },
        "trusted": true,
        "id": "bI-b8FvVZqzN",
        "outputId": "600ad1f4-ec80-4b5b-e76d-3658a5ac7cc3",
        "colab": {
          "base_uri": "https://localhost:8080/"
        }
      },
      "execution_count": 16,
      "outputs": [
        {
          "output_type": "stream",
          "name": "stdout",
          "text": [
            "      male   age  education  currentSmoker  cigsPerDay  BPMeds  \\\n",
            "0      1.0  39.0        4.0            0.0         0.0     0.0   \n",
            "1      0.0  46.0        2.0            0.0         0.0     0.0   \n",
            "2      1.0  48.0        1.0            1.0        20.0     0.0   \n",
            "3      0.0  61.0        3.0            1.0        30.0     0.0   \n",
            "4      0.0  46.0        3.0            1.0        23.0     0.0   \n",
            "5      0.0  43.0        2.0            0.0         0.0     0.0   \n",
            "6      0.0  63.0        1.0            0.0         0.0     0.0   \n",
            "7      0.0  45.0        2.0            1.0        20.0     0.0   \n",
            "8      1.0  52.0        1.0            0.0         0.0     0.0   \n",
            "9      1.0  43.0        1.0            1.0        30.0     0.0   \n",
            "4228   0.0  50.0        1.0            0.0         0.0     0.0   \n",
            "4229   0.0  51.0        3.0            1.0        20.0     0.0   \n",
            "4230   0.0  56.0        1.0            1.0         3.0     0.0   \n",
            "4231   1.0  58.0        3.0            0.0         0.0     0.0   \n",
            "4232   1.0  68.0        1.0            0.0         0.0     0.0   \n",
            "4233   1.0  50.0        1.0            1.0         1.0     0.0   \n",
            "4234   1.0  51.0        3.0            1.0        43.0     0.0   \n",
            "4235   0.0  48.0        2.0            1.0        20.0     0.0   \n",
            "4236   0.0  44.0        1.0            1.0        15.0     0.0   \n",
            "4237   0.0  52.0        2.0            0.0         0.0     0.0   \n",
            "\n",
            "      prevalentStroke  prevalentHyp  diabetes  totChol  sysBP  diaBP    BMI  \\\n",
            "0                 0.0           0.0       0.0    195.0  106.0   70.0  26.97   \n",
            "1                 0.0           0.0       0.0    250.0  121.0   81.0  28.73   \n",
            "2                 0.0           0.0       0.0    245.0  127.5   80.0  25.34   \n",
            "3                 0.0           1.0       0.0    225.0  150.0   95.0  28.58   \n",
            "4                 0.0           0.0       0.0    285.0  130.0   84.0  23.10   \n",
            "5                 0.0           1.0       0.0    228.0  180.0  110.0  30.30   \n",
            "6                 0.0           0.0       0.0    205.0  138.0   71.0  33.11   \n",
            "7                 0.0           0.0       0.0    313.0  100.0   71.0  21.68   \n",
            "8                 0.0           1.0       0.0    260.0  141.5   89.0  26.36   \n",
            "9                 0.0           1.0       0.0    225.0  162.0  107.0  23.61   \n",
            "4228              0.0           1.0       1.0    260.0  190.0  130.0  43.67   \n",
            "4229              0.0           1.0       0.0    251.0  140.0   80.0  25.60   \n",
            "4230              0.0           1.0       0.0    268.0  170.0  102.0  22.89   \n",
            "4231              0.0           1.0       0.0    187.0  141.0   81.0  24.96   \n",
            "4232              0.0           1.0       0.0    176.0  168.0   97.0  23.14   \n",
            "4233              0.0           1.0       0.0    313.0  179.0   92.0  25.97   \n",
            "4234              0.0           0.0       0.0    207.0  126.5   80.0  19.71   \n",
            "4235              0.0           0.0       0.0    248.0  131.0   72.0  22.00   \n",
            "4236              0.0           0.0       0.0    210.0  126.5   87.0  19.16   \n",
            "4237              0.0           0.0       0.0    269.0  133.5   83.0  21.47   \n",
            "\n",
            "      heartRate  glucose  TenYearCHD  \n",
            "0          80.0    77.00         0.0  \n",
            "1          95.0    76.00         0.0  \n",
            "2          75.0    70.00         0.0  \n",
            "3          65.0   103.00         1.0  \n",
            "4          85.0    85.00         0.0  \n",
            "5          77.0    99.00         0.0  \n",
            "6          60.0    85.00         1.0  \n",
            "7          79.0    78.00         0.0  \n",
            "8          76.0    79.00         0.0  \n",
            "9          93.0    88.00         0.0  \n",
            "4228       85.0   260.00         0.0  \n",
            "4229       75.0     0.00         0.0  \n",
            "4230       57.0    22.89         0.0  \n",
            "4231       80.0    81.00         0.0  \n",
            "4232       60.0    79.00         1.0  \n",
            "4233       66.0    86.00         1.0  \n",
            "4234       65.0    68.00         0.0  \n",
            "4235       84.0    86.00         0.0  \n",
            "4236       86.0     0.00         0.0  \n",
            "4237       80.0   107.00         0.0  \n"
          ]
        },
        {
          "output_type": "stream",
          "name": "stderr",
          "text": [
            "<ipython-input-16-a415290b85ea>:6: FutureWarning: The frame.append method is deprecated and will be removed from pandas in a future version. Use pandas.concat instead.\n",
            "  print(df.head(10).append(df.tail(10))) #first 10 & last 10\n"
          ]
        }
      ]
    },
    {
      "cell_type": "markdown",
      "source": [
        "### Sigmoid Function"
      ],
      "metadata": {
        "id": "5sRpK78NZqzO"
      }
    },
    {
      "cell_type": "code",
      "source": [
        "def sigmoid(x):\n",
        "    return 1 / (1 + np.exp(-x))\n",
        "def  computeCost(theta,X,y):\n",
        "\n",
        "    m = float(len(y))\n",
        "\n",
        "    predictions = sigmoid(X.dot(theta))\n",
        "    cost = -(1/m) * (y.T.dot(np.log(predictions))+(1-y).T.dot(np.log(1-predictions)))\n",
        "    return cost"
      ],
      "metadata": {
        "jupyter": {
          "outputs_hidden": false
        },
        "id": "RUH4Wz3nZqzO"
      },
      "execution_count": 17,
      "outputs": []
    },
    {
      "cell_type": "markdown",
      "source": [
        "Now, we define our sigmoid function which is characteristic of logistic regression. Note: the sigmoid function has two equavalent forms (which is trivally easy to show):\n",
        "$$\n",
        "\\sigma(x)=\\frac{1}{1+e^{-x}}=\\frac{e^x}{e^x+1}\n",
        "$$\n",
        "In most  cases the former is better because it only calls the exponential function once, however, when x is very large it may be favorable to use the second form due to floating-point limitations.\n",
        "    \n",
        "<br>We also define a cost function to minimize."
      ],
      "metadata": {
        "id": "UV7PqTtYZqzP"
      }
    },
    {
      "cell_type": "markdown",
      "source": [
        "### Feature scaling"
      ],
      "metadata": {
        "id": "PldAijyRZqzP"
      }
    },
    {
      "cell_type": "markdown",
      "source": [
        "Then, we set our data for computation."
      ],
      "metadata": {
        "id": "m9XQgnURZqzQ"
      }
    },
    {
      "cell_type": "code",
      "source": [
        "df = df.to_numpy()\n",
        "X = df[:,0:-1]\n",
        "y = df[:,-1]\n",
        "y = y.reshape((len(y),1))\n",
        "n = X.shape[1]+1\n",
        "print(X.shape)"
      ],
      "metadata": {
        "jupyter": {
          "outputs_hidden": false
        },
        "id": "GqB8vWLuZqzQ",
        "outputId": "b9728721-6e5d-40cf-f505-16c7f05d10c1",
        "colab": {
          "base_uri": "https://localhost:8080/"
        }
      },
      "execution_count": 18,
      "outputs": [
        {
          "output_type": "stream",
          "name": "stdout",
          "text": [
            "(4238, 15)\n"
          ]
        }
      ]
    },
    {
      "cell_type": "markdown",
      "source": [
        "Next, as with all machine learning tasks where the scalar distance is involved, this data needs to be scaled, meaning that any feature which has a high numerical value does not dominate the fit. Note, the $y$ value does not need to be scaled because it is a vector and hence any scalar operations can be thought of as being performed *in the units of* $y$. In fact, if one does scale $Y$, then information is lost about the units of $Y$."
      ],
      "metadata": {
        "id": "fFfR39KPZqzR"
      }
    },
    {
      "cell_type": "code",
      "source": [
        "from sklearn import preprocessing\n",
        "scaler = preprocessing.RobustScaler()\n",
        "X_scaled = scaler.fit_transform(X)\n",
        "print(X_scaled.shape)\n",
        "print(scaler)\n",
        "X = X_scaled     #we want to use symbol X"
      ],
      "metadata": {
        "jupyter": {
          "outputs_hidden": false
        },
        "id": "5XeSHb-RZqzR",
        "outputId": "800ef555-401b-4df3-aa4b-086878affa68",
        "colab": {
          "base_uri": "https://localhost:8080/"
        }
      },
      "execution_count": 19,
      "outputs": [
        {
          "output_type": "stream",
          "name": "stdout",
          "text": [
            "(4238, 15)\n",
            "RobustScaler()\n"
          ]
        }
      ]
    },
    {
      "cell_type": "markdown",
      "source": [
        "Like linear regression, we append a column for the intercept."
      ],
      "metadata": {
        "id": "pGqtl0vMZqzR"
      }
    },
    {
      "cell_type": "code",
      "source": [
        "X_b = np.c_[np.ones((len(X),1)),X]\n",
        "theta = np.zeros((n,1))"
      ],
      "metadata": {
        "jupyter": {
          "outputs_hidden": false
        },
        "id": "4Wv7HiZbZqzR"
      },
      "execution_count": 20,
      "outputs": []
    },
    {
      "cell_type": "markdown",
      "source": [
        "### Gradient Descent"
      ],
      "metadata": {
        "id": "enMQkE7dZqzS"
      }
    },
    {
      "cell_type": "markdown",
      "source": [
        "First we define the algorithm for gradient descent."
      ],
      "metadata": {
        "id": "YoIlRVIhZqzS"
      }
    },
    {
      "cell_type": "code",
      "source": [
        "def gradient_descent(X,y,theta,alpha=0.01,iterations=100):\n",
        "    '''\n",
        "    X    = Matrix of X with added bias units\n",
        "    y    = Vector of Y\n",
        "    theta = Vector of thetas np.random.randn(j,1)\n",
        "    alpha\n",
        "    iterations = no of iterations\"\n",
        "\n",
        "    Returns the final theta vector and array of cost history over no of iterations\n",
        "    '''\n",
        "    m = float(y.shape[0])\n",
        "    cost_history = np.zeros(iterations)\n",
        "    theta_history = np.zeros((iterations,X.shape[1]))\n",
        "    for it in range(iterations):\n",
        "\n",
        "        prediction = sigmoid(X.dot(theta))\n",
        "        #print(prediction)\n",
        "        #print(np.dot(X.T,prediction - y))\n",
        "        theta = theta -(1/m)*alpha*(X.T.dot((prediction - y)))\n",
        "        theta_history[it,:] = theta.T\n",
        "        cost_history[it]  = computeCost(theta,X,y)\n",
        "\n",
        "    return theta, cost_history, theta_history"
      ],
      "metadata": {
        "jupyter": {
          "outputs_hidden": false
        },
        "id": "SU1LngAuZqzT"
      },
      "execution_count": 21,
      "outputs": []
    },
    {
      "cell_type": "markdown",
      "source": [
        "Now, we can do gradient descent, get the coefficients in the hypothesis and also observe the change of the cost_function."
      ],
      "metadata": {
        "id": "NSkgtSaPZqzT"
      }
    },
    {
      "cell_type": "code",
      "source": [
        "alpha =0.01\n",
        "n_iter =10000\n",
        "\n",
        "theta,cost_history,theta_history = gradient_descent(X_b,y,theta,alpha,n_iter)\n",
        "print(theta)"
      ],
      "metadata": {
        "jupyter": {
          "outputs_hidden": false
        },
        "id": "yULORVxBZqzU",
        "outputId": "ab467cf5-e22b-41f5-e047-d92e09886497",
        "colab": {
          "base_uri": "https://localhost:8080/"
        }
      },
      "execution_count": 22,
      "outputs": [
        {
          "output_type": "stream",
          "name": "stdout",
          "text": [
            "[[-2.30069888]\n",
            " [ 0.36272945]\n",
            " [ 0.81885965]\n",
            " [-0.00580898]\n",
            " [-0.0397411 ]\n",
            " [ 0.31949361]\n",
            " [-0.00401066]\n",
            " [ 0.10414726]\n",
            " [ 0.05950041]\n",
            " [ 0.13066747]\n",
            " [ 0.05373056]\n",
            " [ 0.40724544]\n",
            " [ 0.02110098]\n",
            " [-0.01310861]\n",
            " [-0.02929033]\n",
            " [ 0.06574033]]\n"
          ]
        }
      ]
    },
    {
      "cell_type": "code",
      "source": [
        "import matplotlib.pyplot as plt\n",
        "plt.plot(cost_history)\n",
        "plt.xlabel(\"Iteration\")\n",
        "plt.ylabel(\"$J(\\Theta)$\")\n",
        "#plt.yscale(\"log\")\n",
        "plt.title(\"Cost function using Gradient Descent\")"
      ],
      "metadata": {
        "jupyter": {
          "outputs_hidden": false
        },
        "id": "TgIUOxdnZqzU",
        "outputId": "5949de64-5b4b-46b0-9987-5a77886a6c9a",
        "colab": {
          "base_uri": "https://localhost:8080/",
          "height": 490
        }
      },
      "execution_count": 23,
      "outputs": [
        {
          "output_type": "execute_result",
          "data": {
            "text/plain": [
              "Text(0.5, 1.0, 'Cost function using Gradient Descent')"
            ]
          },
          "metadata": {},
          "execution_count": 23
        },
        {
          "output_type": "display_data",
          "data": {
            "text/plain": [
              "<Figure size 640x480 with 1 Axes>"
            ],
            "image/png": "[encoded data removed]"
          },
          "metadata": {}
        }
      ]
    },
    {
      "cell_type": "code",
      "source": [
        "print('Final Cost is :', cost_history[-1])\n"
      ],
      "metadata": {
        "jupyter": {
          "outputs_hidden": false
        },
        "id": "TV1AcUCKZqzU",
        "outputId": "f0f7c538-4e60-4930-e2c7-11fc08eac414",
        "colab": {
          "base_uri": "https://localhost:8080/"
        }
      },
      "execution_count": 24,
      "outputs": [
        {
          "output_type": "stream",
          "name": "stdout",
          "text": [
            "Final Cost is : 0.3818547695875687\n"
          ]
        }
      ]
    },
    {
      "cell_type": "markdown",
      "source": [
        "As is common in gradient descent, the cost function decrases rapidly at the beginning then levels off very quickly."
      ],
      "metadata": {
        "id": "UmHG6WWXZqzU"
      }
    },
    {
      "cell_type": "markdown",
      "source": [
        "### Regularization"
      ],
      "metadata": {
        "id": "QfTD_ZsMZqzU"
      }
    },
    {
      "cell_type": "markdown",
      "source": [
        "However, a concept known as regularization can be used to improve generality of the fit i.e. make it more suited to classifying unseen data, hence avoiding the problem of overfitting. <br>In statistics, overfitting is the production of an analysis that corresponds too closely or exactly to a particular set of data, and may therefore fail to fit additional data or predict future observations reliably.\n",
        "    \n",
        "<br>To do this, we need to introduce a regularization constant $\\lambda$, and redefine our cost function."
      ],
      "metadata": {
        "id": "b3Cqp8AtZqzU"
      }
    },
    {
      "cell_type": "code",
      "source": [
        "def  RegcomputeCost(theta,X,y,reg=0):\n",
        "\n",
        "    m = float(len(y))\n",
        "\n",
        "    predictions = sigmoid(X.dot(theta))\n",
        "    theta2 = np.square(theta)\n",
        "    cost = -(1/m) * (y.T.dot(np.log(predictions))+(1-y).T.dot(np.log(1-predictions))) + (reg/(2*m))*np.sum(theta2)\n",
        "    return cost"
      ],
      "metadata": {
        "jupyter": {
          "outputs_hidden": false
        },
        "id": "LdNdidXyZqzV"
      },
      "execution_count": 25,
      "outputs": []
    },
    {
      "cell_type": "markdown",
      "source": [
        "Here, the additional term  \n",
        "$$\n",
        "\\frac{\\lambda}{2m}\\sum^{n}_{j=1}\\theta_j^2\n",
        "$$\n",
        "in the cost is the regularization term."
      ],
      "metadata": {
        "id": "ubX5QmXuZqzV"
      }
    },
    {
      "cell_type": "markdown",
      "source": [
        "Since the cost function has changed, the function within gradient descent needs to change too. Essentially the formula for updating gradient descnet is $\\theta_j:=\\theta_j-\\alpha\\nabla J(\\theta)$. This formula has been implemented previously without explicitly using the derivative of the cost function since the functions inside the derivative can be explicitly defined. However, the derivative of the regularized cost function is piecewise since, by convention, the intercept ($\\theta_0$) is not regularized; this means that the subtraction operation must be performed on theta twice—once for the gradient of the cost function, the second time for the gradient of the regularization term which does not apply to $\\theta_0$."
      ],
      "metadata": {
        "id": "KyW7c5Z9ZqzV"
      }
    },
    {
      "cell_type": "code",
      "source": [
        "def Reggradient_descent(X,y,theta,alpha=0.01,iterations=100,reg=0):\n",
        "    '''\n",
        "    X    = Matrix of X with added bias units\n",
        "    y    = Vector of Y\n",
        "    theta=Vector of thetas np.random.randn(j,1)\n",
        "    alpha\n",
        "    iterations = no of iterations\n",
        "\n",
        "    Returns the final theta vector and array of cost history over no of iterations\n",
        "    '''\n",
        "    m = float(y.shape[0])\n",
        "    cost_history = np.zeros(iterations)\n",
        "    theta_history = np.zeros((iterations,X.shape[1]))\n",
        "    for it in range(iterations):\n",
        "        prediction = sigmoid(X.dot(theta))\n",
        "        theta = theta -(1/m)*alpha*(X.T.dot((prediction - y)))\n",
        "        theta[1:] = theta[1:]-alpha*reg*(1/m)*theta[1:]\n",
        "        theta_history[it,:] = theta.T\n",
        "        cost_history[it]  = RegcomputeCost(theta,X,y,reg)\n",
        "\n",
        "    return theta, cost_history, theta_history"
      ],
      "metadata": {
        "jupyter": {
          "outputs_hidden": false
        },
        "id": "zYeVzTBuZqzV"
      },
      "execution_count": 26,
      "outputs": []
    },
    {
      "cell_type": "markdown",
      "source": [
        "Now, running the regularized gradient descent with the same parameters as above."
      ],
      "metadata": {
        "id": "IHqVWgXuZqzV"
      }
    },
    {
      "cell_type": "code",
      "source": [
        "theta = np.zeros((n,1))\n",
        "reg = 0.1\n",
        "theta,cost_history,theta_history = Reggradient_descent(X_b,y,theta,alpha,n_iter,reg)\n",
        "print(theta)\n"
      ],
      "metadata": {
        "jupyter": {
          "outputs_hidden": false
        },
        "id": "E8cpK2GvZqzV",
        "outputId": "18564624-495d-4482-b356-a7cafd40f493",
        "colab": {
          "base_uri": "https://localhost:8080/"
        }
      },
      "execution_count": 27,
      "outputs": [
        {
          "output_type": "stream",
          "name": "stdout",
          "text": [
            "[[-2.30056803]\n",
            " [ 0.36257834]\n",
            " [ 0.81844502]\n",
            " [-0.00580875]\n",
            " [-0.03952277]\n",
            " [ 0.31924781]\n",
            " [-0.00400995]\n",
            " [ 0.10403911]\n",
            " [ 0.05971805]\n",
            " [ 0.13056079]\n",
            " [ 0.05374645]\n",
            " [ 0.40712007]\n",
            " [ 0.02114385]\n",
            " [-0.01309572]\n",
            " [-0.02929106]\n",
            " [ 0.06575062]]\n"
          ]
        }
      ]
    },
    {
      "cell_type": "code",
      "source": [
        "import matplotlib.pyplot as plt\n",
        "plt.plot(cost_history)\n",
        "plt.xlabel(\"Iteration\")\n",
        "plt.ylabel(\"$J(\\Theta)$\")\n",
        "#plt.yscale(\"log\")\n",
        "plt.title(\"Cost function using Gradient Descent with Regularization\")"
      ],
      "metadata": {
        "jupyter": {
          "outputs_hidden": false
        },
        "id": "viljwf2hZqzW",
        "outputId": "b3045eb7-8d75-4650-996a-2116d15ce52e",
        "colab": {
          "base_uri": "https://localhost:8080/",
          "height": 490
        }
      },
      "execution_count": 28,
      "outputs": [
        {
          "output_type": "execute_result",
          "data": {
            "text/plain": [
              "Text(0.5, 1.0, 'Cost function using Gradient Descent with Regularization')"
            ]
          },
          "metadata": {},
          "execution_count": 28
        },
        {
          "output_type": "display_data",
          "data": {
            "text/plain": [
              "<Figure size 640x480 with 1 Axes>"
            ],
            "image/png": "[encoded data removed]"
          },
          "metadata": {}
        }
      ]
    },
    {
      "cell_type": "code",
      "source": [
        "print('Final Cost is :', cost_history[-1])"
      ],
      "metadata": {
        "jupyter": {
          "outputs_hidden": false
        },
        "id": "WiQRr8FsZqzW",
        "outputId": "eaa0a7e2-11e0-44fe-86b9-37c80d979551",
        "colab": {
          "base_uri": "https://localhost:8080/"
        }
      },
      "execution_count": 29,
      "outputs": [
        {
          "output_type": "stream",
          "name": "stdout",
          "text": [
            "Final Cost is : 0.38193132941630187\n"
          ]
        }
      ]
    },
    {
      "cell_type": "markdown",
      "source": [
        "From this, the final cost using the same parameters is very much the same as that using the unregularized version.  <br>In some sense, the result reflects that there's no overfitting in this dataset， but we have showed what the method is like, anyway.<br>When faced with problems with very many features, it is best to use this version of the algorithm."
      ],
      "metadata": {
        "id": "leAhJOChZqzW"
      }
    },
    {
      "cell_type": "markdown",
      "source": [
        "### Prediction"
      ],
      "metadata": {
        "id": "RIGUWec6ZqzW"
      }
    },
    {
      "cell_type": "markdown",
      "source": [
        "With the hypothesis got, we are now trying to make a prediction.\n",
        "\n",
        "<br>Take a healthy person with :gender-1(male), age-25, education-4(college), current smoker-0, cigs_perday-0, bpmeds-0(not on blood pressure medication, prevalentstroke-0, prevalentHyp-0, diabetes-0, totChol-225, sysBP-100,diaBP-70,BMI-24, heartrate-72, glucose-64)\n",
        "\n",
        "<br>Note, since we are using $\\theta$s got from scaled data, we need to scale the feature before predicting."
      ],
      "metadata": {
        "id": "jC16J72YZqzW"
      }
    },
    {
      "cell_type": "code",
      "source": [
        "#so, X would be:\n",
        "X=np.asarray([1,25,4,0,0,0,0,0,0,225,100,70,24,72,64]).reshape(15,1)\n",
        "from sklearn import preprocessing\n",
        "scaler = preprocessing.RobustScaler()\n",
        "X_scaled = scaler.fit_transform(X)# scaling\n",
        "X = X_scaled.reshape(1,15)\n",
        "X=np.c_[np.mat([[1]]),X]\n",
        "print('the variable of sigmoid function(linear function):',np.dot(X,theta),'sigmoid function:',1/(1+np.exp(-np.dot(X,theta))))\n"
      ],
      "metadata": {
        "jupyter": {
          "outputs_hidden": false
        },
        "id": "lwe27kXIZqzW",
        "outputId": "11fc98a5-84ec-4239-b85a-5dcbf1368ad4",
        "colab": {
          "base_uri": "https://localhost:8080/"
        }
      },
      "execution_count": 30,
      "outputs": [
        {
          "output_type": "stream",
          "name": "stdout",
          "text": [
            "the variable of sigmoid function(linear function): [[-1.28761587]] sigmoid function: [[0.21625662]]\n"
          ]
        }
      ]
    },
    {
      "cell_type": "markdown",
      "source": [
        "We predict $y=0$ (he will not have a heart disease in the next 10 years) when the linear part $\\leq0$ and sigmoid function $\\leq0.5$, which accords with the data given."
      ],
      "metadata": {
        "id": "r4VrXDgYZqzW"
      }
    },
    {
      "cell_type": "markdown",
      "source": [
        "## Example 3"
      ],
      "metadata": {
        "id": "Ttp4-92JZqzW"
      }
    },
    {
      "cell_type": "markdown",
      "source": [
        "In logistic regression, decision boundary is important and can clearly show the classification. Therefore, we plan to make the figure of decision boundary in the following, which is the main task in the example."
      ],
      "metadata": {
        "id": "gS7-BwY8ZqzW"
      }
    },
    {
      "cell_type": "markdown",
      "source": [
        "### Data Layer"
      ],
      "metadata": {
        "id": "4buTo_8VZqzW"
      }
    },
    {
      "cell_type": "markdown",
      "source": [
        "The idea is to use the scores of 2 exams to predict whether a person is admitted.\n",
        "<br>Data source:https://www.kaggle.com/chadansharma/logistic-regression-practice\n",
        "<br><br>Have a look at the data:"
      ],
      "metadata": {
        "id": "ltq5FBWDZqzW"
      }
    },
    {
      "cell_type": "code",
      "source": [
        "import pandas as pd\n",
        "from pandas import DataFrame\n"
      ],
      "metadata": {
        "jupyter": {
          "outputs_hidden": false
        },
        "id": "0HENPfMKZqzX"
      },
      "execution_count": 31,
      "outputs": []
    },
    {
      "cell_type": "code",
      "source": [
        "df = pd.read_csv(\"/content/PHYS3151-Machine-Learning-in-Physics-2024/logistic-regression/logistic-regression-example-3.csv\", sep=\",\")\n",
        "\n",
        "print (df.head(10).append(df.tail(10)))"
      ],
      "metadata": {
        "jupyter": {
          "outputs_hidden": false
        },
        "trusted": true,
        "id": "IeeulHq0ZqzX",
        "outputId": "1eb4fea4-6759-4287-9124-fa324eed66c7",
        "colab": {
          "base_uri": "https://localhost:8080/"
        }
      },
      "execution_count": 32,
      "outputs": [
        {
          "output_type": "stream",
          "name": "stdout",
          "text": [
            "     1st_exam   2nd_exam  admitted\n",
            "0   34.623660  78.024693         0\n",
            "1   30.286711  43.894998         0\n",
            "2   35.847409  72.902198         0\n",
            "3   60.182599  86.308552         1\n",
            "4   79.032736  75.344376         1\n",
            "5   45.083277  56.316372         0\n",
            "6   61.106665  96.511426         1\n",
            "7   75.024746  46.554014         1\n",
            "8   76.098787  87.420570         1\n",
            "9   84.432820  43.533393         1\n",
            "90  94.094331  77.159105         1\n",
            "91  90.448551  87.508792         1\n",
            "92  55.482161  35.570703         0\n",
            "93  74.492692  84.845137         1\n",
            "94  89.845807  45.358284         1\n",
            "95  83.489163  48.380286         1\n",
            "96  42.261701  87.103851         1\n",
            "97  99.315009  68.775409         1\n",
            "98  55.340018  64.931938         1\n",
            "99  74.775893  89.529813         1\n"
          ]
        },
        {
          "output_type": "stream",
          "name": "stderr",
          "text": [
            "<ipython-input-32-0686ecb50869>:3: FutureWarning: The frame.append method is deprecated and will be removed from pandas in a future version. Use pandas.concat instead.\n",
            "  print (df.head(10).append(df.tail(10)))\n"
          ]
        }
      ]
    },
    {
      "cell_type": "markdown",
      "source": [
        "### Logistic Regression"
      ],
      "metadata": {
        "id": "AtcyjrVuZqzX"
      }
    },
    {
      "cell_type": "markdown",
      "source": [
        "Then we define the functions we need as before."
      ],
      "metadata": {
        "id": "ADW46CCGZqzX"
      }
    },
    {
      "cell_type": "code",
      "source": [
        "def sigmoid(x):\n",
        "    return 1 / (1 + np.exp(-x))\n",
        "def  computeCost(theta,X,y):\n",
        "\n",
        "    m = float(len(y))\n",
        "\n",
        "    predictions = sigmoid(X.dot(theta))\n",
        "    cost = -(1/m) * (y.T.dot(np.log(predictions))+(1-y).T.dot(np.log(1-predictions)))\n",
        "    return cost"
      ],
      "metadata": {
        "jupyter": {
          "outputs_hidden": false
        },
        "id": "uAB2j6VVZqzX"
      },
      "execution_count": 33,
      "outputs": []
    },
    {
      "cell_type": "code",
      "source": [
        "def gradient_descent(X,y,theta,alpha=0.01,iterations=100):\n",
        "    '''\n",
        "    X    = Matrix of X with added bias units\n",
        "    y    = Vector of Y\n",
        "    theta=Vector of thetas np.random.randn(j,1)\n",
        "    alpha\n",
        "    iterations = no of iterations\"\n",
        "\n",
        "    Returns the final theta vector and array of cost history over no of iterations\n",
        "    '''\n",
        "    m = float(y.shape[0])\n",
        "    cost_history = np.zeros(iterations)\n",
        "    theta_history = np.zeros((iterations,X.shape[1]))\n",
        "    for it in range(iterations):\n",
        "\n",
        "        prediction = sigmoid(X.dot(theta))\n",
        "        #print(prediction)\n",
        "        #print(np.dot(X.T,prediction - y))\n",
        "        theta = theta -(1/m)*alpha*(X.T.dot((prediction - y)))\n",
        "        theta_history[it,:] = theta.T\n",
        "        cost_history[it]  = computeCost(theta,X,y)\n",
        "\n",
        "    return theta, cost_history, theta_history"
      ],
      "metadata": {
        "jupyter": {
          "outputs_hidden": false
        },
        "id": "6xBeME3PZqzX"
      },
      "execution_count": 34,
      "outputs": []
    },
    {
      "cell_type": "markdown",
      "source": [
        "### Feature Scaling"
      ],
      "metadata": {
        "id": "c6BlxRGaZqzX"
      }
    },
    {
      "cell_type": "markdown",
      "source": [
        "Now, we prepare the data for computation, including feature scaling and adding a column to X to fit $\\theta$."
      ],
      "metadata": {
        "id": "2op9-pNnZqzX"
      }
    },
    {
      "cell_type": "code",
      "source": [
        "df = df.to_numpy()\n",
        "X = df[:,0:-1]\n",
        "y = df[:,-1]\n",
        "y = y.reshape((len(y),1))\n",
        "n = X.shape[1]+1\n",
        "print(X.shape)"
      ],
      "metadata": {
        "jupyter": {
          "outputs_hidden": false
        },
        "id": "lvfChynAZqzX",
        "outputId": "15942af0-b31e-4986-aec5-926a27b52fa4",
        "colab": {
          "base_uri": "https://localhost:8080/"
        }
      },
      "execution_count": 35,
      "outputs": [
        {
          "output_type": "stream",
          "name": "stdout",
          "text": [
            "(100, 2)\n"
          ]
        }
      ]
    },
    {
      "cell_type": "code",
      "source": [
        "from sklearn import preprocessing\n",
        "scaler = preprocessing.RobustScaler()\n",
        "X_scaled = scaler.fit_transform(X)\n",
        "print(X_scaled.shape)\n",
        "print(scaler)\n",
        "X = X_scaled     #we want to use symbol X"
      ],
      "metadata": {
        "jupyter": {
          "outputs_hidden": false
        },
        "id": "WSA1Yv9kZqzY",
        "outputId": "093a1aaf-96bd-442f-dfc2-ed52f5be94f8",
        "colab": {
          "base_uri": "https://localhost:8080/"
        }
      },
      "execution_count": 36,
      "outputs": [
        {
          "output_type": "stream",
          "name": "stdout",
          "text": [
            "(100, 2)\n",
            "RobustScaler()\n"
          ]
        }
      ]
    },
    {
      "cell_type": "code",
      "source": [
        "X_b = np.c_[np.ones((len(X),1)),X]\n",
        "theta = np.zeros((n,1))"
      ],
      "metadata": {
        "jupyter": {
          "outputs_hidden": false
        },
        "id": "bxBHDYZlZqzY"
      },
      "execution_count": 37,
      "outputs": []
    },
    {
      "cell_type": "markdown",
      "source": [
        "### Implementation"
      ],
      "metadata": {
        "id": "dWxp1JfiZqzY"
      }
    },
    {
      "cell_type": "markdown",
      "source": [
        "With the data ready, we can now implement the functions to get the coefficients(parameters) in the hypothesis."
      ],
      "metadata": {
        "id": "CYvO5gpoZqzY"
      }
    },
    {
      "cell_type": "code",
      "source": [
        "alpha =0.1\n",
        "n_iter =10000\n",
        "\n",
        "theta,cost_history,theta_history = gradient_descent(X_b,y,theta,alpha,n_iter)\n",
        "print(theta)"
      ],
      "metadata": {
        "jupyter": {
          "outputs_hidden": false
        },
        "id": "YZq_sqnsZqzY",
        "outputId": "073ed376-190e-4881-c539-68c7588e8213",
        "colab": {
          "base_uri": "https://localhost:8080/"
        }
      },
      "execution_count": 38,
      "outputs": [
        {
          "output_type": "stream",
          "name": "stdout",
          "text": [
            "[[2.22404896]\n",
            " [5.85205301]\n",
            " [6.07565212]]\n"
          ]
        }
      ]
    },
    {
      "cell_type": "code",
      "source": [
        "import matplotlib.pyplot as plt\n",
        "plt.plot(cost_history)\n",
        "plt.xlabel(\"Iteration\")\n",
        "plt.ylabel(\"$J(\\Theta)$\")\n",
        "#plt.yscale(\"log\")\n",
        "plt.title(\"Cost function using Gradient Descent\")"
      ],
      "metadata": {
        "id": "20DY_cClX7Vk",
        "outputId": "f12afab8-d9f6-47f7-e4fe-845122cce258",
        "colab": {
          "base_uri": "https://localhost:8080/",
          "height": 490
        }
      },
      "execution_count": 39,
      "outputs": [
        {
          "output_type": "execute_result",
          "data": {
            "text/plain": [
              "Text(0.5, 1.0, 'Cost function using Gradient Descent')"
            ]
          },
          "metadata": {},
          "execution_count": 39
        },
        {
          "output_type": "display_data",
          "data": {
            "text/plain": [
              "<Figure size 640x480 with 1 Axes>"
            ],
            "image/png": "[encoded data removed]"
          },
          "metadata": {}
        }
      ]
    },
    {
      "cell_type": "markdown",
      "source": [
        "### Decision Boundary"
      ],
      "metadata": {
        "id": "UVetdreDZqzY"
      }
    },
    {
      "cell_type": "markdown",
      "source": [
        "Now we should have a better decision of what the hypothesis function is computing by drawing the decision boundary:\n",
        "With  $h_\\theta=g(\\theta_0+\\theta_1X_1+\\theta_2X_2)$ and $g(z)=\\frac{1}{1+e^{-z}}$, we predict $y=1$ if the sigmoild function $\\geq0.5$, so the boundary would be $\\theta_0+\\theta_1X_1+\\theta_2X_2=0$\n",
        "\n",
        "<br>Here, $\\theta_0=2.28,\\theta_1=5.996,\\theta_2=6.23$, so the decision boundary is:    $   5.996X_1+6.23X_2=-2.28$\n",
        "<br>Show it in the figure below.\n"
      ],
      "metadata": {
        "id": "KMWf_xT2ZqzY"
      }
    },
    {
      "cell_type": "markdown",
      "source": [
        "To scatter the two results respectively, set two datasets of differents results."
      ],
      "metadata": {
        "id": "Ixz22kXNZqzY"
      }
    },
    {
      "cell_type": "code",
      "source": [
        "#y=1 admitted(yes)\n",
        "yes_x=[]\n",
        "yes_y=[]\n",
        "#y=0 not admitted(no)\n",
        "no_x=[]\n",
        "no_y=[]\n",
        "for i in range(0,100):\n",
        "    if y[i]==0:\n",
        "        no_x.append(X_b[i][1])\n",
        "        no_y.append(X_b[i][2])\n",
        "    else:\n",
        "        yes_x.append(X_b[i][1])\n",
        "        yes_y.append(X_b[i][2])"
      ],
      "metadata": {
        "jupyter": {
          "outputs_hidden": false
        },
        "id": "FVoX-pgCZqzY"
      },
      "execution_count": 40,
      "outputs": []
    },
    {
      "cell_type": "markdown",
      "source": [
        "Since the features are scaled, we use those scaled data to plot.  Feature scaling doesn't change the inner relation of the variable, so the feature of the figure will not change anyway."
      ],
      "metadata": {
        "id": "eTL9YaelZqzY"
      }
    },
    {
      "cell_type": "code",
      "source": [
        "plt.xlabel('1st Exam(Scaled)')\n",
        "plt.ylabel('2nd Exam(Scaled)')\n",
        "plt.title('Admission Prediction')\n",
        "x=np.arange(-1,1,0.01)\n",
        "y=(-5.996/6.23)*x+(-2.28/6.23)\n",
        "plt.plot(x,y,label='Decision Boundary',color='green' )\n",
        "plt.scatter(yes_x,yes_y,label='Admitted')\n",
        "plt.scatter(no_x,no_y,label='Not Admitted')\n",
        "plt.legend()"
      ],
      "metadata": {
        "jupyter": {
          "outputs_hidden": false
        },
        "id": "w16HBxkGZqzZ",
        "outputId": "8c4758ba-aefd-41b9-b214-f208584a5394",
        "colab": {
          "base_uri": "https://localhost:8080/",
          "height": 490
        }
      },
      "execution_count": 41,
      "outputs": [
        {
          "output_type": "execute_result",
          "data": {
            "text/plain": [
              "<matplotlib.legend.Legend at 0x7c91c3ddbeb0>"
            ]
          },
          "metadata": {},
          "execution_count": 41
        },
        {
          "output_type": "display_data",
          "data": {
            "text/plain": [
              "<Figure size 640x480 with 1 Axes>"
            ],
            "image/png": "[encoded data removed]"
          },
          "metadata": {}
        }
      ]
    },
    {
      "cell_type": "markdown",
      "source": [
        "Nice, the decision boundary works well and makes the classification so clear."
      ],
      "metadata": {
        "id": "9VUmySgJZqzZ"
      }
    }
  ]
}